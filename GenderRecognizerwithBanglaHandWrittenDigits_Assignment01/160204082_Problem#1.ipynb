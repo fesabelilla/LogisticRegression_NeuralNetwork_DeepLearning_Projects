{
  "nbformat": 4,
  "nbformat_minor": 0,
  "metadata": {
    "colab": {
      "name": "Assignment01.ipynb",
      "provenance": [],
      "collapsed_sections": []
    },
    "kernelspec": {
      "name": "python3",
      "display_name": "Python 3"
    },
    "accelerator": "GPU"
  },
  "cells": [
    {
      "cell_type": "markdown",
      "metadata": {
        "id": "Kcb_o02_KCoy"
      },
      "source": [
        "## **Identify Bengali Handwritten Digits**\r\n",
        "\r\n",
        "- **Dataset**\r\n",
        "    - [NumtaDB: Bengali Handwritten Digits](https://www.kaggle.com/BengaliAI/numta/)\r\n",
        "- **Train data set 90%**\r\n",
        "-**Test data set 10%**"
      ]
    },
    {
      "cell_type": "markdown",
      "metadata": {
        "id": "-xG-GQroLH7i"
      },
      "source": [
        "**Install dependencies**"
      ]
    },
    {
      "cell_type": "code",
      "metadata": {
        "id": "lXQ1ogtfdAWG",
        "colab": {
          "base_uri": "https://localhost:8080/"
        },
        "outputId": "6447fd4f-3751-4fc4-db22-374131dfd4b2"
      },
      "source": [
        "\r\n",
        "!pip install kaggle"
      ],
      "execution_count": null,
      "outputs": [
        {
          "output_type": "stream",
          "text": [
            "Requirement already satisfied: kaggle in /usr/local/lib/python3.6/dist-packages (1.5.10)\n",
            "Requirement already satisfied: urllib3 in /usr/local/lib/python3.6/dist-packages (from kaggle) (1.24.3)\n",
            "Requirement already satisfied: python-dateutil in /usr/local/lib/python3.6/dist-packages (from kaggle) (2.8.1)\n",
            "Requirement already satisfied: certifi in /usr/local/lib/python3.6/dist-packages (from kaggle) (2020.12.5)\n",
            "Requirement already satisfied: requests in /usr/local/lib/python3.6/dist-packages (from kaggle) (2.23.0)\n",
            "Requirement already satisfied: python-slugify in /usr/local/lib/python3.6/dist-packages (from kaggle) (4.0.1)\n",
            "Requirement already satisfied: six>=1.10 in /usr/local/lib/python3.6/dist-packages (from kaggle) (1.15.0)\n",
            "Requirement already satisfied: tqdm in /usr/local/lib/python3.6/dist-packages (from kaggle) (4.41.1)\n",
            "Requirement already satisfied: idna<3,>=2.5 in /usr/local/lib/python3.6/dist-packages (from requests->kaggle) (2.10)\n",
            "Requirement already satisfied: chardet<4,>=3.0.2 in /usr/local/lib/python3.6/dist-packages (from requests->kaggle) (3.0.4)\n",
            "Requirement already satisfied: text-unidecode>=1.3 in /usr/local/lib/python3.6/dist-packages (from python-slugify->kaggle) (1.3)\n"
          ],
          "name": "stdout"
        }
      ]
    },
    {
      "cell_type": "markdown",
      "metadata": {
        "id": "JL0RJTUJLRpA"
      },
      "source": [
        "**Kaggle User API Import** "
      ]
    },
    {
      "cell_type": "code",
      "metadata": {
        "colab": {
          "resources": {
            "http://localhost:8080/nbextensions/google.colab/files.js": {
              "data": "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",
              "ok": true,
              "headers": [
                [
                  "content-type",
                  "application/javascript"
                ]
              ],
              "status": 200,
              "status_text": ""
            }
          },
          "base_uri": "https://localhost:8080/",
          "height": 110
        },
        "id": "YwEeY4C-LsgZ",
        "outputId": "939558dd-86f0-445e-ab8b-ed3e8cd91687"
      },
      "source": [
        "from google.colab import files\r\n",
        "files.upload()"
      ],
      "execution_count": null,
      "outputs": [
        {
          "output_type": "display_data",
          "data": {
            "text/html": [
              "\n",
              "     <input type=\"file\" id=\"files-574f7c21-8ecd-4cb5-a7f3-6b6ca27f81a5\" name=\"files[]\" multiple disabled\n",
              "        style=\"border:none\" />\n",
              "     <output id=\"result-574f7c21-8ecd-4cb5-a7f3-6b6ca27f81a5\">\n",
              "      Upload widget is only available when the cell has been executed in the\n",
              "      current browser session. Please rerun this cell to enable.\n",
              "      </output>\n",
              "      <script src=\"/nbextensions/google.colab/files.js\"></script> "
            ],
            "text/plain": [
              "<IPython.core.display.HTML object>"
            ]
          },
          "metadata": {
            "tags": []
          }
        },
        {
          "output_type": "stream",
          "text": [
            "Saving kaggle.json to kaggle.json\n"
          ],
          "name": "stdout"
        },
        {
          "output_type": "execute_result",
          "data": {
            "text/plain": [
              "{'kaggle.json': b'{\"username\":\"mdzahidfesabelilla\",\"key\":\"4cbf3deb9ef668a2834a53c5259e67e1\"}'}"
            ]
          },
          "metadata": {
            "tags": []
          },
          "execution_count": 4
        }
      ]
    },
    {
      "cell_type": "markdown",
      "metadata": {
        "id": "qZtakTLkL3YF"
      },
      "source": [
        "**Change file access permission** "
      ]
    },
    {
      "cell_type": "code",
      "metadata": {
        "id": "XkP5Xbc5MQYO"
      },
      "source": [
        "!mkdir -p ~/.kaggle\r\n",
        "!cp kaggle.json ~/.kaggle\r\n",
        "\r\n",
        "#change permission\r\n",
        "!chmod 600 ~/.kaggle/kaggle.json"
      ],
      "execution_count": null,
      "outputs": []
    },
    {
      "cell_type": "code",
      "metadata": {
        "colab": {
          "base_uri": "https://localhost:8080/"
        },
        "id": "Yo1HlMYEM1G_",
        "outputId": "7feddedd-8281-410d-df14-7639f6685b3c"
      },
      "source": [
        " !kaggle datasets download -d BengaliAI/numta"
      ],
      "execution_count": null,
      "outputs": [
        {
          "output_type": "stream",
          "text": [
            "numta.zip: Skipping, found more recently modified local copy (use --force to force download)\n"
          ],
          "name": "stdout"
        }
      ]
    },
    {
      "cell_type": "markdown",
      "metadata": {
        "id": "FCCAd6l6MNXd"
      },
      "source": [
        "**Unzip Dataset**"
      ]
    },
    {
      "cell_type": "code",
      "metadata": {
        "colab": {
          "base_uri": "https://localhost:8080/"
        },
        "id": "b3Bx0tpJNM9_",
        "outputId": "b5e3f6d7-9fc1-459c-f95d-2439c7c2064f"
      },
      "source": [
        "from zipfile import ZipFile\r\n",
        "fileName = \"numta.zip\"\r\n",
        "\r\n",
        "with ZipFile(fileName,'r') as zip:\r\n",
        "  zip.extractall()\r\n",
        "  print('Done')\r\n"
      ],
      "execution_count": null,
      "outputs": [
        {
          "output_type": "stream",
          "text": [
            "Done\n"
          ],
          "name": "stdout"
        }
      ]
    },
    {
      "cell_type": "markdown",
      "metadata": {
        "id": "Sn5zDCK1MXbZ"
      },
      "source": [
        "**Show 'training-a.csv' file first top 5 row**"
      ]
    },
    {
      "cell_type": "code",
      "metadata": {
        "colab": {
          "base_uri": "https://localhost:8080/",
          "height": 249
        },
        "id": "G4FHuIBaN0zh",
        "outputId": "e38c3f04-9824-40b5-d04e-7d7f1b372f4a"
      },
      "source": [
        "import pandas as pd\r\n",
        "df = pd.read_csv('training-a.csv')\r\n",
        "df.head()\r\n"
      ],
      "execution_count": null,
      "outputs": [
        {
          "output_type": "execute_result",
          "data": {
            "text/html": [
              "<div>\n",
              "<style scoped>\n",
              "    .dataframe tbody tr th:only-of-type {\n",
              "        vertical-align: middle;\n",
              "    }\n",
              "\n",
              "    .dataframe tbody tr th {\n",
              "        vertical-align: top;\n",
              "    }\n",
              "\n",
              "    .dataframe thead th {\n",
              "        text-align: right;\n",
              "    }\n",
              "</style>\n",
              "<table border=\"1\" class=\"dataframe\">\n",
              "  <thead>\n",
              "    <tr style=\"text-align: right;\">\n",
              "      <th></th>\n",
              "      <th>filename</th>\n",
              "      <th>original filename</th>\n",
              "      <th>scanid</th>\n",
              "      <th>digit</th>\n",
              "      <th>database name original</th>\n",
              "      <th>contributing team</th>\n",
              "      <th>database name</th>\n",
              "    </tr>\n",
              "  </thead>\n",
              "  <tbody>\n",
              "    <tr>\n",
              "      <th>0</th>\n",
              "      <td>a00000.png</td>\n",
              "      <td>Scan_58_digit_5_num_8.png</td>\n",
              "      <td>58</td>\n",
              "      <td>5</td>\n",
              "      <td>BHDDB</td>\n",
              "      <td>Buet_Broncos</td>\n",
              "      <td>training-a</td>\n",
              "    </tr>\n",
              "    <tr>\n",
              "      <th>1</th>\n",
              "      <td>a00001.png</td>\n",
              "      <td>Scan_73_digit_3_num_5.png</td>\n",
              "      <td>73</td>\n",
              "      <td>3</td>\n",
              "      <td>BHDDB</td>\n",
              "      <td>Buet_Broncos</td>\n",
              "      <td>training-a</td>\n",
              "    </tr>\n",
              "    <tr>\n",
              "      <th>2</th>\n",
              "      <td>a00002.png</td>\n",
              "      <td>Scan_18_digit_1_num_3.png</td>\n",
              "      <td>18</td>\n",
              "      <td>1</td>\n",
              "      <td>BHDDB</td>\n",
              "      <td>Buet_Broncos</td>\n",
              "      <td>training-a</td>\n",
              "    </tr>\n",
              "    <tr>\n",
              "      <th>3</th>\n",
              "      <td>a00003.png</td>\n",
              "      <td>Scan_166_digit_7_num_3.png</td>\n",
              "      <td>166</td>\n",
              "      <td>7</td>\n",
              "      <td>BHDDB</td>\n",
              "      <td>Buet_Broncos</td>\n",
              "      <td>training-a</td>\n",
              "    </tr>\n",
              "    <tr>\n",
              "      <th>4</th>\n",
              "      <td>a00004.png</td>\n",
              "      <td>Scan_108_digit_0_num_1.png</td>\n",
              "      <td>108</td>\n",
              "      <td>0</td>\n",
              "      <td>BHDDB</td>\n",
              "      <td>Buet_Broncos</td>\n",
              "      <td>training-a</td>\n",
              "    </tr>\n",
              "  </tbody>\n",
              "</table>\n",
              "</div>"
            ],
            "text/plain": [
              "     filename           original filename  ...  contributing team  database name\n",
              "0  a00000.png   Scan_58_digit_5_num_8.png  ...       Buet_Broncos     training-a\n",
              "1  a00001.png   Scan_73_digit_3_num_5.png  ...       Buet_Broncos     training-a\n",
              "2  a00002.png   Scan_18_digit_1_num_3.png  ...       Buet_Broncos     training-a\n",
              "3  a00003.png  Scan_166_digit_7_num_3.png  ...       Buet_Broncos     training-a\n",
              "4  a00004.png  Scan_108_digit_0_num_1.png  ...       Buet_Broncos     training-a\n",
              "\n",
              "[5 rows x 7 columns]"
            ]
          },
          "metadata": {
            "tags": []
          },
          "execution_count": 10
        }
      ]
    },
    {
      "cell_type": "code",
      "metadata": {
        "id": "cmoJ1El1ORpw"
      },
      "source": [
        "import os\r\n",
        "from os import path\r\n",
        "import shutil\r\n",
        "import numpy as np\r\n",
        "import pandas as pd\r\n",
        "import torch\r\n",
        "import torch.nn as nn\r\n",
        "import torch.nn.functional as F\r\n",
        "import torch.optim as optim\r\n",
        "from torch.utils.data import Dataset\r\n",
        "from torch.utils.data.sampler import SubsetRandomSampler\r\n",
        "from torchvision import datasets, transforms, models\r\n",
        "import matplotlib\r\n",
        "import matplotlib.pyplot as plt\r\n",
        "from PIL import Image"
      ],
      "execution_count": null,
      "outputs": []
    },
    {
      "cell_type": "code",
      "metadata": {
        "colab": {
          "base_uri": "https://localhost:8080/"
        },
        "id": "1X9LvpbWPNHo",
        "outputId": "ac59c6e9-fdc4-4ba6-8014-48f1129f31eb"
      },
      "source": [
        "PATH = '/content/'\r\n",
        "os.listdir(PATH)"
      ],
      "execution_count": null,
      "outputs": [
        {
          "output_type": "execute_result",
          "data": {
            "text/plain": [
              "['.config',\n",
              " 'testing-f',\n",
              " 'training-a',\n",
              " 'numta.zip',\n",
              " 'testing-auga',\n",
              " 'training-b',\n",
              " 'testing-a',\n",
              " 'training-b.csv',\n",
              " 'training-a.csv',\n",
              " 'training-c',\n",
              " 'testing-e',\n",
              " 'training-e',\n",
              " 'training-c.csv',\n",
              " 'training-d',\n",
              " 'testing-b',\n",
              " 'testing-augc',\n",
              " 'training-d.csv',\n",
              " 'training-e.csv',\n",
              " 'testing-d',\n",
              " 'kaggle.json',\n",
              " 'testing-c',\n",
              " 'testing-all-corrected',\n",
              " 'sample_data']"
            ]
          },
          "metadata": {
            "tags": []
          },
          "execution_count": 12
        }
      ]
    },
    {
      "cell_type": "code",
      "metadata": {
        "id": "bDk70bp4PVQQ"
      },
      "source": [
        "def showRawTrainingSamples(csv_filename):\r\n",
        "  df = pd.read_csv(PATH + csv_filename)\r\n",
        "  print(csv_filename)\r\n",
        "  print(df.columns)\r\n",
        "  return df"
      ],
      "execution_count": null,
      "outputs": []
    },
    {
      "cell_type": "markdown",
      "metadata": {
        "id": "MpETX0BHM0R5"
      },
      "source": [
        "**Show all column name**"
      ]
    },
    {
      "cell_type": "code",
      "metadata": {
        "colab": {
          "base_uri": "https://localhost:8080/"
        },
        "id": "sXPZQgFCQW-Z",
        "outputId": "26448aab-4f88-4b05-80fe-32ce861322bd"
      },
      "source": [
        "a_csv = showRawTrainingSamples('training-a.csv')\r\n",
        "c_csv = showRawTrainingSamples('training-c.csv')"
      ],
      "execution_count": null,
      "outputs": [
        {
          "output_type": "stream",
          "text": [
            "training-a.csv\n",
            "Index(['filename', 'original filename', 'scanid', 'digit',\n",
            "       'database name original', 'contributing team', 'database name'],\n",
            "      dtype='object')\n",
            "training-c.csv\n",
            "Index(['filename', 'original filename', 'scanid', 'digit',\n",
            "       'database name original', 'contributing team', 'database name'],\n",
            "      dtype='object')\n"
          ],
          "name": "stdout"
        }
      ]
    },
    {
      "cell_type": "markdown",
      "metadata": {
        "id": "fs10lI0eM6at"
      },
      "source": [
        "**useless column drop**"
      ]
    },
    {
      "cell_type": "code",
      "metadata": {
        "id": "trUVVZWfQn3x"
      },
      "source": [
        "def dropColumns(csv_file):\r\n",
        "  csv_file = csv_file[['filename', 'digit']]\r\n",
        "  print(csv_file)\r\n",
        "  print(csv_file.iloc[:5, :])   #First 5 Rows of the CSV File\r\n",
        "  print(\"=============================\")\r\n",
        "  return csv_file"
      ],
      "execution_count": null,
      "outputs": []
    },
    {
      "cell_type": "code",
      "metadata": {
        "colab": {
          "base_uri": "https://localhost:8080/"
        },
        "id": "nrrQZid8Quuh",
        "outputId": "92459328-6448-4899-9b3b-c9b012759f5a"
      },
      "source": [
        "a_csv = dropColumns(a_csv)\r\n",
        "c_csv = dropColumns(c_csv)"
      ],
      "execution_count": null,
      "outputs": [
        {
          "output_type": "stream",
          "text": [
            "         filename  digit\n",
            "0      a00000.png      5\n",
            "1      a00001.png      3\n",
            "2      a00002.png      1\n",
            "3      a00003.png      7\n",
            "4      a00004.png      0\n",
            "...           ...    ...\n",
            "19697  a19697.png      4\n",
            "19698  a19698.png      3\n",
            "19699  a19699.png      8\n",
            "19700  a19700.png      3\n",
            "19701  a19701.png      8\n",
            "\n",
            "[19702 rows x 2 columns]\n",
            "     filename  digit\n",
            "0  a00000.png      5\n",
            "1  a00001.png      3\n",
            "2  a00002.png      1\n",
            "3  a00003.png      7\n",
            "4  a00004.png      0\n",
            "=============================\n",
            "         filename  digit\n",
            "0      c00000.png      6\n",
            "1      c00001.png      1\n",
            "2      c00002.png      3\n",
            "3      c00003.png      2\n",
            "4      c00004.png      7\n",
            "...           ...    ...\n",
            "24293  c24293.png      3\n",
            "24294  c24294.png      2\n",
            "24295  c24295.png      7\n",
            "24296  c24296.png      2\n",
            "24297  c24297.png      7\n",
            "\n",
            "[24298 rows x 2 columns]\n",
            "     filename  digit\n",
            "0  c00000.png      6\n",
            "1  c00001.png      1\n",
            "2  c00002.png      3\n",
            "3  c00003.png      2\n",
            "4  c00004.png      7\n",
            "=============================\n"
          ],
          "name": "stdout"
        }
      ]
    },
    {
      "cell_type": "code",
      "metadata": {
        "colab": {
          "base_uri": "https://localhost:8080/"
        },
        "id": "BC8-287aQ0Ax",
        "outputId": "92a3ff5c-53b4-481c-cd8d-8360dc2c500d"
      },
      "source": [
        "total_csv = [a_csv, c_csv]\r\n",
        "merged_csv = pd.concat(total_csv)\r\n",
        "print(len(merged_csv))"
      ],
      "execution_count": null,
      "outputs": [
        {
          "output_type": "stream",
          "text": [
            "44000\n"
          ],
          "name": "stdout"
        }
      ]
    },
    {
      "cell_type": "code",
      "metadata": {
        "id": "A19KwQbSQ8bZ"
      },
      "source": [
        "TRAIN_PATH = 'train'\r\n",
        "os.mkdir(TRAIN_PATH)"
      ],
      "execution_count": null,
      "outputs": []
    },
    {
      "cell_type": "markdown",
      "metadata": {
        "id": "R_gt5UU1NKwY"
      },
      "source": [
        "**Data process and store them in 'training-a' and 'training-c' directory**"
      ]
    },
    {
      "cell_type": "code",
      "metadata": {
        "id": "pzrRkYncRKjy"
      },
      "source": [
        "def processImages(folder_name):\r\n",
        "  src = PATH + folder_name + '/'\r\n",
        "  dir_folders = os.listdir(src)\r\n",
        "  for dir_name in dir_folders:\r\n",
        "    file_name = os.path.join(src, dir_name)\r\n",
        "    if os.path.isfile(file_name):\r\n",
        "      shutil.copy(file_name, TRAIN_PATH) "
      ],
      "execution_count": null,
      "outputs": []
    },
    {
      "cell_type": "code",
      "metadata": {
        "colab": {
          "base_uri": "https://localhost:8080/"
        },
        "id": "dund91WORzWW",
        "outputId": "266f6b16-0ea5-4fb6-f166-1caf7af33a2f"
      },
      "source": [
        "processImages('training-a')\r\n",
        "print('A Done')\r\n",
        "processImages('training-c')\r\n",
        "print('C Done')"
      ],
      "execution_count": null,
      "outputs": [
        {
          "output_type": "stream",
          "text": [
            "A Done\n",
            "C Done\n"
          ],
          "name": "stdout"
        }
      ]
    },
    {
      "cell_type": "markdown",
      "metadata": {
        "id": "ufQN0WwPNlDi"
      },
      "source": [
        "#**Settings #1**\r\n",
        "\r\n",
        "*   **Batch Size = 100**\r\n",
        "*   **Number of iterations = 6000**\r\n",
        "*   **Learning Rate = 0.001**\r\n",
        "\r\n",
        "\r\n",
        "\r\n",
        "\r\n"
      ]
    },
    {
      "cell_type": "code",
      "metadata": {
        "id": "SuOAHL8yN21x"
      },
      "source": [
        "###################\r\n",
        "# Settings01\r\n",
        "###################"
      ],
      "execution_count": null,
      "outputs": []
    },
    {
      "cell_type": "code",
      "metadata": {
        "id": "c65pAA7NR4ub"
      },
      "source": [
        "class Dataset(Dataset):\r\n",
        "    def __init__(self, df, root, transform=None):\r\n",
        "        self.data = df\r\n",
        "        self.root = root\r\n",
        "        self.transform = transform\r\n",
        "        \r\n",
        "    def __len__(self):\r\n",
        "        return len(self.data)\r\n",
        "    \r\n",
        "    def __getitem__(self, index):\r\n",
        "        item = self.data.iloc[index]\r\n",
        "        \r\n",
        "        path = self.root + \"/\" + item[0]\r\n",
        "        image = Image.open(path).convert('L')\r\n",
        "        label = item[1]\r\n",
        "        \r\n",
        "        if self.transform is not None:\r\n",
        "            image = self.transform(image)\r\n",
        "            \r\n",
        "        return image, label"
      ],
      "execution_count": null,
      "outputs": []
    },
    {
      "cell_type": "markdown",
      "metadata": {
        "id": "3u_EpJAmPSCV"
      },
      "source": [
        "**Inspecting a single image (28 pixel x 28 pixel) 28x28 matrix of numbers** \r\n"
      ]
    },
    {
      "cell_type": "code",
      "metadata": {
        "colab": {
          "base_uri": "https://localhost:8080/"
        },
        "id": "xsu0wLA-R-5T",
        "outputId": "05ecfa6b-8f53-451b-8a4e-3d8e0ddb2306"
      },
      "source": [
        "mean = [0.5,]\r\n",
        "std = [0.5, ]\r\n",
        "\r\n",
        "train_transform = transforms.Compose([\r\n",
        "    transforms.Resize(28),\r\n",
        "    transforms.ToTensor(),\r\n",
        "    transforms.Normalize(mean, std)\r\n",
        "])\r\n",
        "\r\n",
        "test_transform = transforms.Compose([\r\n",
        "        transforms.Resize(28),\r\n",
        "        transforms.ToTensor(),\r\n",
        "        transforms.Normalize(mean, std)\r\n",
        "])\r\n",
        "\r\n",
        "train_data  = Dataset(merged_csv, TRAIN_PATH, train_transform)\r\n",
        "test_data = Dataset(merged_csv, TRAIN_PATH, test_transform)\r\n",
        "\r\n",
        "print(\"Trainig Samples: \",len(train_data))\r\n",
        "\r\n"
      ],
      "execution_count": null,
      "outputs": [
        {
          "output_type": "stream",
          "text": [
            "Trainig Samples:  44000\n"
          ],
          "name": "stdout"
        }
      ]
    },
    {
      "cell_type": "code",
      "metadata": {
        "id": "f8qpuSGn9xkv"
      },
      "source": [
        "# Hyperparameters\r\n",
        "\r\n",
        "batch_size = 100\r\n",
        "num_iters = 6000\r\n",
        "input_dim = 28*28 # num_features = 784\r\n",
        "output_dim = 10\r\n",
        "\r\n",
        "learning_rate = 0.001\r\n",
        "\r\n",
        "# Device\r\n",
        "device = torch.device(\"cuda:0\" if torch.cuda.is_available() else \"cpu\")"
      ],
      "execution_count": null,
      "outputs": []
    },
    {
      "cell_type": "markdown",
      "metadata": {
        "id": "z6QirEVNQBpl"
      },
      "source": [
        "**Split data 10% for testing and 90% for traning**"
      ]
    },
    {
      "cell_type": "code",
      "metadata": {
        "colab": {
          "base_uri": "https://localhost:8080/"
        },
        "id": "iz9kAZ8-SLYM",
        "outputId": "0c891ffa-3ff8-40bc-9954-97d15e4a408e"
      },
      "source": [
        "#batch size\r\n",
        "\r\n",
        "\r\n",
        "# split data 10% for testing\r\n",
        "test_size = 0.1\r\n",
        "\r\n",
        "# obtain training indices that will be used for validation\r\n",
        "num_train = len(train_data)\r\n",
        "\r\n",
        "# mix data\r\n",
        "# index of num of train\r\n",
        "indices = list(range(num_train))\r\n",
        "# random the index\r\n",
        "np.random.shuffle(indices)\r\n",
        "split = int(np.floor(test_size * num_train))\r\n",
        "# divied into two part\r\n",
        "train_idx, test_idx = indices[split:], indices[:split]\r\n",
        "\r\n",
        "# define the sampler\r\n",
        "train_sampler = SubsetRandomSampler(train_idx)\r\n",
        "test_sampler = SubsetRandomSampler(test_idx)\r\n",
        "\r\n",
        "# prepare loaders\r\n",
        "train_loader = torch.utils.data.DataLoader(\r\n",
        "    train_data, batch_size=batch_size,\r\n",
        "    sampler=train_sampler)\r\n",
        "\r\n",
        "test_loader = torch.utils.data.DataLoader(\r\n",
        "    test_data, batch_size=batch_size,\r\n",
        "    sampler=test_sampler)\r\n",
        "\r\n",
        "print(\"Train dataloader:{}\".format(len(train_loader)))\r\n",
        "print(\"Test dataloader:{}\".format(len(test_loader)))\r\n"
      ],
      "execution_count": null,
      "outputs": [
        {
          "output_type": "stream",
          "text": [
            "Train dataloader:396\n",
            "Test dataloader:44\n"
          ],
          "name": "stdout"
        }
      ]
    },
    {
      "cell_type": "code",
      "metadata": {
        "colab": {
          "base_uri": "https://localhost:8080/"
        },
        "id": "0IGHNl-lTZua",
        "outputId": "e7e5e12d-1af7-46a9-b67d-5f4aa9355eba"
      },
      "source": [
        "print(len(train_sampler))\r\n",
        "print(len(test_sampler))"
      ],
      "execution_count": null,
      "outputs": [
        {
          "output_type": "stream",
          "text": [
            "39600\n",
            "4400\n"
          ],
          "name": "stdout"
        }
      ]
    },
    {
      "cell_type": "code",
      "metadata": {
        "colab": {
          "base_uri": "https://localhost:8080/"
        },
        "id": "i9dLsNMuUWha",
        "outputId": "10edccde-b779-468f-e418-bc9b60d61644"
      },
      "source": [
        "train_data[0]"
      ],
      "execution_count": null,
      "outputs": [
        {
          "output_type": "execute_result",
          "data": {
            "text/plain": [
              "(tensor([[[ 0.6392,  0.6392,  0.6392,  0.6392,  0.6471,  0.6392,  0.6392,\n",
              "            0.6471,  0.6392,  0.6392,  0.6471,  0.6392,  0.6314,  0.6314,\n",
              "            0.6392,  0.6314,  0.6235,  0.6314,  0.6392,  0.6314,  0.6314,\n",
              "            0.6314,  0.6392,  0.6392,  0.6471,  0.6471,  0.6471,  0.6471],\n",
              "          [ 0.6471,  0.6471,  0.6471,  0.6471,  0.6471,  0.6471,  0.6471,\n",
              "            0.6471,  0.6471,  0.6471,  0.6392,  0.6392,  0.6392,  0.6392,\n",
              "            0.6314,  0.6314,  0.6314,  0.6314,  0.6392,  0.6392,  0.6471,\n",
              "            0.6471,  0.6392,  0.6392,  0.6392,  0.6392,  0.6392,  0.6471],\n",
              "          [ 0.6471,  0.6471,  0.6471,  0.6471,  0.6471,  0.6549,  0.6549,\n",
              "            0.6471,  0.6549,  0.6471,  0.6392,  0.6471,  0.6471,  0.6392,\n",
              "            0.6392,  0.6392,  0.6314,  0.6314,  0.6392,  0.6392,  0.6392,\n",
              "            0.6392,  0.6392,  0.6392,  0.6392,  0.6314,  0.6471,  0.6471],\n",
              "          [ 0.6471,  0.6549,  0.6549,  0.6549,  0.6549,  0.6549,  0.6549,\n",
              "            0.6549,  0.6549,  0.6471,  0.6549,  0.6549,  0.6627,  0.6471,\n",
              "            0.6549,  0.6471,  0.6471,  0.6549,  0.6549,  0.6549,  0.6471,\n",
              "            0.6392,  0.6471,  0.6471,  0.6471,  0.6471,  0.6471,  0.6471],\n",
              "          [ 0.6549,  0.6549,  0.6549,  0.6549,  0.6549,  0.6549,  0.6549,\n",
              "            0.6549,  0.6549,  0.6549,  0.6549,  0.6549,  0.6549,  0.6549,\n",
              "            0.6549,  0.6549,  0.6549,  0.6471,  0.6549,  0.6549,  0.6549,\n",
              "            0.6549,  0.6549,  0.6549,  0.6471,  0.6471,  0.6392,  0.6471],\n",
              "          [ 0.6549,  0.6627,  0.6627,  0.6549,  0.6549,  0.6549,  0.6549,\n",
              "            0.4902,  0.4902,  0.6549,  0.6627,  0.6627,  0.6627,  0.6549,\n",
              "            0.6549,  0.6549,  0.6549,  0.6549,  0.6549,  0.6549,  0.6549,\n",
              "            0.6471,  0.6471,  0.6471,  0.6471,  0.6471,  0.6471,  0.6471],\n",
              "          [ 0.6627,  0.6706,  0.6627,  0.6627,  0.6627,  0.6549,  0.5529,\n",
              "            0.0902,  0.2000,  0.6314,  0.6549,  0.6627,  0.6627,  0.6627,\n",
              "            0.6549,  0.6549,  0.6549,  0.6549,  0.6627,  0.6549,  0.6549,\n",
              "            0.6471,  0.6471,  0.6471,  0.6549,  0.6549,  0.6549,  0.6471],\n",
              "          [ 0.6627,  0.6627,  0.6627,  0.6549,  0.6549,  0.6235,  0.2627,\n",
              "            0.1765,  0.0431,  0.5294,  0.6471,  0.6471,  0.6627,  0.6392,\n",
              "            0.6157,  0.6549,  0.6549,  0.6549,  0.6627,  0.6549,  0.6627,\n",
              "            0.6627,  0.6549,  0.6549,  0.6471,  0.6471,  0.6392,  0.6549],\n",
              "          [ 0.6549,  0.6549,  0.6549,  0.6471,  0.6392,  0.4824,  0.1686,\n",
              "            0.4980,  0.1451,  0.2941,  0.6078,  0.6392,  0.6392,  0.3804,\n",
              "            0.2549,  0.6235,  0.6549,  0.6549,  0.6549,  0.6549,  0.6549,\n",
              "            0.6471,  0.6549,  0.6549,  0.6549,  0.6549,  0.6471,  0.6549],\n",
              "          [ 0.6471,  0.6549,  0.6549,  0.6471,  0.6078,  0.2392,  0.3647,\n",
              "            0.6157,  0.5059,  0.1529,  0.2314,  0.4039,  0.4667,  0.1137,\n",
              "            0.1137,  0.5216,  0.5922,  0.6314,  0.6471,  0.6471,  0.6471,\n",
              "            0.6471,  0.6549,  0.6549,  0.6471,  0.6549,  0.6549,  0.6549],\n",
              "          [ 0.6392,  0.6392,  0.6392,  0.6314,  0.4902,  0.0980,  0.5137,\n",
              "            0.6235,  0.6314,  0.5765,  0.3961,  0.2235,  0.1294, -0.1373,\n",
              "           -0.0667,  0.1686,  0.4039,  0.6235,  0.6314,  0.6314,  0.6392,\n",
              "            0.6392,  0.6392,  0.6471,  0.6471,  0.6392,  0.6471,  0.6471],\n",
              "          [ 0.6471,  0.6392,  0.6392,  0.6235,  0.2941,  0.2235,  0.6078,\n",
              "            0.6314,  0.6314,  0.6235,  0.6157,  0.6000,  0.4431, -0.0980,\n",
              "            0.2392,  0.5451,  0.6000,  0.6235,  0.6314,  0.6235,  0.6392,\n",
              "            0.6392,  0.6392,  0.6392,  0.6471,  0.6392,  0.6392,  0.6471],\n",
              "          [ 0.6392,  0.6392,  0.6314,  0.6078,  0.1529,  0.2784,  0.6157,\n",
              "            0.6235,  0.6235,  0.6235,  0.6235,  0.6157,  0.3961, -0.0510,\n",
              "            0.4275,  0.5608,  0.6157,  0.6235,  0.6314,  0.6314,  0.6392,\n",
              "            0.6392,  0.6392,  0.6392,  0.6471,  0.6471,  0.6471,  0.6471],\n",
              "          [ 0.6314,  0.6392,  0.6314,  0.5843,  0.0588,  0.3333,  0.6078,\n",
              "            0.6157,  0.6157,  0.6157,  0.6157,  0.6000,  0.3569,  0.0510,\n",
              "            0.5608,  0.6157,  0.6235,  0.6235,  0.6235,  0.6235,  0.6314,\n",
              "            0.6314,  0.6392,  0.6392,  0.6392,  0.6392,  0.6392,  0.6392],\n",
              "          [ 0.6392,  0.6314,  0.6235,  0.5765,  0.0353,  0.1922,  0.6000,\n",
              "            0.6078,  0.6000,  0.6000,  0.6078,  0.6078,  0.3176,  0.0667,\n",
              "            0.5608,  0.6000,  0.5922,  0.6000,  0.6078,  0.5843,  0.5922,\n",
              "            0.6235,  0.6314,  0.6314,  0.6314,  0.6314,  0.6392,  0.6314],\n",
              "          [ 0.6392,  0.6314,  0.6314,  0.6000,  0.1922,  0.0667,  0.5294,\n",
              "            0.6000,  0.6000,  0.5922,  0.5922,  0.5843,  0.3569,  0.0353,\n",
              "            0.5216,  0.5686,  0.5373,  0.4039,  0.2235,  0.0824,  0.3569,\n",
              "            0.6157,  0.6157,  0.6235,  0.6314,  0.6392,  0.6392,  0.6392],\n",
              "          [ 0.6392,  0.6392,  0.6314,  0.6235,  0.5059,  0.0510,  0.2000,\n",
              "            0.5373,  0.5843,  0.5922,  0.5843,  0.5843,  0.4824,  0.0588,\n",
              "            0.1451,  0.1451,  0.0196, -0.0902, -0.0667,  0.1216,  0.4980,\n",
              "            0.6078,  0.6157,  0.6157,  0.6314,  0.6314,  0.6314,  0.6314],\n",
              "          [ 0.6392,  0.6314,  0.6314,  0.6235,  0.6157,  0.4824,  0.1922,\n",
              "            0.1686,  0.2549,  0.3176,  0.3333,  0.3882,  0.3882,  0.2471,\n",
              "            0.0196, -0.0196,  0.0039,  0.1373,  0.3647,  0.5529,  0.6000,\n",
              "            0.6078,  0.6235,  0.6235,  0.6314,  0.6314,  0.6314,  0.6392],\n",
              "          [ 0.6392,  0.6314,  0.6314,  0.6235,  0.6235,  0.6078,  0.5843,\n",
              "            0.5137,  0.4510,  0.3647,  0.3098,  0.2392,  0.3020,  0.2941,\n",
              "            0.3412,  0.4353,  0.5059,  0.5608,  0.5843,  0.6000,  0.6078,\n",
              "            0.6157,  0.6235,  0.6314,  0.6314,  0.6314,  0.6314,  0.6392],\n",
              "          [ 0.6392,  0.6392,  0.6314,  0.6314,  0.6235,  0.6235,  0.6157,\n",
              "            0.6157,  0.6000,  0.6000,  0.5922,  0.5843,  0.5843,  0.5922,\n",
              "            0.5922,  0.5922,  0.5922,  0.6078,  0.6157,  0.6235,  0.6157,\n",
              "            0.6235,  0.6314,  0.6314,  0.6314,  0.6314,  0.6314,  0.6392],\n",
              "          [ 0.6392,  0.6314,  0.6314,  0.6314,  0.6314,  0.6235,  0.6235,\n",
              "            0.6157,  0.6078,  0.6157,  0.6157,  0.6157,  0.6157,  0.6078,\n",
              "            0.6078,  0.6078,  0.6078,  0.6157,  0.6157,  0.6235,  0.6235,\n",
              "            0.6235,  0.6314,  0.6314,  0.6314,  0.6392,  0.6392,  0.6392],\n",
              "          [ 0.6392,  0.6392,  0.6392,  0.6392,  0.6392,  0.6235,  0.6235,\n",
              "            0.6314,  0.6235,  0.6235,  0.6235,  0.6157,  0.6078,  0.6157,\n",
              "            0.6235,  0.6235,  0.6235,  0.6235,  0.6235,  0.6235,  0.6314,\n",
              "            0.6314,  0.6392,  0.6392,  0.6392,  0.6392,  0.6471,  0.6471],\n",
              "          [ 0.6471,  0.6392,  0.6392,  0.6392,  0.6392,  0.6392,  0.6235,\n",
              "            0.6314,  0.6314,  0.6314,  0.6314,  0.6235,  0.6235,  0.6235,\n",
              "            0.6235,  0.6235,  0.6235,  0.6235,  0.6314,  0.6314,  0.6314,\n",
              "            0.6471,  0.6471,  0.6392,  0.6392,  0.6471,  0.6471,  0.6392],\n",
              "          [ 0.6471,  0.6392,  0.6392,  0.6471,  0.6392,  0.6392,  0.6392,\n",
              "            0.6314,  0.6314,  0.6314,  0.6314,  0.6235,  0.6235,  0.6314,\n",
              "            0.6314,  0.6314,  0.6235,  0.6314,  0.6314,  0.6314,  0.6314,\n",
              "            0.6314,  0.6392,  0.6392,  0.6392,  0.6471,  0.6471,  0.6471],\n",
              "          [ 0.6471,  0.6392,  0.6471,  0.6392,  0.6392,  0.6392,  0.6392,\n",
              "            0.6392,  0.6392,  0.6314,  0.6314,  0.6314,  0.6314,  0.6314,\n",
              "            0.6314,  0.6314,  0.6235,  0.6314,  0.6314,  0.6314,  0.6314,\n",
              "            0.6314,  0.6392,  0.6392,  0.6392,  0.6471,  0.6392,  0.6471],\n",
              "          [ 0.6471,  0.6471,  0.6392,  0.6471,  0.6471,  0.6392,  0.6392,\n",
              "            0.6392,  0.6392,  0.6314,  0.6314,  0.6314,  0.6235,  0.6314,\n",
              "            0.6314,  0.6314,  0.6392,  0.6392,  0.6314,  0.6392,  0.6314,\n",
              "            0.6314,  0.6235,  0.6314,  0.6314,  0.6471,  0.6471,  0.6471],\n",
              "          [ 0.6392,  0.6471,  0.6471,  0.6471,  0.6392,  0.6392,  0.6392,\n",
              "            0.6392,  0.6392,  0.6314,  0.6392,  0.6392,  0.6314,  0.6314,\n",
              "            0.6314,  0.6314,  0.6392,  0.6392,  0.6392,  0.6392,  0.6314,\n",
              "            0.6314,  0.6314,  0.6392,  0.6471,  0.6549,  0.6471,  0.6471],\n",
              "          [ 0.6471,  0.6471,  0.6471,  0.6392,  0.6392,  0.6392,  0.6392,\n",
              "            0.6392,  0.6392,  0.6392,  0.6392,  0.6314,  0.6314,  0.6392,\n",
              "            0.6392,  0.6314,  0.6392,  0.6392,  0.6392,  0.6392,  0.6392,\n",
              "            0.6392,  0.6471,  0.6471,  0.6392,  0.6471,  0.6471,  0.6471]]]),\n",
              " 5)"
            ]
          },
          "metadata": {
            "tags": []
          },
          "execution_count": 185
        }
      ]
    },
    {
      "cell_type": "code",
      "metadata": {
        "colab": {
          "base_uri": "https://localhost:8080/"
        },
        "id": "AvRibwK_VBFy",
        "outputId": "b9bd0ce6-27c5-442d-da1c-7132677cce97"
      },
      "source": [
        "# One Image Size\r\n",
        "print(train_data[0][0].size())\r\n",
        "print(train_data[0][0].numpy().shape)\r\n",
        "# First Image Label\r\n",
        "print(train_data[0][1])"
      ],
      "execution_count": null,
      "outputs": [
        {
          "output_type": "stream",
          "text": [
            "torch.Size([1, 28, 28])\n",
            "(1, 28, 28)\n",
            "5\n"
          ],
          "name": "stdout"
        }
      ]
    },
    {
      "cell_type": "code",
      "metadata": {
        "colab": {
          "base_uri": "https://localhost:8080/",
          "height": 282
        },
        "id": "Priwaa0mVeNC",
        "outputId": "e66c8325-d5aa-4fab-c21d-fbb565654e4f"
      },
      "source": [
        "## Displaying a  Image\r\n",
        "\r\n",
        "import matplotlib.pyplot as plt \r\n",
        "import numpy as np\r\n",
        "\r\n",
        "show_img = train_data[0][0].numpy().reshape(28, 28)\r\n",
        "plt.imshow(show_img, cmap='gray')"
      ],
      "execution_count": null,
      "outputs": [
        {
          "output_type": "execute_result",
          "data": {
            "text/plain": [
              "<matplotlib.image.AxesImage at 0x7f52704862b0>"
            ]
          },
          "metadata": {
            "tags": []
          },
          "execution_count": 187
        },
        {
          "output_type": "display_data",
          "data": {
            "image/png": "[encoded data removed]",
            "text/plain": [
              "<Figure size 432x288 with 1 Axes>"
            ]
          },
          "metadata": {
            "tags": [],
            "needs_background": "light"
          }
        }
      ]
    },
    {
      "cell_type": "code",
      "metadata": {
        "colab": {
          "base_uri": "https://localhost:8080/",
          "height": 315
        },
        "id": "BD4hK-CzVrlk",
        "outputId": "efd28f50-6d3a-4d7a-c8ce-c42794376e55"
      },
      "source": [
        "## Displaying another MNIST Image\r\n",
        "# Label\r\n",
        "print(\"Label:\")\r\n",
        "print(train_data[2][1])\r\n",
        "\r\n",
        "show_img = train_data[2][0].numpy().reshape(28, 28)\r\n",
        "plt.imshow(show_img, cmap='gray')"
      ],
      "execution_count": null,
      "outputs": [
        {
          "output_type": "stream",
          "text": [
            "Label:\n",
            "1\n"
          ],
          "name": "stdout"
        },
        {
          "output_type": "execute_result",
          "data": {
            "text/plain": [
              "<matplotlib.image.AxesImage at 0x7f5270e647f0>"
            ]
          },
          "metadata": {
            "tags": []
          },
          "execution_count": 57
        },
        {
          "output_type": "display_data",
          "data": {
            "image/png": "[encoded data removed]",
            "text/plain": [
              "<Figure size 432x288 with 1 Axes>"
            ]
          },
          "metadata": {
            "tags": [],
            "needs_background": "light"
          }
        }
      ]
    },
    {
      "cell_type": "markdown",
      "metadata": {
        "id": "ErgNe608Qh8q"
      },
      "source": [
        "### Step #1 : Design Logistic Regression Model using class"
      ]
    },
    {
      "cell_type": "code",
      "metadata": {
        "id": "nthopV0yVx7a"
      },
      "source": [
        "##Step #1 : Design  model using class\r\n",
        "\r\n",
        "class LogisticRegressionModel(nn.Module):\r\n",
        "    def __init__(self, input_size, num_classes):\r\n",
        "        super().__init__()\r\n",
        "        self.linear = nn.Linear(input_size, num_classes)\r\n",
        "\r\n",
        "    def forward(self, x):\r\n",
        "        logits  = self.linear(x)\r\n",
        "        probas = F.softmax(logits, dim=1)\r\n",
        "        return logits, probas"
      ],
      "execution_count": null,
      "outputs": []
    },
    {
      "cell_type": "markdown",
      "metadata": {
        "id": "tTW3j9UbQ31A"
      },
      "source": [
        ""
      ]
    },
    {
      "cell_type": "code",
      "metadata": {
        "colab": {
          "base_uri": "https://localhost:8080/"
        },
        "id": "b2i-20SNnWP2",
        "outputId": "23c6cd89-e727-453d-940a-9aca0f7b3604"
      },
      "source": [
        "'''\r\n",
        "INSTANTIATE MODEL CLASS\r\n",
        "'''\r\n",
        "model = LogisticRegressionModel(input_size=input_dim,\r\n",
        "                                num_classes=output_dim)\r\n",
        "# To enable GPU\r\n",
        "model.to(device)"
      ],
      "execution_count": null,
      "outputs": [
        {
          "output_type": "execute_result",
          "data": {
            "text/plain": [
              "LogisticRegressionModel(\n",
              "  (linear): Linear(in_features=784, out_features=10, bias=True)\n",
              ")"
            ]
          },
          "metadata": {
            "tags": []
          },
          "execution_count": 189
        }
      ]
    },
    {
      "cell_type": "markdown",
      "metadata": {
        "id": "7-QyRmvmQ6U3"
      },
      "source": [
        "###Step #2 : Construct loss and optimizer (select from PyTorch API)\r\n",
        "\r\n",
        "Unlike linear regression, we do not use MSE here, we need Cross Entropy Loss to calculate our loss before we backpropagate and update our parameters.\r\n",
        "\r\n",
        "`criterion = nn.CrossEntropyLoss() ` \r\n",
        "\r\n",
        "It does 2 things at the same time.\r\n",
        "\r\n",
        "1. Computes softmax **([Logistic or Sigmoid]/softmax function)**\r\n",
        "2. Computes Cross Entropy Loss"
      ]
    },
    {
      "cell_type": "code",
      "metadata": {
        "id": "nNboCuysnnx1"
      },
      "source": [
        "# INSTANTIATE OPTIMIZER CLASS\r\n",
        "optimizer = torch.optim.SGD(model.parameters(), lr=learning_rate)"
      ],
      "execution_count": null,
      "outputs": []
    },
    {
      "cell_type": "code",
      "metadata": {
        "id": "0pDYXbQMnohC"
      },
      "source": [
        "num_epochs = num_iters / (len(train_sampler) / batch_size)\r\n",
        "num_epochs = int(num_epochs)"
      ],
      "execution_count": null,
      "outputs": []
    },
    {
      "cell_type": "code",
      "metadata": {
        "colab": {
          "base_uri": "https://localhost:8080/"
        },
        "id": "uQJZSpFSnu62",
        "outputId": "f46f8538-8f6b-4260-cfdc-13cbabfa9d11"
      },
      "source": [
        "num_epochs"
      ],
      "execution_count": null,
      "outputs": [
        {
          "output_type": "execute_result",
          "data": {
            "text/plain": [
              "15"
            ]
          },
          "metadata": {
            "tags": []
          },
          "execution_count": 192
        }
      ]
    },
    {
      "cell_type": "markdown",
      "metadata": {
        "id": "_CFVvnIwRAQU"
      },
      "source": [
        "###Step #3 : Training: forward, loss, backward, step"
      ]
    },
    {
      "cell_type": "code",
      "metadata": {
        "colab": {
          "base_uri": "https://localhost:8080/"
        },
        "id": "O6Xz2dFWoZO0",
        "outputId": "1c298de9-a18f-4b11-c307-3106e40e1570"
      },
      "source": [
        "\r\n",
        "'''\r\n",
        "TRAIN THE MODEL\r\n",
        "'''\r\n",
        "iteration_loss = []\r\n",
        "iter = 0\r\n",
        "for epoch in range(num_epochs):\r\n",
        "    for i, (images, labels) in enumerate(train_loader):\r\n",
        "\r\n",
        "        images = images.view(images.shape[0], -1).to(device)\r\n",
        "        labels = labels.to(device)\r\n",
        "\r\n",
        "        # Clear gradients w.r.t. parameters\r\n",
        "        optimizer.zero_grad()\r\n",
        "\r\n",
        "        # Forward pass to get output/logits\r\n",
        "        logits, probas = model(images) \r\n",
        "\r\n",
        "        # Calculate Loss: PyTorch implementation of CrossEntropyLoss works with logits, not probabilities\r\n",
        "        loss = F.cross_entropy(logits, labels)\r\n",
        "\r\n",
        "        # Getting gradients w.r.t. parameters\r\n",
        "        loss.backward()\r\n",
        "\r\n",
        "        # Updating parameters\r\n",
        "        optimizer.step()\r\n",
        "\r\n",
        "        iter += 1\r\n",
        "\r\n",
        "        if iter % 100 == 0:\r\n",
        "            # Calculate Accuracy         \r\n",
        "            correct = 0\r\n",
        "            total = 0\r\n",
        "            # Iterate through test dataset\r\n",
        "            for images, labels in test_loader:\r\n",
        "               \r\n",
        "                images = images.view(-1, 28*28).to(device)\r\n",
        "\r\n",
        "                # Forward pass only to get logits/output\r\n",
        "                logits, probas = model(images)\r\n",
        "\r\n",
        "                # Get predictions from the maximum value\r\n",
        "                _, predicted = torch.max(probas, 1)\r\n",
        "\r\n",
        "                # Total number of labels\r\n",
        "                total += labels.size(0)\r\n",
        "\r\n",
        "\r\n",
        "                # Total correct predictions\r\n",
        "                if torch.cuda.is_available():\r\n",
        "                    correct += (predicted.cpu() == labels.cpu()).sum() \r\n",
        "                else:\r\n",
        "                    correct += (predicted == labels).sum()\r\n",
        "\r\n",
        "            accuracy = 100 * correct.item() / total\r\n",
        "\r\n",
        "            # Print Loss\r\n",
        "            iteration_loss.append(loss.item())\r\n",
        "            print('Iteration: {}. Loss: {}. Accuracy: {}'.format(iter, loss.item(), accuracy))"
      ],
      "execution_count": null,
      "outputs": [
        {
          "output_type": "stream",
          "text": [
            "Iteration: 100. Loss: 2.309612512588501. Accuracy: 10.363636363636363\n",
            "Iteration: 200. Loss: 2.2903451919555664. Accuracy: 9.590909090909092\n",
            "Iteration: 300. Loss: 2.291741371154785. Accuracy: 13.681818181818182\n",
            "Iteration: 400. Loss: 2.310459852218628. Accuracy: 10.954545454545455\n",
            "Iteration: 500. Loss: 2.287252426147461. Accuracy: 14.113636363636363\n",
            "Iteration: 600. Loss: 2.2858686447143555. Accuracy: 12.431818181818182\n",
            "Iteration: 700. Loss: 2.2976233959198. Accuracy: 12.886363636363637\n",
            "Iteration: 800. Loss: 2.300236463546753. Accuracy: 14.772727272727273\n",
            "Iteration: 900. Loss: 2.2729990482330322. Accuracy: 14.318181818181818\n",
            "Iteration: 1000. Loss: 2.279088020324707. Accuracy: 12.909090909090908\n",
            "Iteration: 1100. Loss: 2.27622389793396. Accuracy: 17.65909090909091\n",
            "Iteration: 1200. Loss: 2.262368679046631. Accuracy: 14.136363636363637\n",
            "Iteration: 1300. Loss: 2.285778284072876. Accuracy: 16.59090909090909\n",
            "Iteration: 1400. Loss: 2.270604372024536. Accuracy: 17.568181818181817\n",
            "Iteration: 1500. Loss: 2.273869276046753. Accuracy: 18.227272727272727\n",
            "Iteration: 1600. Loss: 2.265467405319214. Accuracy: 17.5\n",
            "Iteration: 1700. Loss: 2.271723985671997. Accuracy: 19.34090909090909\n",
            "Iteration: 1800. Loss: 2.2659926414489746. Accuracy: 19.136363636363637\n",
            "Iteration: 1900. Loss: 2.274838924407959. Accuracy: 24.136363636363637\n",
            "Iteration: 2000. Loss: 2.257707118988037. Accuracy: 16.727272727272727\n",
            "Iteration: 2100. Loss: 2.266192674636841. Accuracy: 22.954545454545453\n",
            "Iteration: 2200. Loss: 2.2641425132751465. Accuracy: 25.15909090909091\n",
            "Iteration: 2300. Loss: 2.2633094787597656. Accuracy: 22.454545454545453\n",
            "Iteration: 2400. Loss: 2.2562057971954346. Accuracy: 20.0\n",
            "Iteration: 2500. Loss: 2.241732120513916. Accuracy: 22.522727272727273\n",
            "Iteration: 2600. Loss: 2.240586757659912. Accuracy: 24.727272727272727\n",
            "Iteration: 2700. Loss: 2.270380735397339. Accuracy: 26.431818181818183\n",
            "Iteration: 2800. Loss: 2.2514936923980713. Accuracy: 22.65909090909091\n",
            "Iteration: 2900. Loss: 2.2447824478149414. Accuracy: 23.84090909090909\n",
            "Iteration: 3000. Loss: 2.2552149295806885. Accuracy: 23.272727272727273\n",
            "Iteration: 3100. Loss: 2.2480318546295166. Accuracy: 24.59090909090909\n",
            "Iteration: 3200. Loss: 2.225597381591797. Accuracy: 27.863636363636363\n",
            "Iteration: 3300. Loss: 2.225862741470337. Accuracy: 27.431818181818183\n",
            "Iteration: 3400. Loss: 2.2675211429595947. Accuracy: 24.931818181818183\n",
            "Iteration: 3500. Loss: 2.2174887657165527. Accuracy: 24.204545454545453\n",
            "Iteration: 3600. Loss: 2.242710590362549. Accuracy: 30.181818181818183\n",
            "Iteration: 3700. Loss: 2.2163872718811035. Accuracy: 27.931818181818183\n",
            "Iteration: 3800. Loss: 2.2556934356689453. Accuracy: 27.15909090909091\n",
            "Iteration: 3900. Loss: 2.2390079498291016. Accuracy: 27.068181818181817\n",
            "Iteration: 4000. Loss: 2.2288336753845215. Accuracy: 31.59090909090909\n",
            "Iteration: 4100. Loss: 2.2368838787078857. Accuracy: 28.454545454545453\n",
            "Iteration: 4200. Loss: 2.2180705070495605. Accuracy: 31.113636363636363\n",
            "Iteration: 4300. Loss: 2.207188606262207. Accuracy: 26.363636363636363\n",
            "Iteration: 4400. Loss: 2.219587802886963. Accuracy: 29.227272727272727\n",
            "Iteration: 4500. Loss: 2.21110463142395. Accuracy: 30.65909090909091\n",
            "Iteration: 4600. Loss: 2.2154903411865234. Accuracy: 31.25\n",
            "Iteration: 4700. Loss: 2.211791753768921. Accuracy: 30.613636363636363\n",
            "Iteration: 4800. Loss: 2.211024761199951. Accuracy: 29.454545454545453\n",
            "Iteration: 4900. Loss: 2.228137254714966. Accuracy: 30.363636363636363\n",
            "Iteration: 5000. Loss: 2.1851084232330322. Accuracy: 30.636363636363637\n",
            "Iteration: 5100. Loss: 2.2063064575195312. Accuracy: 31.113636363636363\n",
            "Iteration: 5200. Loss: 2.237805128097534. Accuracy: 29.795454545454547\n",
            "Iteration: 5300. Loss: 2.2157795429229736. Accuracy: 28.318181818181817\n",
            "Iteration: 5400. Loss: 2.2161355018615723. Accuracy: 32.18181818181818\n",
            "Iteration: 5500. Loss: 2.193833589553833. Accuracy: 31.863636363636363\n",
            "Iteration: 5600. Loss: 2.20349383354187. Accuracy: 29.681818181818183\n",
            "Iteration: 5700. Loss: 2.1994946002960205. Accuracy: 30.636363636363637\n",
            "Iteration: 5800. Loss: 2.2117984294891357. Accuracy: 31.5\n",
            "Iteration: 5900. Loss: 2.191754102706909. Accuracy: 29.545454545454547\n"
          ],
          "name": "stdout"
        }
      ]
    },
    {
      "cell_type": "code",
      "metadata": {
        "colab": {
          "base_uri": "https://localhost:8080/",
          "height": 316
        },
        "id": "abaNOcU4ofiN",
        "outputId": "db7bf3b2-c60e-41f4-c711-63e6c07d9c6c"
      },
      "source": [
        "import matplotlib\r\n",
        "import matplotlib.pyplot as plt\r\n",
        "\r\n",
        "print (iteration_loss)\r\n",
        "plt.plot(iteration_loss)\r\n",
        "plt.ylabel('Cross Entropy Loss')\r\n",
        "plt.xlabel('Iteration (in every 100)')\r\n",
        "plt.show()"
      ],
      "execution_count": null,
      "outputs": [
        {
          "output_type": "stream",
          "text": [
            "[2.309612512588501, 2.2903451919555664, 2.291741371154785, 2.310459852218628, 2.287252426147461, 2.2858686447143555, 2.2976233959198, 2.300236463546753, 2.2729990482330322, 2.279088020324707, 2.27622389793396, 2.262368679046631, 2.285778284072876, 2.270604372024536, 2.273869276046753, 2.265467405319214, 2.271723985671997, 2.2659926414489746, 2.274838924407959, 2.257707118988037, 2.266192674636841, 2.2641425132751465, 2.2633094787597656, 2.2562057971954346, 2.241732120513916, 2.240586757659912, 2.270380735397339, 2.2514936923980713, 2.2447824478149414, 2.2552149295806885, 2.2480318546295166, 2.225597381591797, 2.225862741470337, 2.2675211429595947, 2.2174887657165527, 2.242710590362549, 2.2163872718811035, 2.2556934356689453, 2.2390079498291016, 2.2288336753845215, 2.2368838787078857, 2.2180705070495605, 2.207188606262207, 2.219587802886963, 2.21110463142395, 2.2154903411865234, 2.211791753768921, 2.211024761199951, 2.228137254714966, 2.1851084232330322, 2.2063064575195312, 2.237805128097534, 2.2157795429229736, 2.2161355018615723, 2.193833589553833, 2.20349383354187, 2.1994946002960205, 2.2117984294891357, 2.191754102706909]\n"
          ],
          "name": "stdout"
        },
        {
          "output_type": "display_data",
          "data": {
            "image/png": "[encoded data removed]",
            "text/plain": [
              "<Figure size 432x288 with 1 Axes>"
            ]
          },
          "metadata": {
            "tags": [],
            "needs_background": "light"
          }
        }
      ]
    },
    {
      "cell_type": "code",
      "metadata": {
        "colab": {
          "base_uri": "https://localhost:8080/"
        },
        "id": "KuMG9UuRuzSj",
        "outputId": "6014303d-988c-403f-c38c-3894a7122578"
      },
      "source": [
        "\r\n",
        "from google.colab import drive\r\n",
        "\r\n",
        "drive.mount('/content/gdrive')\r\n",
        "\r\n",
        "root_path = '/content/gdrive/My Drive/Mount/Assignment01/'"
      ],
      "execution_count": null,
      "outputs": [
        {
          "output_type": "stream",
          "text": [
            "Mounted at /content/gdrive\n"
          ],
          "name": "stdout"
        }
      ]
    },
    {
      "cell_type": "markdown",
      "metadata": {
        "id": "pe9PmqJfTyAf"
      },
      "source": [
        "**Save Model**"
      ]
    },
    {
      "cell_type": "code",
      "metadata": {
        "id": "SArBNNzj7azK"
      },
      "source": [
        "##Save Model\r\n",
        "\r\n",
        "save_model = True\r\n",
        "\r\n",
        "if save_model is True:\r\n",
        "    # Saves only parameters\r\n",
        "    # wights & biases\r\n",
        "    torch.save(model.state_dict(), root_path + 'Assignment01.pkl') "
      ],
      "execution_count": null,
      "outputs": []
    },
    {
      "cell_type": "markdown",
      "metadata": {
        "id": "_9HSlyXAT2os"
      },
      "source": [
        "**Load Model**"
      ]
    },
    {
      "cell_type": "code",
      "metadata": {
        "colab": {
          "base_uri": "https://localhost:8080/"
        },
        "id": "nlXDOzqO7g6P",
        "outputId": "d606a962-47cc-41bd-98ec-6190bcef0190"
      },
      "source": [
        "#Load Model\r\n",
        "load_model = True\r\n",
        "\r\n",
        "if load_model is True:\r\n",
        "    model.load_state_dict(torch.load(root_path + 'Assignment01.pkl'))\r\n",
        "    print('Trained Model Loaded')"
      ],
      "execution_count": null,
      "outputs": [
        {
          "output_type": "stream",
          "text": [
            "Trained Model Loaded\n"
          ],
          "name": "stdout"
        }
      ]
    },
    {
      "cell_type": "markdown",
      "metadata": {
        "id": "n8in3HUdT_FV"
      },
      "source": [
        "### Testing Loaded Model with Digits\r\n",
        "\r\n",
        "\r\n"
      ]
    },
    {
      "cell_type": "code",
      "metadata": {
        "colab": {
          "base_uri": "https://localhost:8080/",
          "height": 109
        },
        "id": "NYMwa8AUu5Da",
        "outputId": "cae9f59d-6ed3-4f3d-d983-bbc37c92e96a"
      },
      "source": [
        "for images, labels in test_loader:\r\n",
        "    break\r\n",
        "    \r\n",
        "fig, ax = plt.subplots(1, 5)\r\n",
        "for i in range(5):\r\n",
        "    ax[i].imshow(images[i].view(28, 28), cmap=matplotlib.cm.binary)\r\n",
        "\r\n",
        "plt.show()"
      ],
      "execution_count": null,
      "outputs": [
        {
          "output_type": "display_data",
          "data": {
            "image/png": "[encoded data removed]",
            "text/plain": [
              "<Figure size 432x288 with 5 Axes>"
            ]
          },
          "metadata": {
            "tags": [],
            "needs_background": "light"
          }
        }
      ]
    },
    {
      "cell_type": "code",
      "metadata": {
        "colab": {
          "base_uri": "https://localhost:8080/"
        },
        "id": "hMeB2FDq0Sdc",
        "outputId": "84a83a4a-0faa-4a83-d56a-83c5e57be590"
      },
      "source": [
        "_, predictions = model.forward(images[:5].view(-1, 28*28).to(device))\r\n",
        "predictions = torch.argmax(predictions, dim=1)\r\n",
        "print('Predicted labels', predictions.cpu().numpy())"
      ],
      "execution_count": null,
      "outputs": [
        {
          "output_type": "stream",
          "text": [
            "Predicted labels [3 0 8 0 4]\n"
          ],
          "name": "stdout"
        }
      ]
    },
    {
      "cell_type": "code",
      "metadata": {
        "id": "M1N5lkcwONs0"
      },
      "source": [
        "###################\r\n",
        "# Settings02\r\n",
        "###################"
      ],
      "execution_count": null,
      "outputs": []
    },
    {
      "cell_type": "markdown",
      "metadata": {
        "id": "mAedvf50UV5R"
      },
      "source": [
        "#**Settings #2**\r\n",
        "\r\n",
        "*   **Batch Size = 100**\r\n",
        "*   **Number of iterations = 10000**\r\n",
        "*   **Learning Rate = 0.001**\r\n",
        "\r\n",
        "\r\n",
        "\r\n",
        "\r\n"
      ]
    },
    {
      "cell_type": "code",
      "metadata": {
        "id": "48ztF8HJ_jHY"
      },
      "source": [
        "# Hyperparameters\r\n",
        "\r\n",
        "batch_size = 100\r\n",
        "num_iters = 10000\r\n",
        "input_dim = 28*28 # num_features = 784\r\n",
        "output_dim = 10\r\n",
        "\r\n",
        "learning_rate = 0.001\r\n",
        "\r\n",
        "# Device\r\n",
        "device = torch.device(\"cuda:0\" if torch.cuda.is_available() else \"cpu\")"
      ],
      "execution_count": null,
      "outputs": []
    },
    {
      "cell_type": "code",
      "metadata": {
        "colab": {
          "base_uri": "https://localhost:8080/"
        },
        "id": "NJTgbU4a_rjZ",
        "outputId": "61b72eb4-36e4-42b4-af07-0fc2e4d6ed41"
      },
      "source": [
        "num_epochs = num_iters / (len(train_sampler) / batch_size)\r\n",
        "num_epochs = int(num_epochs)\r\n",
        "print(num_epochs)"
      ],
      "execution_count": null,
      "outputs": [
        {
          "output_type": "stream",
          "text": [
            "25\n"
          ],
          "name": "stdout"
        }
      ]
    },
    {
      "cell_type": "code",
      "metadata": {
        "colab": {
          "base_uri": "https://localhost:8080/"
        },
        "id": "4ZSKLAWk0Wk1",
        "outputId": "1bac88a2-726a-4c86-9286-4f42e9ff54e8"
      },
      "source": [
        "#Step #3 : Training: forward, loss, backward, step\r\n",
        "\r\n",
        "'''\r\n",
        "TRAIN THE MODEL\r\n",
        "'''\r\n",
        "iteration_loss = []\r\n",
        "iter = 0\r\n",
        "for epoch in range(num_epochs):\r\n",
        "    for i, (images, labels) in enumerate(train_loader):\r\n",
        "\r\n",
        "        images = images.view(images.shape[0], -1).to(device)\r\n",
        "        labels = labels.to(device)\r\n",
        "\r\n",
        "        # Clear gradients w.r.t. parameters\r\n",
        "        optimizer.zero_grad()\r\n",
        "\r\n",
        "        # Forward pass to get output/logits\r\n",
        "        logits, probas = model(images) \r\n",
        "\r\n",
        "        # Calculate Loss: PyTorch implementation of CrossEntropyLoss works with logits, not probabilities\r\n",
        "        loss = F.cross_entropy(logits, labels)\r\n",
        "\r\n",
        "        # Getting gradients w.r.t. parameters\r\n",
        "        loss.backward()\r\n",
        "\r\n",
        "        # Updating parameters\r\n",
        "        optimizer.step()\r\n",
        "\r\n",
        "        iter += 1\r\n",
        "\r\n",
        "        if iter % 50 == 0:\r\n",
        "            # Calculate Accuracy         \r\n",
        "            correct = 0\r\n",
        "            total = 0\r\n",
        "            # Iterate through test dataset\r\n",
        "            for images, labels in test_loader:\r\n",
        "               \r\n",
        "                images = images.view(-1, 28*28).to(device)\r\n",
        "\r\n",
        "                # Forward pass only to get logits/output\r\n",
        "                logits, probas = model(images)\r\n",
        "\r\n",
        "                # Get predictions from the maximum value\r\n",
        "                _, predicted = torch.max(probas, 1)\r\n",
        "\r\n",
        "                # Total number of labels\r\n",
        "                total += labels.size(0)\r\n",
        "\r\n",
        "\r\n",
        "                # Total correct predictions\r\n",
        "                if torch.cuda.is_available():\r\n",
        "                    correct += (predicted.cpu() == labels.cpu()).sum() \r\n",
        "                else:\r\n",
        "                    correct += (predicted == labels).sum()\r\n",
        "\r\n",
        "            accuracy = 100 * correct.item() / total\r\n",
        "\r\n",
        "            # Print Loss\r\n",
        "            iteration_loss.append(loss.item())\r\n",
        "            print('Iteration: {}. Loss: {}. Accuracy: {}'.format(iter, loss.item(), accuracy))"
      ],
      "execution_count": null,
      "outputs": [
        {
          "output_type": "stream",
          "text": [
            "Iteration: 50. Loss: 2.1010818481445312. Accuracy: 36.93181818181818\n",
            "Iteration: 100. Loss: 2.1330761909484863. Accuracy: 36.04545454545455\n",
            "Iteration: 150. Loss: 2.1437528133392334. Accuracy: 38.5\n",
            "Iteration: 200. Loss: 2.1008472442626953. Accuracy: 36.72727272727273\n",
            "Iteration: 250. Loss: 2.1070849895477295. Accuracy: 38.20454545454545\n",
            "Iteration: 300. Loss: 2.1547129154205322. Accuracy: 37.54545454545455\n",
            "Iteration: 350. Loss: 2.1152374744415283. Accuracy: 33.84090909090909\n",
            "Iteration: 400. Loss: 2.1435937881469727. Accuracy: 37.43181818181818\n",
            "Iteration: 450. Loss: 2.147982120513916. Accuracy: 37.0\n",
            "Iteration: 500. Loss: 2.1368439197540283. Accuracy: 36.15909090909091\n",
            "Iteration: 550. Loss: 2.1035280227661133. Accuracy: 36.72727272727273\n",
            "Iteration: 600. Loss: 2.112720489501953. Accuracy: 36.95454545454545\n",
            "Iteration: 650. Loss: 2.1237258911132812. Accuracy: 35.93181818181818\n",
            "Iteration: 700. Loss: 2.0720348358154297. Accuracy: 37.15909090909091\n",
            "Iteration: 750. Loss: 2.172534227371216. Accuracy: 37.79545454545455\n",
            "Iteration: 800. Loss: 2.1346991062164307. Accuracy: 36.63636363636363\n",
            "Iteration: 850. Loss: 2.0804758071899414. Accuracy: 37.22727272727273\n",
            "Iteration: 900. Loss: 2.132746458053589. Accuracy: 37.47727272727273\n",
            "Iteration: 950. Loss: 2.129570960998535. Accuracy: 37.47727272727273\n",
            "Iteration: 1000. Loss: 2.1064183712005615. Accuracy: 38.15909090909091\n",
            "Iteration: 1050. Loss: 2.151762008666992. Accuracy: 37.68181818181818\n",
            "Iteration: 1100. Loss: 2.115255355834961. Accuracy: 37.88636363636363\n",
            "Iteration: 1150. Loss: 2.052145004272461. Accuracy: 37.75\n",
            "Iteration: 1200. Loss: 2.1411259174346924. Accuracy: 37.27272727272727\n",
            "Iteration: 1250. Loss: 2.174785852432251. Accuracy: 37.34090909090909\n",
            "Iteration: 1300. Loss: 2.078317165374756. Accuracy: 36.09090909090909\n",
            "Iteration: 1350. Loss: 2.0613152980804443. Accuracy: 37.0\n",
            "Iteration: 1400. Loss: 2.100247383117676. Accuracy: 36.09090909090909\n",
            "Iteration: 1450. Loss: 2.113332509994507. Accuracy: 36.56818181818182\n",
            "Iteration: 1500. Loss: 2.0612382888793945. Accuracy: 38.15909090909091\n",
            "Iteration: 1550. Loss: 2.0781164169311523. Accuracy: 37.63636363636363\n",
            "Iteration: 1600. Loss: 2.079806327819824. Accuracy: 37.70454545454545\n",
            "Iteration: 1650. Loss: 2.0910229682922363. Accuracy: 37.13636363636363\n",
            "Iteration: 1700. Loss: 2.0497422218322754. Accuracy: 37.95454545454545\n",
            "Iteration: 1750. Loss: 2.1169259548187256. Accuracy: 36.0\n",
            "Iteration: 1800. Loss: 2.0503602027893066. Accuracy: 37.27272727272727\n",
            "Iteration: 1850. Loss: 2.1342010498046875. Accuracy: 37.72727272727273\n",
            "Iteration: 1900. Loss: 2.1002981662750244. Accuracy: 38.40909090909091\n",
            "Iteration: 1950. Loss: 2.116353988647461. Accuracy: 37.22727272727273\n",
            "Iteration: 2000. Loss: 2.0562992095947266. Accuracy: 37.36363636363637\n",
            "Iteration: 2050. Loss: 2.1136131286621094. Accuracy: 37.90909090909091\n",
            "Iteration: 2100. Loss: 2.135413885116577. Accuracy: 37.47727272727273\n",
            "Iteration: 2150. Loss: 2.094191551208496. Accuracy: 37.88636363636363\n",
            "Iteration: 2200. Loss: 2.116331100463867. Accuracy: 37.77272727272727\n",
            "Iteration: 2250. Loss: 2.0657477378845215. Accuracy: 37.86363636363637\n",
            "Iteration: 2300. Loss: 2.1105873584747314. Accuracy: 37.72727272727273\n",
            "Iteration: 2350. Loss: 2.099709987640381. Accuracy: 37.02272727272727\n",
            "Iteration: 2400. Loss: 2.070204019546509. Accuracy: 37.70454545454545\n",
            "Iteration: 2450. Loss: 2.105360507965088. Accuracy: 37.27272727272727\n",
            "Iteration: 2500. Loss: 2.065861940383911. Accuracy: 36.97727272727273\n",
            "Iteration: 2550. Loss: 2.091783046722412. Accuracy: 38.29545454545455\n",
            "Iteration: 2600. Loss: 2.078101873397827. Accuracy: 38.75\n",
            "Iteration: 2650. Loss: 2.1222002506256104. Accuracy: 37.84090909090909\n",
            "Iteration: 2700. Loss: 2.0710372924804688. Accuracy: 38.59090909090909\n",
            "Iteration: 2750. Loss: 2.077970027923584. Accuracy: 36.27272727272727\n",
            "Iteration: 2800. Loss: 2.1326658725738525. Accuracy: 38.45454545454545\n",
            "Iteration: 2850. Loss: 2.0612804889678955. Accuracy: 37.52272727272727\n",
            "Iteration: 2900. Loss: 2.080144166946411. Accuracy: 38.31818181818182\n",
            "Iteration: 2950. Loss: 2.080009698867798. Accuracy: 38.34090909090909\n",
            "Iteration: 3000. Loss: 2.1202499866485596. Accuracy: 38.18181818181818\n",
            "Iteration: 3050. Loss: 2.068275213241577. Accuracy: 36.86363636363637\n",
            "Iteration: 3100. Loss: 2.093310832977295. Accuracy: 38.52272727272727\n",
            "Iteration: 3150. Loss: 2.0636348724365234. Accuracy: 37.65909090909091\n",
            "Iteration: 3200. Loss: 2.0655710697174072. Accuracy: 38.09090909090909\n",
            "Iteration: 3250. Loss: 2.059126615524292. Accuracy: 38.02272727272727\n",
            "Iteration: 3300. Loss: 2.0772898197174072. Accuracy: 37.86363636363637\n",
            "Iteration: 3350. Loss: 2.1078848838806152. Accuracy: 37.90909090909091\n",
            "Iteration: 3400. Loss: 2.028289318084717. Accuracy: 37.93181818181818\n",
            "Iteration: 3450. Loss: 2.1275136470794678. Accuracy: 38.02272727272727\n",
            "Iteration: 3500. Loss: 2.104281425476074. Accuracy: 38.59090909090909\n",
            "Iteration: 3550. Loss: 2.0999393463134766. Accuracy: 38.54545454545455\n",
            "Iteration: 3600. Loss: 2.0732858180999756. Accuracy: 36.5\n",
            "Iteration: 3650. Loss: 2.120651960372925. Accuracy: 37.88636363636363\n",
            "Iteration: 3700. Loss: 2.083383560180664. Accuracy: 37.81818181818182\n",
            "Iteration: 3750. Loss: 2.0801970958709717. Accuracy: 37.93181818181818\n",
            "Iteration: 3800. Loss: 2.0420989990234375. Accuracy: 37.36363636363637\n",
            "Iteration: 3850. Loss: 2.0812973976135254. Accuracy: 38.09090909090909\n",
            "Iteration: 3900. Loss: 2.1028730869293213. Accuracy: 37.90909090909091\n",
            "Iteration: 3950. Loss: 2.0929648876190186. Accuracy: 37.95454545454545\n",
            "Iteration: 4000. Loss: 2.0291407108306885. Accuracy: 37.36363636363637\n",
            "Iteration: 4050. Loss: 2.1460185050964355. Accuracy: 37.31818181818182\n",
            "Iteration: 4100. Loss: 2.061359167098999. Accuracy: 38.31818181818182\n",
            "Iteration: 4150. Loss: 2.056259870529175. Accuracy: 36.70454545454545\n",
            "Iteration: 4200. Loss: 2.04850172996521. Accuracy: 38.77272727272727\n",
            "Iteration: 4250. Loss: 2.042269229888916. Accuracy: 37.95454545454545\n",
            "Iteration: 4300. Loss: 2.0911645889282227. Accuracy: 38.25\n",
            "Iteration: 4350. Loss: 2.0263969898223877. Accuracy: 38.88636363636363\n",
            "Iteration: 4400. Loss: 2.0272693634033203. Accuracy: 39.04545454545455\n",
            "Iteration: 4450. Loss: 2.0635006427764893. Accuracy: 38.11363636363637\n",
            "Iteration: 4500. Loss: 2.122659921646118. Accuracy: 37.93181818181818\n",
            "Iteration: 4550. Loss: 2.065603017807007. Accuracy: 37.72727272727273\n",
            "Iteration: 4600. Loss: 2.0806305408477783. Accuracy: 38.61363636363637\n",
            "Iteration: 4650. Loss: 2.127422571182251. Accuracy: 38.5\n",
            "Iteration: 4700. Loss: 2.0777714252471924. Accuracy: 37.79545454545455\n",
            "Iteration: 4750. Loss: 2.072279930114746. Accuracy: 38.22727272727273\n",
            "Iteration: 4800. Loss: 2.081728219985962. Accuracy: 38.20454545454545\n",
            "Iteration: 4850. Loss: 2.0562539100646973. Accuracy: 37.56818181818182\n",
            "Iteration: 4900. Loss: 2.108523368835449. Accuracy: 37.75\n",
            "Iteration: 4950. Loss: 2.0649895668029785. Accuracy: 37.09090909090909\n",
            "Iteration: 5000. Loss: 2.075120210647583. Accuracy: 38.36363636363637\n",
            "Iteration: 5050. Loss: 2.064157009124756. Accuracy: 38.06818181818182\n",
            "Iteration: 5100. Loss: 2.0574188232421875. Accuracy: 38.15909090909091\n",
            "Iteration: 5150. Loss: 2.076103687286377. Accuracy: 38.77272727272727\n",
            "Iteration: 5200. Loss: 2.088491439819336. Accuracy: 38.25\n",
            "Iteration: 5250. Loss: 2.107753038406372. Accuracy: 38.63636363636363\n",
            "Iteration: 5300. Loss: 2.1065869331359863. Accuracy: 37.86363636363637\n",
            "Iteration: 5350. Loss: 2.092348098754883. Accuracy: 38.86363636363637\n",
            "Iteration: 5400. Loss: 2.060206890106201. Accuracy: 38.31818181818182\n",
            "Iteration: 5450. Loss: 2.0363988876342773. Accuracy: 37.0\n",
            "Iteration: 5500. Loss: 2.088437080383301. Accuracy: 37.95454545454545\n",
            "Iteration: 5550. Loss: 2.0247206687927246. Accuracy: 39.06818181818182\n",
            "Iteration: 5600. Loss: 2.0693447589874268. Accuracy: 38.04545454545455\n",
            "Iteration: 5650. Loss: 2.0185511112213135. Accuracy: 38.06818181818182\n",
            "Iteration: 5700. Loss: 2.052128314971924. Accuracy: 38.22727272727273\n",
            "Iteration: 5750. Loss: 2.0238959789276123. Accuracy: 38.04545454545455\n",
            "Iteration: 5800. Loss: 2.056178331375122. Accuracy: 38.45454545454545\n",
            "Iteration: 5850. Loss: 2.1043779850006104. Accuracy: 37.09090909090909\n",
            "Iteration: 5900. Loss: 2.039630889892578. Accuracy: 39.11363636363637\n",
            "Iteration: 5950. Loss: 2.067209243774414. Accuracy: 39.04545454545455\n",
            "Iteration: 6000. Loss: 1.9927775859832764. Accuracy: 38.34090909090909\n",
            "Iteration: 6050. Loss: 2.0506772994995117. Accuracy: 37.93181818181818\n",
            "Iteration: 6100. Loss: 2.057742118835449. Accuracy: 38.77272727272727\n",
            "Iteration: 6150. Loss: 2.1099135875701904. Accuracy: 38.72727272727273\n",
            "Iteration: 6200. Loss: 2.0638153553009033. Accuracy: 38.90909090909091\n",
            "Iteration: 6250. Loss: 2.0464110374450684. Accuracy: 37.81818181818182\n",
            "Iteration: 6300. Loss: 1.9773170948028564. Accuracy: 38.31818181818182\n",
            "Iteration: 6350. Loss: 2.0588083267211914. Accuracy: 39.45454545454545\n",
            "Iteration: 6400. Loss: 2.042384386062622. Accuracy: 38.27272727272727\n",
            "Iteration: 6450. Loss: 2.0964975357055664. Accuracy: 38.06818181818182\n",
            "Iteration: 6500. Loss: 2.068751335144043. Accuracy: 39.38636363636363\n",
            "Iteration: 6550. Loss: 2.0430660247802734. Accuracy: 37.27272727272727\n",
            "Iteration: 6600. Loss: 2.141000270843506. Accuracy: 38.27272727272727\n",
            "Iteration: 6650. Loss: 2.08003306388855. Accuracy: 38.04545454545455\n",
            "Iteration: 6700. Loss: 2.0970802307128906. Accuracy: 38.45454545454545\n",
            "Iteration: 6750. Loss: 2.113530158996582. Accuracy: 39.02272727272727\n",
            "Iteration: 6800. Loss: 2.027677059173584. Accuracy: 37.36363636363637\n",
            "Iteration: 6850. Loss: 2.035147190093994. Accuracy: 38.59090909090909\n",
            "Iteration: 6900. Loss: 2.0318922996520996. Accuracy: 38.34090909090909\n",
            "Iteration: 6950. Loss: 1.9689531326293945. Accuracy: 38.29545454545455\n",
            "Iteration: 7000. Loss: 2.031843900680542. Accuracy: 37.95454545454545\n",
            "Iteration: 7050. Loss: 2.0024192333221436. Accuracy: 38.29545454545455\n",
            "Iteration: 7100. Loss: 2.0010874271392822. Accuracy: 38.90909090909091\n",
            "Iteration: 7150. Loss: 2.019888401031494. Accuracy: 38.90909090909091\n",
            "Iteration: 7200. Loss: 2.0662872791290283. Accuracy: 38.75\n",
            "Iteration: 7250. Loss: 2.054678440093994. Accuracy: 38.0\n",
            "Iteration: 7300. Loss: 2.0845890045166016. Accuracy: 38.70454545454545\n",
            "Iteration: 7350. Loss: 2.0227556228637695. Accuracy: 38.56818181818182\n",
            "Iteration: 7400. Loss: 2.0456578731536865. Accuracy: 37.63636363636363\n",
            "Iteration: 7450. Loss: 2.0624845027923584. Accuracy: 38.84090909090909\n",
            "Iteration: 7500. Loss: 2.0508553981781006. Accuracy: 38.70454545454545\n",
            "Iteration: 7550. Loss: 2.023367404937744. Accuracy: 39.27272727272727\n",
            "Iteration: 7600. Loss: 2.05076265335083. Accuracy: 38.77272727272727\n",
            "Iteration: 7650. Loss: 1.9950021505355835. Accuracy: 39.09090909090909\n",
            "Iteration: 7700. Loss: 2.021336555480957. Accuracy: 38.31818181818182\n",
            "Iteration: 7750. Loss: 2.0072991847991943. Accuracy: 39.13636363636363\n",
            "Iteration: 7800. Loss: 2.048884391784668. Accuracy: 38.86363636363637\n",
            "Iteration: 7850. Loss: 2.0192368030548096. Accuracy: 39.22727272727273\n",
            "Iteration: 7900. Loss: 2.0705957412719727. Accuracy: 38.02272727272727\n",
            "Iteration: 7950. Loss: 2.023118019104004. Accuracy: 38.52272727272727\n",
            "Iteration: 8000. Loss: 2.058838367462158. Accuracy: 38.75\n",
            "Iteration: 8050. Loss: 2.071255683898926. Accuracy: 38.75\n",
            "Iteration: 8100. Loss: 2.081209182739258. Accuracy: 38.56818181818182\n",
            "Iteration: 8150. Loss: 1.9986958503723145. Accuracy: 38.86363636363637\n",
            "Iteration: 8200. Loss: 1.995266318321228. Accuracy: 38.79545454545455\n",
            "Iteration: 8250. Loss: 2.052779197692871. Accuracy: 38.70454545454545\n",
            "Iteration: 8300. Loss: 2.045348882675171. Accuracy: 37.59090909090909\n",
            "Iteration: 8350. Loss: 2.097416877746582. Accuracy: 39.25\n",
            "Iteration: 8400. Loss: 2.051825523376465. Accuracy: 38.63636363636363\n",
            "Iteration: 8450. Loss: 2.0988974571228027. Accuracy: 38.13636363636363\n",
            "Iteration: 8500. Loss: 2.085845708847046. Accuracy: 38.75\n",
            "Iteration: 8550. Loss: 2.085773229598999. Accuracy: 39.13636363636363\n",
            "Iteration: 8600. Loss: 2.014824151992798. Accuracy: 38.77272727272727\n",
            "Iteration: 8650. Loss: 2.0075745582580566. Accuracy: 38.95454545454545\n",
            "Iteration: 8700. Loss: 2.121920585632324. Accuracy: 39.0\n",
            "Iteration: 8750. Loss: 2.085482120513916. Accuracy: 38.68181818181818\n",
            "Iteration: 8800. Loss: 2.0346360206604004. Accuracy: 39.02272727272727\n",
            "Iteration: 8850. Loss: 2.0172314643859863. Accuracy: 39.22727272727273\n",
            "Iteration: 8900. Loss: 2.016378879547119. Accuracy: 38.97727272727273\n",
            "Iteration: 8950. Loss: 1.9813389778137207. Accuracy: 38.79545454545455\n",
            "Iteration: 9000. Loss: 2.095125675201416. Accuracy: 38.79545454545455\n",
            "Iteration: 9050. Loss: 2.0720741748809814. Accuracy: 38.77272727272727\n",
            "Iteration: 9100. Loss: 2.039271593093872. Accuracy: 38.40909090909091\n",
            "Iteration: 9150. Loss: 2.057065010070801. Accuracy: 38.90909090909091\n",
            "Iteration: 9200. Loss: 2.0364902019500732. Accuracy: 38.43181818181818\n",
            "Iteration: 9250. Loss: 2.041624069213867. Accuracy: 39.0\n",
            "Iteration: 9300. Loss: 2.0451598167419434. Accuracy: 38.18181818181818\n",
            "Iteration: 9350. Loss: 2.076266288757324. Accuracy: 39.54545454545455\n",
            "Iteration: 9400. Loss: 2.0450220108032227. Accuracy: 39.29545454545455\n",
            "Iteration: 9450. Loss: 2.062609910964966. Accuracy: 39.0\n",
            "Iteration: 9500. Loss: 2.0375053882598877. Accuracy: 38.63636363636363\n",
            "Iteration: 9550. Loss: 2.0412681102752686. Accuracy: 38.97727272727273\n",
            "Iteration: 9600. Loss: 2.0546088218688965. Accuracy: 38.95454545454545\n",
            "Iteration: 9650. Loss: 2.0766854286193848. Accuracy: 39.36363636363637\n",
            "Iteration: 9700. Loss: 2.074650526046753. Accuracy: 39.29545454545455\n",
            "Iteration: 9750. Loss: 2.020073890686035. Accuracy: 38.52272727272727\n",
            "Iteration: 9800. Loss: 2.036564350128174. Accuracy: 38.93181818181818\n",
            "Iteration: 9850. Loss: 2.0064573287963867. Accuracy: 37.77272727272727\n",
            "Iteration: 9900. Loss: 1.9917616844177246. Accuracy: 38.81818181818182\n"
          ],
          "name": "stdout"
        }
      ]
    },
    {
      "cell_type": "code",
      "metadata": {
        "colab": {
          "base_uri": "https://localhost:8080/",
          "height": 316
        },
        "id": "x7kbD5i_7XcK",
        "outputId": "3bbfda1a-2b69-4b02-c8f0-2bb28609aea7"
      },
      "source": [
        "import matplotlib\r\n",
        "import matplotlib.pyplot as plt\r\n",
        "\r\n",
        "print (iteration_loss)\r\n",
        "plt.plot(iteration_loss)\r\n",
        "plt.ylabel('Cross Entropy Loss')\r\n",
        "plt.xlabel('Iteration (in every 50)')\r\n",
        "plt.show()"
      ],
      "execution_count": null,
      "outputs": [
        {
          "output_type": "stream",
          "text": [
            "[2.1010818481445312, 2.1330761909484863, 2.1437528133392334, 2.1008472442626953, 2.1070849895477295, 2.1547129154205322, 2.1152374744415283, 2.1435937881469727, 2.147982120513916, 2.1368439197540283, 2.1035280227661133, 2.112720489501953, 2.1237258911132812, 2.0720348358154297, 2.172534227371216, 2.1346991062164307, 2.0804758071899414, 2.132746458053589, 2.129570960998535, 2.1064183712005615, 2.151762008666992, 2.115255355834961, 2.052145004272461, 2.1411259174346924, 2.174785852432251, 2.078317165374756, 2.0613152980804443, 2.100247383117676, 2.113332509994507, 2.0612382888793945, 2.0781164169311523, 2.079806327819824, 2.0910229682922363, 2.0497422218322754, 2.1169259548187256, 2.0503602027893066, 2.1342010498046875, 2.1002981662750244, 2.116353988647461, 2.0562992095947266, 2.1136131286621094, 2.135413885116577, 2.094191551208496, 2.116331100463867, 2.0657477378845215, 2.1105873584747314, 2.099709987640381, 2.070204019546509, 2.105360507965088, 2.065861940383911, 2.091783046722412, 2.078101873397827, 2.1222002506256104, 2.0710372924804688, 2.077970027923584, 2.1326658725738525, 2.0612804889678955, 2.080144166946411, 2.080009698867798, 2.1202499866485596, 2.068275213241577, 2.093310832977295, 2.0636348724365234, 2.0655710697174072, 2.059126615524292, 2.0772898197174072, 2.1078848838806152, 2.028289318084717, 2.1275136470794678, 2.104281425476074, 2.0999393463134766, 2.0732858180999756, 2.120651960372925, 2.083383560180664, 2.0801970958709717, 2.0420989990234375, 2.0812973976135254, 2.1028730869293213, 2.0929648876190186, 2.0291407108306885, 2.1460185050964355, 2.061359167098999, 2.056259870529175, 2.04850172996521, 2.042269229888916, 2.0911645889282227, 2.0263969898223877, 2.0272693634033203, 2.0635006427764893, 2.122659921646118, 2.065603017807007, 2.0806305408477783, 2.127422571182251, 2.0777714252471924, 2.072279930114746, 2.081728219985962, 2.0562539100646973, 2.108523368835449, 2.0649895668029785, 2.075120210647583, 2.064157009124756, 2.0574188232421875, 2.076103687286377, 2.088491439819336, 2.107753038406372, 2.1065869331359863, 2.092348098754883, 2.060206890106201, 2.0363988876342773, 2.088437080383301, 2.0247206687927246, 2.0693447589874268, 2.0185511112213135, 2.052128314971924, 2.0238959789276123, 2.056178331375122, 2.1043779850006104, 2.039630889892578, 2.067209243774414, 1.9927775859832764, 2.0506772994995117, 2.057742118835449, 2.1099135875701904, 2.0638153553009033, 2.0464110374450684, 1.9773170948028564, 2.0588083267211914, 2.042384386062622, 2.0964975357055664, 2.068751335144043, 2.0430660247802734, 2.141000270843506, 2.08003306388855, 2.0970802307128906, 2.113530158996582, 2.027677059173584, 2.035147190093994, 2.0318922996520996, 1.9689531326293945, 2.031843900680542, 2.0024192333221436, 2.0010874271392822, 2.019888401031494, 2.0662872791290283, 2.054678440093994, 2.0845890045166016, 2.0227556228637695, 2.0456578731536865, 2.0624845027923584, 2.0508553981781006, 2.023367404937744, 2.05076265335083, 1.9950021505355835, 2.021336555480957, 2.0072991847991943, 2.048884391784668, 2.0192368030548096, 2.0705957412719727, 2.023118019104004, 2.058838367462158, 2.071255683898926, 2.081209182739258, 1.9986958503723145, 1.995266318321228, 2.052779197692871, 2.045348882675171, 2.097416877746582, 2.051825523376465, 2.0988974571228027, 2.085845708847046, 2.085773229598999, 2.014824151992798, 2.0075745582580566, 2.121920585632324, 2.085482120513916, 2.0346360206604004, 2.0172314643859863, 2.016378879547119, 1.9813389778137207, 2.095125675201416, 2.0720741748809814, 2.039271593093872, 2.057065010070801, 2.0364902019500732, 2.041624069213867, 2.0451598167419434, 2.076266288757324, 2.0450220108032227, 2.062609910964966, 2.0375053882598877, 2.0412681102752686, 2.0546088218688965, 2.0766854286193848, 2.074650526046753, 2.020073890686035, 2.036564350128174, 2.0064573287963867, 1.9917616844177246]\n"
          ],
          "name": "stdout"
        },
        {
          "output_type": "display_data",
          "data": {
            "image/png": "[encoded data removed]",
            "text/plain": [
              "<Figure size 432x288 with 1 Axes>"
            ]
          },
          "metadata": {
            "tags": [],
            "needs_background": "light"
          }
        }
      ]
    },
    {
      "cell_type": "code",
      "metadata": {
        "colab": {
          "base_uri": "https://localhost:8080/",
          "height": 109
        },
        "id": "oKO0wZUM7Xs1",
        "outputId": "4b0948fc-7bac-4ebf-f118-cd0ba0d482bd"
      },
      "source": [
        "for images, labels in test_loader:\r\n",
        "    break\r\n",
        "fig, ax = plt.subplots(1, 5)\r\n",
        "for i in range(5):\r\n",
        "    ax[i].imshow(images[i].view(28, 28), cmap=matplotlib.cm.binary)\r\n",
        "\r\n",
        "plt.show()"
      ],
      "execution_count": null,
      "outputs": [
        {
          "output_type": "display_data",
          "data": {
            "image/png": "[encoded data removed]",
            "text/plain": [
              "<Figure size 432x288 with 5 Axes>"
            ]
          },
          "metadata": {
            "tags": [],
            "needs_background": "light"
          }
        }
      ]
    },
    {
      "cell_type": "code",
      "metadata": {
        "colab": {
          "base_uri": "https://localhost:8080/"
        },
        "id": "ddSzycJDMdvT",
        "outputId": "c0a28599-239c-4d07-e209-d36c8bffde7b"
      },
      "source": [
        "_, predictions = model.forward(images[:5].view(-1, 28*28).to(device))\r\n",
        "predictions = torch.argmax(predictions, dim=1)\r\n",
        "print('Predicted labels', predictions.cpu().numpy())"
      ],
      "execution_count": null,
      "outputs": [
        {
          "output_type": "stream",
          "text": [
            "Predicted labels [8 3 9 6 8]\n"
          ],
          "name": "stdout"
        }
      ]
    },
    {
      "cell_type": "code",
      "metadata": {
        "colab": {
          "base_uri": "https://localhost:8080/"
        },
        "id": "a649-e3fOm6H",
        "outputId": "6d6ed070-f6c5-43cb-e57c-538e569e97ca"
      },
      "source": [
        "\r\n",
        "from google.colab import drive\r\n",
        "\r\n",
        "drive.mount('/content/gdrive')\r\n",
        "\r\n",
        "root_path = '/content/gdrive/My Drive/Mount/Assignment01/'"
      ],
      "execution_count": null,
      "outputs": [
        {
          "output_type": "stream",
          "text": [
            "Drive already mounted at /content/gdrive; to attempt to forcibly remount, call drive.mount(\"/content/gdrive\", force_remount=True).\n"
          ],
          "name": "stdout"
        }
      ]
    },
    {
      "cell_type": "code",
      "metadata": {
        "id": "frHIMJiNOrWV"
      },
      "source": [
        "##Save Model\r\n",
        "\r\n",
        "save_model = True\r\n",
        "\r\n",
        "if save_model is True:\r\n",
        "    # Saves only parameters\r\n",
        "    # wights & biases\r\n",
        "    torch.save(model.state_dict(), root_path + 'Assignment01.2.pkl') "
      ],
      "execution_count": null,
      "outputs": []
    },
    {
      "cell_type": "code",
      "metadata": {
        "colab": {
          "base_uri": "https://localhost:8080/"
        },
        "id": "uCs8cVIfMhqR",
        "outputId": "ee153294-ea73-456d-a7f3-27067c170e50"
      },
      "source": [
        "##Load Model\r\n",
        "load_model = True\r\n",
        "\r\n",
        "if load_model is True:\r\n",
        "    model.load_state_dict(torch.load(root_path + 'Assignment01.2.pkl'))\r\n",
        "    print('Trained Model Loaded')"
      ],
      "execution_count": null,
      "outputs": [
        {
          "output_type": "stream",
          "text": [
            "Trained Model Loaded\n"
          ],
          "name": "stdout"
        }
      ]
    },
    {
      "cell_type": "code",
      "metadata": {
        "id": "nEy4FubXOluM"
      },
      "source": [
        "###################\r\n",
        "# Settings03\r\n",
        "###################"
      ],
      "execution_count": null,
      "outputs": []
    },
    {
      "cell_type": "markdown",
      "metadata": {
        "id": "vuK7aJfCUeqv"
      },
      "source": [
        "#**Settings #3**\r\n",
        "\r\n",
        "*   **Batch Size = 80**\r\n",
        "*   **Number of iterations = 15000**\r\n",
        "*   **Learning Rate = 0.0001**\r\n",
        "\r\n",
        "\r\n",
        "\r\n",
        "\r\n"
      ]
    },
    {
      "cell_type": "code",
      "metadata": {
        "id": "8JrsrzX9O-jN"
      },
      "source": [
        "# Hyperparameters\r\n",
        "\r\n",
        "batch_size = 80\r\n",
        "num_iters = 15000\r\n",
        "input_dim = 28*28 # num_features = 784\r\n",
        "output_dim = 10\r\n",
        "\r\n",
        "learning_rate = 0.0001\r\n",
        "\r\n",
        "# Device\r\n",
        "device = torch.device(\"cuda:0\" if torch.cuda.is_available() else \"cpu\")"
      ],
      "execution_count": null,
      "outputs": []
    },
    {
      "cell_type": "code",
      "metadata": {
        "colab": {
          "base_uri": "https://localhost:8080/"
        },
        "id": "cAwdAOgMQnd6",
        "outputId": "6e632b0c-ad4b-44d3-ca01-e3b04aa50d84"
      },
      "source": [
        "num_epochs = num_iters / (len(train_sampler) / batch_size)\r\n",
        "num_epochs = int(num_epochs)\r\n",
        "print(num_epochs)"
      ],
      "execution_count": null,
      "outputs": [
        {
          "output_type": "stream",
          "text": [
            "30\n"
          ],
          "name": "stdout"
        }
      ]
    },
    {
      "cell_type": "code",
      "metadata": {
        "colab": {
          "base_uri": "https://localhost:8080/"
        },
        "id": "uQ79fHEuQoqx",
        "outputId": "297d3c9b-3de1-43ac-ae23-f2e9c7be24c0"
      },
      "source": [
        "#Step #3 : Training: forward, loss, backward, step\r\n",
        "\r\n",
        "'''\r\n",
        "TRAIN THE MODEL\r\n",
        "'''\r\n",
        "iteration_loss = []\r\n",
        "iter = 0\r\n",
        "for epoch in range(num_epochs):\r\n",
        "    for i, (images, labels) in enumerate(train_loader):\r\n",
        "\r\n",
        "        images = images.view(images.shape[0], -1).to(device)\r\n",
        "        labels = labels.to(device)\r\n",
        "\r\n",
        "        # Clear gradients w.r.t. parameters\r\n",
        "        optimizer.zero_grad()\r\n",
        "\r\n",
        "        # Forward pass to get output/logits\r\n",
        "        logits, probas = model(images) \r\n",
        "\r\n",
        "        # Calculate Loss: PyTorch implementation of CrossEntropyLoss works with logits, not probabilities\r\n",
        "        loss = F.cross_entropy(logits, labels)\r\n",
        "\r\n",
        "        # Getting gradients w.r.t. parameters\r\n",
        "        loss.backward()\r\n",
        "\r\n",
        "        # Updating parameters\r\n",
        "        optimizer.step()\r\n",
        "\r\n",
        "        iter += 1\r\n",
        "\r\n",
        "        if iter % 30 == 0:\r\n",
        "            # Calculate Accuracy         \r\n",
        "            correct = 0\r\n",
        "            total = 0\r\n",
        "            # Iterate through test dataset\r\n",
        "            for images, labels in test_loader:\r\n",
        "               \r\n",
        "                images = images.view(-1, 28*28).to(device)\r\n",
        "\r\n",
        "                # Forward pass only to get logits/output\r\n",
        "                logits, probas = model(images)\r\n",
        "\r\n",
        "                # Get predictions from the maximum value\r\n",
        "                _, predicted = torch.max(probas, 1)\r\n",
        "\r\n",
        "                # Total number of labels\r\n",
        "                total += labels.size(0)\r\n",
        "\r\n",
        "\r\n",
        "                # Total correct predictions\r\n",
        "                if torch.cuda.is_available():\r\n",
        "                    correct += (predicted.cpu() == labels.cpu()).sum() \r\n",
        "                else:\r\n",
        "                    correct += (predicted == labels).sum()\r\n",
        "\r\n",
        "            accuracy = 100 * correct.item() / total\r\n",
        "\r\n",
        "            # Print Loss\r\n",
        "            iteration_loss.append(loss.item())\r\n",
        "            print('Iteration: {}. Loss: {}. Accuracy: {}'.format(iter, loss.item(), accuracy))"
      ],
      "execution_count": null,
      "outputs": [
        {
          "output_type": "stream",
          "text": [
            "Iteration: 30. Loss: 2.0220046043395996. Accuracy: 39.59090909090909\n",
            "Iteration: 60. Loss: 2.0544538497924805. Accuracy: 39.09090909090909\n",
            "Iteration: 90. Loss: 2.0096218585968018. Accuracy: 38.61363636363637\n",
            "Iteration: 120. Loss: 2.0123114585876465. Accuracy: 38.79545454545455\n",
            "Iteration: 150. Loss: 2.007127046585083. Accuracy: 38.72727272727273\n",
            "Iteration: 180. Loss: 2.1016194820404053. Accuracy: 39.52272727272727\n",
            "Iteration: 210. Loss: 2.095707893371582. Accuracy: 39.5\n",
            "Iteration: 240. Loss: 2.0156211853027344. Accuracy: 39.65909090909091\n",
            "Iteration: 270. Loss: 2.000741958618164. Accuracy: 39.40909090909091\n",
            "Iteration: 300. Loss: 1.9882179498672485. Accuracy: 38.61363636363637\n",
            "Iteration: 330. Loss: 2.040261745452881. Accuracy: 39.47727272727273\n",
            "Iteration: 360. Loss: 1.990473985671997. Accuracy: 39.68181818181818\n",
            "Iteration: 390. Loss: 2.120086908340454. Accuracy: 38.90909090909091\n",
            "Iteration: 420. Loss: 2.05904221534729. Accuracy: 39.11363636363637\n",
            "Iteration: 450. Loss: 2.0312066078186035. Accuracy: 39.13636363636363\n",
            "Iteration: 480. Loss: 2.034032106399536. Accuracy: 39.20454545454545\n",
            "Iteration: 510. Loss: 2.0612897872924805. Accuracy: 39.06818181818182\n",
            "Iteration: 540. Loss: 2.077653169631958. Accuracy: 39.54545454545455\n",
            "Iteration: 570. Loss: 2.051701784133911. Accuracy: 39.20454545454545\n",
            "Iteration: 600. Loss: 1.997746229171753. Accuracy: 39.31818181818182\n",
            "Iteration: 630. Loss: 2.0067074298858643. Accuracy: 38.70454545454545\n",
            "Iteration: 660. Loss: 2.085881233215332. Accuracy: 38.70454545454545\n",
            "Iteration: 690. Loss: 2.0416970252990723. Accuracy: 39.25\n",
            "Iteration: 720. Loss: 2.0212459564208984. Accuracy: 39.34090909090909\n",
            "Iteration: 750. Loss: 1.997682809829712. Accuracy: 39.13636363636363\n",
            "Iteration: 780. Loss: 2.04428768157959. Accuracy: 39.31818181818182\n",
            "Iteration: 810. Loss: 2.016954183578491. Accuracy: 39.38636363636363\n",
            "Iteration: 840. Loss: 2.0257043838500977. Accuracy: 39.11363636363637\n",
            "Iteration: 870. Loss: 2.030891180038452. Accuracy: 39.70454545454545\n",
            "Iteration: 900. Loss: 2.0766196250915527. Accuracy: 39.0\n",
            "Iteration: 930. Loss: 2.022493362426758. Accuracy: 39.63636363636363\n",
            "Iteration: 960. Loss: 1.9399299621582031. Accuracy: 39.52272727272727\n",
            "Iteration: 990. Loss: 2.0150818824768066. Accuracy: 39.18181818181818\n",
            "Iteration: 1020. Loss: 2.0218753814697266. Accuracy: 38.88636363636363\n",
            "Iteration: 1050. Loss: 1.98829984664917. Accuracy: 39.13636363636363\n",
            "Iteration: 1080. Loss: 1.93929123878479. Accuracy: 39.47727272727273\n",
            "Iteration: 1110. Loss: 2.0666635036468506. Accuracy: 39.06818181818182\n",
            "Iteration: 1140. Loss: 1.9985498189926147. Accuracy: 39.31818181818182\n",
            "Iteration: 1170. Loss: 1.9992491006851196. Accuracy: 38.86363636363637\n",
            "Iteration: 1200. Loss: 2.0764522552490234. Accuracy: 39.02272727272727\n",
            "Iteration: 1230. Loss: 2.059485673904419. Accuracy: 39.15909090909091\n",
            "Iteration: 1260. Loss: 2.002805233001709. Accuracy: 39.84090909090909\n",
            "Iteration: 1290. Loss: 2.0516440868377686. Accuracy: 39.06818181818182\n",
            "Iteration: 1320. Loss: 2.0056777000427246. Accuracy: 39.13636363636363\n",
            "Iteration: 1350. Loss: 1.9916490316390991. Accuracy: 39.75\n",
            "Iteration: 1380. Loss: 2.027026414871216. Accuracy: 39.61363636363637\n",
            "Iteration: 1410. Loss: 2.093116044998169. Accuracy: 39.43181818181818\n",
            "Iteration: 1440. Loss: 1.9998970031738281. Accuracy: 39.52272727272727\n",
            "Iteration: 1470. Loss: 1.984562635421753. Accuracy: 38.52272727272727\n",
            "Iteration: 1500. Loss: 2.0855727195739746. Accuracy: 39.15909090909091\n",
            "Iteration: 1530. Loss: 2.023768424987793. Accuracy: 38.61363636363637\n",
            "Iteration: 1560. Loss: 2.141441583633423. Accuracy: 38.40909090909091\n",
            "Iteration: 1590. Loss: 2.006995916366577. Accuracy: 39.61363636363637\n",
            "Iteration: 1620. Loss: 2.0591681003570557. Accuracy: 39.79545454545455\n",
            "Iteration: 1650. Loss: 2.017221450805664. Accuracy: 39.77272727272727\n",
            "Iteration: 1680. Loss: 2.0041017532348633. Accuracy: 38.84090909090909\n",
            "Iteration: 1710. Loss: 2.0858283042907715. Accuracy: 39.11363636363637\n",
            "Iteration: 1740. Loss: 1.93984055519104. Accuracy: 39.68181818181818\n",
            "Iteration: 1770. Loss: 1.9653321504592896. Accuracy: 38.84090909090909\n",
            "Iteration: 1800. Loss: 1.9814800024032593. Accuracy: 39.65909090909091\n",
            "Iteration: 1830. Loss: 1.9761744737625122. Accuracy: 39.81818181818182\n",
            "Iteration: 1860. Loss: 2.0146067142486572. Accuracy: 39.36363636363637\n",
            "Iteration: 1890. Loss: 2.0399277210235596. Accuracy: 37.97727272727273\n",
            "Iteration: 1920. Loss: 2.0778348445892334. Accuracy: 39.79545454545455\n",
            "Iteration: 1950. Loss: 2.0335988998413086. Accuracy: 39.47727272727273\n",
            "Iteration: 1980. Loss: 2.001352310180664. Accuracy: 37.70454545454545\n",
            "Iteration: 2010. Loss: 2.055199146270752. Accuracy: 39.15909090909091\n",
            "Iteration: 2040. Loss: 1.9969617128372192. Accuracy: 39.36363636363637\n",
            "Iteration: 2070. Loss: 2.0286481380462646. Accuracy: 39.84090909090909\n",
            "Iteration: 2100. Loss: 1.9473316669464111. Accuracy: 39.09090909090909\n",
            "Iteration: 2130. Loss: 1.976041316986084. Accuracy: 39.34090909090909\n",
            "Iteration: 2160. Loss: 2.0897040367126465. Accuracy: 39.13636363636363\n",
            "Iteration: 2190. Loss: 2.0380353927612305. Accuracy: 39.93181818181818\n",
            "Iteration: 2220. Loss: 2.029425621032715. Accuracy: 39.29545454545455\n",
            "Iteration: 2250. Loss: 2.0173261165618896. Accuracy: 39.31818181818182\n",
            "Iteration: 2280. Loss: 1.9625872373580933. Accuracy: 39.40909090909091\n",
            "Iteration: 2310. Loss: 2.1007485389709473. Accuracy: 39.59090909090909\n",
            "Iteration: 2340. Loss: 2.0363898277282715. Accuracy: 39.40909090909091\n",
            "Iteration: 2370. Loss: 2.0064568519592285. Accuracy: 39.59090909090909\n",
            "Iteration: 2400. Loss: 1.9981499910354614. Accuracy: 39.40909090909091\n",
            "Iteration: 2430. Loss: 2.109440326690674. Accuracy: 39.36363636363637\n",
            "Iteration: 2460. Loss: 2.010183334350586. Accuracy: 38.22727272727273\n",
            "Iteration: 2490. Loss: 2.082272529602051. Accuracy: 39.20454545454545\n",
            "Iteration: 2520. Loss: 1.9764397144317627. Accuracy: 39.15909090909091\n",
            "Iteration: 2550. Loss: 1.9978744983673096. Accuracy: 39.25\n",
            "Iteration: 2580. Loss: 1.9691427946090698. Accuracy: 39.43181818181818\n",
            "Iteration: 2610. Loss: 1.857416033744812. Accuracy: 39.18181818181818\n",
            "Iteration: 2640. Loss: 2.0737874507904053. Accuracy: 39.59090909090909\n",
            "Iteration: 2670. Loss: 2.049095392227173. Accuracy: 39.22727272727273\n",
            "Iteration: 2700. Loss: 2.023714065551758. Accuracy: 39.5\n",
            "Iteration: 2730. Loss: 1.97455632686615. Accuracy: 40.31818181818182\n",
            "Iteration: 2760. Loss: 1.9258520603179932. Accuracy: 40.15909090909091\n",
            "Iteration: 2790. Loss: 2.023043632507324. Accuracy: 40.13636363636363\n",
            "Iteration: 2820. Loss: 2.057659149169922. Accuracy: 39.43181818181818\n",
            "Iteration: 2850. Loss: 2.067547559738159. Accuracy: 39.29545454545455\n",
            "Iteration: 2880. Loss: 1.9703463315963745. Accuracy: 39.77272727272727\n",
            "Iteration: 2910. Loss: 2.009357213973999. Accuracy: 39.47727272727273\n",
            "Iteration: 2940. Loss: 2.128019332885742. Accuracy: 38.84090909090909\n",
            "Iteration: 2970. Loss: 1.9889143705368042. Accuracy: 39.15909090909091\n",
            "Iteration: 3000. Loss: 1.9745768308639526. Accuracy: 39.43181818181818\n",
            "Iteration: 3030. Loss: 1.9972397089004517. Accuracy: 39.72727272727273\n",
            "Iteration: 3060. Loss: 2.0821752548217773. Accuracy: 40.36363636363637\n",
            "Iteration: 3090. Loss: 2.0596156120300293. Accuracy: 38.56818181818182\n",
            "Iteration: 3120. Loss: 2.003247022628784. Accuracy: 39.15909090909091\n",
            "Iteration: 3150. Loss: 2.042917251586914. Accuracy: 39.36363636363637\n",
            "Iteration: 3180. Loss: 2.0551323890686035. Accuracy: 39.75\n",
            "Iteration: 3210. Loss: 1.9914757013320923. Accuracy: 39.56818181818182\n",
            "Iteration: 3240. Loss: 2.065094232559204. Accuracy: 39.15909090909091\n",
            "Iteration: 3270. Loss: 1.9689452648162842. Accuracy: 39.84090909090909\n",
            "Iteration: 3300. Loss: 1.9981237649917603. Accuracy: 38.81818181818182\n",
            "Iteration: 3330. Loss: 2.032121181488037. Accuracy: 40.18181818181818\n",
            "Iteration: 3360. Loss: 2.036539077758789. Accuracy: 39.20454545454545\n",
            "Iteration: 3390. Loss: 1.9544274806976318. Accuracy: 39.59090909090909\n",
            "Iteration: 3420. Loss: 2.058778762817383. Accuracy: 39.43181818181818\n",
            "Iteration: 3450. Loss: 2.026155471801758. Accuracy: 40.18181818181818\n",
            "Iteration: 3480. Loss: 2.033432722091675. Accuracy: 39.54545454545455\n",
            "Iteration: 3510. Loss: 2.05754017829895. Accuracy: 39.56818181818182\n",
            "Iteration: 3540. Loss: 2.06455135345459. Accuracy: 38.90909090909091\n",
            "Iteration: 3570. Loss: 1.9336966276168823. Accuracy: 39.20454545454545\n",
            "Iteration: 3600. Loss: 1.9892991781234741. Accuracy: 39.88636363636363\n",
            "Iteration: 3630. Loss: 2.0472536087036133. Accuracy: 39.54545454545455\n",
            "Iteration: 3660. Loss: 2.0140323638916016. Accuracy: 39.38636363636363\n",
            "Iteration: 3690. Loss: 1.9891308546066284. Accuracy: 39.40909090909091\n",
            "Iteration: 3720. Loss: 1.9907617568969727. Accuracy: 40.20454545454545\n",
            "Iteration: 3750. Loss: 2.028623104095459. Accuracy: 39.72727272727273\n",
            "Iteration: 3780. Loss: 2.0004677772521973. Accuracy: 39.43181818181818\n",
            "Iteration: 3810. Loss: 1.9400744438171387. Accuracy: 39.47727272727273\n",
            "Iteration: 3840. Loss: 2.048290967941284. Accuracy: 39.61363636363637\n",
            "Iteration: 3870. Loss: 1.9735947847366333. Accuracy: 39.97727272727273\n",
            "Iteration: 3900. Loss: 2.0445590019226074. Accuracy: 40.13636363636363\n",
            "Iteration: 3930. Loss: 2.0006797313690186. Accuracy: 39.29545454545455\n",
            "Iteration: 3960. Loss: 1.9897462129592896. Accuracy: 39.95454545454545\n",
            "Iteration: 3990. Loss: 1.967391848564148. Accuracy: 39.5\n",
            "Iteration: 4020. Loss: 2.1602320671081543. Accuracy: 39.54545454545455\n",
            "Iteration: 4050. Loss: 1.9411530494689941. Accuracy: 40.27272727272727\n",
            "Iteration: 4080. Loss: 2.031351089477539. Accuracy: 39.5\n",
            "Iteration: 4110. Loss: 1.9506597518920898. Accuracy: 39.40909090909091\n",
            "Iteration: 4140. Loss: 1.99677312374115. Accuracy: 39.25\n",
            "Iteration: 4170. Loss: 1.9759674072265625. Accuracy: 39.77272727272727\n",
            "Iteration: 4200. Loss: 2.0349106788635254. Accuracy: 39.15909090909091\n",
            "Iteration: 4230. Loss: 2.0239086151123047. Accuracy: 40.11363636363637\n",
            "Iteration: 4260. Loss: 2.023857355117798. Accuracy: 39.63636363636363\n",
            "Iteration: 4290. Loss: 2.018822431564331. Accuracy: 39.25\n",
            "Iteration: 4320. Loss: 2.0175516605377197. Accuracy: 39.97727272727273\n",
            "Iteration: 4350. Loss: 2.0310988426208496. Accuracy: 39.95454545454545\n",
            "Iteration: 4380. Loss: 1.9589885473251343. Accuracy: 40.18181818181818\n",
            "Iteration: 4410. Loss: 1.9761887788772583. Accuracy: 39.81818181818182\n",
            "Iteration: 4440. Loss: 1.981542944908142. Accuracy: 39.72727272727273\n",
            "Iteration: 4470. Loss: 1.9821364879608154. Accuracy: 39.31818181818182\n",
            "Iteration: 4500. Loss: 2.130218505859375. Accuracy: 39.84090909090909\n",
            "Iteration: 4530. Loss: 1.9609227180480957. Accuracy: 39.81818181818182\n",
            "Iteration: 4560. Loss: 1.9528334140777588. Accuracy: 40.20454545454545\n",
            "Iteration: 4590. Loss: 2.0773329734802246. Accuracy: 39.77272727272727\n",
            "Iteration: 4620. Loss: 1.930220127105713. Accuracy: 39.45454545454545\n",
            "Iteration: 4650. Loss: 1.903641700744629. Accuracy: 39.70454545454545\n",
            "Iteration: 4680. Loss: 1.9763909578323364. Accuracy: 39.84090909090909\n",
            "Iteration: 4710. Loss: 1.9989607334136963. Accuracy: 39.25\n",
            "Iteration: 4740. Loss: 1.9944674968719482. Accuracy: 39.52272727272727\n",
            "Iteration: 4770. Loss: 2.003308057785034. Accuracy: 39.34090909090909\n",
            "Iteration: 4800. Loss: 2.007251262664795. Accuracy: 39.59090909090909\n",
            "Iteration: 4830. Loss: 2.0106093883514404. Accuracy: 39.29545454545455\n",
            "Iteration: 4860. Loss: 1.9876272678375244. Accuracy: 39.54545454545455\n",
            "Iteration: 4890. Loss: 1.9810926914215088. Accuracy: 39.31818181818182\n",
            "Iteration: 4920. Loss: 1.9501110315322876. Accuracy: 39.75\n",
            "Iteration: 4950. Loss: 2.0142922401428223. Accuracy: 39.40909090909091\n",
            "Iteration: 4980. Loss: 2.0410006046295166. Accuracy: 39.68181818181818\n",
            "Iteration: 5010. Loss: 1.953783392906189. Accuracy: 39.84090909090909\n",
            "Iteration: 5040. Loss: 1.9545714855194092. Accuracy: 39.65909090909091\n",
            "Iteration: 5070. Loss: 2.0141730308532715. Accuracy: 39.90909090909091\n",
            "Iteration: 5100. Loss: 1.9798544645309448. Accuracy: 39.88636363636363\n",
            "Iteration: 5130. Loss: 1.9894845485687256. Accuracy: 39.47727272727273\n",
            "Iteration: 5160. Loss: 2.0356462001800537. Accuracy: 40.27272727272727\n",
            "Iteration: 5190. Loss: 1.994307279586792. Accuracy: 39.84090909090909\n",
            "Iteration: 5220. Loss: 1.9179222583770752. Accuracy: 40.04545454545455\n",
            "Iteration: 5250. Loss: 1.9657838344573975. Accuracy: 39.11363636363637\n",
            "Iteration: 5280. Loss: 2.0202815532684326. Accuracy: 38.93181818181818\n",
            "Iteration: 5310. Loss: 1.9481472969055176. Accuracy: 39.34090909090909\n",
            "Iteration: 5340. Loss: 1.9880023002624512. Accuracy: 39.45454545454545\n",
            "Iteration: 5370. Loss: 1.9590381383895874. Accuracy: 40.40909090909091\n",
            "Iteration: 5400. Loss: 1.9610867500305176. Accuracy: 40.13636363636363\n",
            "Iteration: 5430. Loss: 2.0037336349487305. Accuracy: 40.20454545454545\n",
            "Iteration: 5460. Loss: 1.9753934144973755. Accuracy: 39.47727272727273\n",
            "Iteration: 5490. Loss: 2.055884599685669. Accuracy: 39.61363636363637\n",
            "Iteration: 5520. Loss: 2.0059409141540527. Accuracy: 40.34090909090909\n",
            "Iteration: 5550. Loss: 1.9475260972976685. Accuracy: 40.02272727272727\n",
            "Iteration: 5580. Loss: 1.9956189393997192. Accuracy: 39.77272727272727\n",
            "Iteration: 5610. Loss: 1.9007315635681152. Accuracy: 40.22727272727273\n",
            "Iteration: 5640. Loss: 1.9850566387176514. Accuracy: 40.15909090909091\n",
            "Iteration: 5670. Loss: 1.9406121969223022. Accuracy: 39.15909090909091\n",
            "Iteration: 5700. Loss: 1.9730397462844849. Accuracy: 39.93181818181818\n",
            "Iteration: 5730. Loss: 1.9961565732955933. Accuracy: 39.90909090909091\n",
            "Iteration: 5760. Loss: 1.9455857276916504. Accuracy: 39.97727272727273\n",
            "Iteration: 5790. Loss: 1.929337739944458. Accuracy: 40.38636363636363\n",
            "Iteration: 5820. Loss: 1.9732316732406616. Accuracy: 39.79545454545455\n",
            "Iteration: 5850. Loss: 2.006429672241211. Accuracy: 39.47727272727273\n",
            "Iteration: 5880. Loss: 1.9452183246612549. Accuracy: 39.04545454545455\n",
            "Iteration: 5910. Loss: 1.9312498569488525. Accuracy: 39.86363636363637\n",
            "Iteration: 5940. Loss: 2.0074150562286377. Accuracy: 39.63636363636363\n",
            "Iteration: 5970. Loss: 2.010150194168091. Accuracy: 39.29545454545455\n",
            "Iteration: 6000. Loss: 2.0432605743408203. Accuracy: 39.75\n",
            "Iteration: 6030. Loss: 2.056537389755249. Accuracy: 39.11363636363637\n",
            "Iteration: 6060. Loss: 2.0154900550842285. Accuracy: 40.02272727272727\n",
            "Iteration: 6090. Loss: 1.985752820968628. Accuracy: 39.95454545454545\n",
            "Iteration: 6120. Loss: 2.012535333633423. Accuracy: 39.97727272727273\n",
            "Iteration: 6150. Loss: 1.9639173746109009. Accuracy: 39.56818181818182\n",
            "Iteration: 6180. Loss: 2.039038896560669. Accuracy: 39.70454545454545\n",
            "Iteration: 6210. Loss: 1.9697883129119873. Accuracy: 40.0\n",
            "Iteration: 6240. Loss: 1.9343862533569336. Accuracy: 39.81818181818182\n",
            "Iteration: 6270. Loss: 2.028148889541626. Accuracy: 40.06818181818182\n",
            "Iteration: 6300. Loss: 1.934840440750122. Accuracy: 40.09090909090909\n",
            "Iteration: 6330. Loss: 2.03894305229187. Accuracy: 40.29545454545455\n",
            "Iteration: 6360. Loss: 2.059452772140503. Accuracy: 40.04545454545455\n",
            "Iteration: 6390. Loss: 1.9592347145080566. Accuracy: 39.31818181818182\n",
            "Iteration: 6420. Loss: 1.9803277254104614. Accuracy: 39.84090909090909\n",
            "Iteration: 6450. Loss: 2.0047991275787354. Accuracy: 40.04545454545455\n",
            "Iteration: 6480. Loss: 1.9518133401870728. Accuracy: 40.13636363636363\n",
            "Iteration: 6510. Loss: 1.974255084991455. Accuracy: 40.15909090909091\n",
            "Iteration: 6540. Loss: 2.012706995010376. Accuracy: 40.31818181818182\n",
            "Iteration: 6570. Loss: 2.021682024002075. Accuracy: 39.43181818181818\n",
            "Iteration: 6600. Loss: 1.9145381450653076. Accuracy: 39.95454545454545\n",
            "Iteration: 6630. Loss: 2.0416409969329834. Accuracy: 39.97727272727273\n",
            "Iteration: 6660. Loss: 1.930309772491455. Accuracy: 39.43181818181818\n",
            "Iteration: 6690. Loss: 1.9832402467727661. Accuracy: 39.65909090909091\n",
            "Iteration: 6720. Loss: 2.0502612590789795. Accuracy: 40.34090909090909\n",
            "Iteration: 6750. Loss: 1.994051456451416. Accuracy: 40.02272727272727\n",
            "Iteration: 6780. Loss: 2.0115883350372314. Accuracy: 39.52272727272727\n",
            "Iteration: 6810. Loss: 2.0161473751068115. Accuracy: 40.18181818181818\n",
            "Iteration: 6840. Loss: 1.976892113685608. Accuracy: 39.47727272727273\n",
            "Iteration: 6870. Loss: 2.04233455657959. Accuracy: 40.04545454545455\n",
            "Iteration: 6900. Loss: 2.013278007507324. Accuracy: 39.70454545454545\n",
            "Iteration: 6930. Loss: 1.9925265312194824. Accuracy: 40.13636363636363\n",
            "Iteration: 6960. Loss: 1.9404925107955933. Accuracy: 39.81818181818182\n",
            "Iteration: 6990. Loss: 2.030505418777466. Accuracy: 39.90909090909091\n",
            "Iteration: 7020. Loss: 2.0056514739990234. Accuracy: 40.5\n",
            "Iteration: 7050. Loss: 1.9329739809036255. Accuracy: 39.75\n",
            "Iteration: 7080. Loss: 1.9847633838653564. Accuracy: 40.40909090909091\n",
            "Iteration: 7110. Loss: 2.0244674682617188. Accuracy: 39.84090909090909\n",
            "Iteration: 7140. Loss: 1.9560846090316772. Accuracy: 39.86363636363637\n",
            "Iteration: 7170. Loss: 1.8908621072769165. Accuracy: 39.04545454545455\n",
            "Iteration: 7200. Loss: 1.911678433418274. Accuracy: 40.04545454545455\n",
            "Iteration: 7230. Loss: 2.003617763519287. Accuracy: 39.56818181818182\n",
            "Iteration: 7260. Loss: 2.042820453643799. Accuracy: 39.90909090909091\n",
            "Iteration: 7290. Loss: 1.9242221117019653. Accuracy: 40.63636363636363\n",
            "Iteration: 7320. Loss: 2.02417254447937. Accuracy: 39.09090909090909\n",
            "Iteration: 7350. Loss: 1.9968817234039307. Accuracy: 39.47727272727273\n",
            "Iteration: 7380. Loss: 1.9452528953552246. Accuracy: 40.27272727272727\n",
            "Iteration: 7410. Loss: 2.0426242351531982. Accuracy: 40.29545454545455\n",
            "Iteration: 7440. Loss: 1.951704740524292. Accuracy: 40.18181818181818\n",
            "Iteration: 7470. Loss: 1.9723563194274902. Accuracy: 40.11363636363637\n",
            "Iteration: 7500. Loss: 2.099797010421753. Accuracy: 40.25\n",
            "Iteration: 7530. Loss: 1.9724446535110474. Accuracy: 40.0\n",
            "Iteration: 7560. Loss: 1.9221404790878296. Accuracy: 39.38636363636363\n",
            "Iteration: 7590. Loss: 2.0358242988586426. Accuracy: 39.63636363636363\n",
            "Iteration: 7620. Loss: 1.9582951068878174. Accuracy: 40.0\n",
            "Iteration: 7650. Loss: 1.9839656352996826. Accuracy: 39.86363636363637\n",
            "Iteration: 7680. Loss: 2.0040853023529053. Accuracy: 39.65909090909091\n",
            "Iteration: 7710. Loss: 1.9776562452316284. Accuracy: 39.72727272727273\n",
            "Iteration: 7740. Loss: 1.9150177240371704. Accuracy: 39.95454545454545\n",
            "Iteration: 7770. Loss: 1.929343581199646. Accuracy: 40.25\n",
            "Iteration: 7800. Loss: 2.0774104595184326. Accuracy: 40.38636363636363\n",
            "Iteration: 7830. Loss: 2.0624232292175293. Accuracy: 39.93181818181818\n",
            "Iteration: 7860. Loss: 2.0327916145324707. Accuracy: 40.02272727272727\n",
            "Iteration: 7890. Loss: 1.966699481010437. Accuracy: 40.36363636363637\n",
            "Iteration: 7920. Loss: 1.9399161338806152. Accuracy: 40.54545454545455\n",
            "Iteration: 7950. Loss: 2.0349230766296387. Accuracy: 39.95454545454545\n",
            "Iteration: 7980. Loss: 1.994221806526184. Accuracy: 40.45454545454545\n",
            "Iteration: 8010. Loss: 2.0182738304138184. Accuracy: 40.31818181818182\n",
            "Iteration: 8040. Loss: 1.8947219848632812. Accuracy: 40.09090909090909\n",
            "Iteration: 8070. Loss: 1.9417238235473633. Accuracy: 40.5\n",
            "Iteration: 8100. Loss: 1.9671860933303833. Accuracy: 40.15909090909091\n",
            "Iteration: 8130. Loss: 1.9574264287948608. Accuracy: 40.45454545454545\n",
            "Iteration: 8160. Loss: 1.9340089559555054. Accuracy: 40.13636363636363\n",
            "Iteration: 8190. Loss: 1.9221878051757812. Accuracy: 39.68181818181818\n",
            "Iteration: 8220. Loss: 2.028027296066284. Accuracy: 40.13636363636363\n",
            "Iteration: 8250. Loss: 1.995617389678955. Accuracy: 39.68181818181818\n",
            "Iteration: 8280. Loss: 1.9776883125305176. Accuracy: 40.40909090909091\n",
            "Iteration: 8310. Loss: 2.0369956493377686. Accuracy: 40.18181818181818\n",
            "Iteration: 8340. Loss: 1.8942170143127441. Accuracy: 39.75\n",
            "Iteration: 8370. Loss: 2.024040937423706. Accuracy: 39.95454545454545\n",
            "Iteration: 8400. Loss: 1.8805172443389893. Accuracy: 40.18181818181818\n",
            "Iteration: 8430. Loss: 1.999756932258606. Accuracy: 40.40909090909091\n",
            "Iteration: 8460. Loss: 1.872839093208313. Accuracy: 40.20454545454545\n",
            "Iteration: 8490. Loss: 1.9275898933410645. Accuracy: 40.34090909090909\n",
            "Iteration: 8520. Loss: 1.8879942893981934. Accuracy: 40.75\n",
            "Iteration: 8550. Loss: 1.9547858238220215. Accuracy: 41.0\n",
            "Iteration: 8580. Loss: 1.9604259729385376. Accuracy: 40.0\n",
            "Iteration: 8610. Loss: 2.01064395904541. Accuracy: 40.0\n",
            "Iteration: 8640. Loss: 2.0090928077697754. Accuracy: 39.93181818181818\n",
            "Iteration: 8670. Loss: 2.0405521392822266. Accuracy: 40.43181818181818\n",
            "Iteration: 8700. Loss: 2.1180808544158936. Accuracy: 40.43181818181818\n",
            "Iteration: 8730. Loss: 2.0191516876220703. Accuracy: 39.59090909090909\n",
            "Iteration: 8760. Loss: 2.0108561515808105. Accuracy: 40.31818181818182\n",
            "Iteration: 8790. Loss: 1.9959754943847656. Accuracy: 40.25\n",
            "Iteration: 8820. Loss: 1.998183250427246. Accuracy: 40.63636363636363\n",
            "Iteration: 8850. Loss: 1.9958468675613403. Accuracy: 40.0\n",
            "Iteration: 8880. Loss: 1.9889700412750244. Accuracy: 40.52272727272727\n",
            "Iteration: 8910. Loss: 1.9703011512756348. Accuracy: 39.75\n",
            "Iteration: 8940. Loss: 2.012302875518799. Accuracy: 40.22727272727273\n",
            "Iteration: 8970. Loss: 1.966875433921814. Accuracy: 39.27272727272727\n",
            "Iteration: 9000. Loss: 1.9995837211608887. Accuracy: 39.0\n",
            "Iteration: 9030. Loss: 1.9748393297195435. Accuracy: 40.40909090909091\n",
            "Iteration: 9060. Loss: 1.9256319999694824. Accuracy: 39.93181818181818\n",
            "Iteration: 9090. Loss: 2.024980306625366. Accuracy: 40.13636363636363\n",
            "Iteration: 9120. Loss: 2.009373426437378. Accuracy: 40.38636363636363\n",
            "Iteration: 9150. Loss: 1.9593201875686646. Accuracy: 40.56818181818182\n",
            "Iteration: 9180. Loss: 1.8509445190429688. Accuracy: 39.93181818181818\n",
            "Iteration: 9210. Loss: 2.047264814376831. Accuracy: 40.90909090909091\n",
            "Iteration: 9240. Loss: 1.8802545070648193. Accuracy: 40.77272727272727\n",
            "Iteration: 9270. Loss: 2.0129356384277344. Accuracy: 40.72727272727273\n",
            "Iteration: 9300. Loss: 2.047316551208496. Accuracy: 40.22727272727273\n",
            "Iteration: 9330. Loss: 2.0021369457244873. Accuracy: 40.13636363636363\n",
            "Iteration: 9360. Loss: 2.029733419418335. Accuracy: 39.25\n",
            "Iteration: 9390. Loss: 1.981916069984436. Accuracy: 39.77272727272727\n",
            "Iteration: 9420. Loss: 1.9704052209854126. Accuracy: 39.77272727272727\n",
            "Iteration: 9450. Loss: 2.045708656311035. Accuracy: 40.40909090909091\n",
            "Iteration: 9480. Loss: 2.073495626449585. Accuracy: 40.75\n",
            "Iteration: 9510. Loss: 2.0473015308380127. Accuracy: 39.77272727272727\n",
            "Iteration: 9540. Loss: 2.0475380420684814. Accuracy: 40.27272727272727\n",
            "Iteration: 9570. Loss: 2.0770905017852783. Accuracy: 39.97727272727273\n",
            "Iteration: 9600. Loss: 1.972285509109497. Accuracy: 40.72727272727273\n",
            "Iteration: 9630. Loss: 1.908117413520813. Accuracy: 39.81818181818182\n",
            "Iteration: 9660. Loss: 2.0462915897369385. Accuracy: 40.29545454545455\n",
            "Iteration: 9690. Loss: 1.9022736549377441. Accuracy: 40.59090909090909\n",
            "Iteration: 9720. Loss: 2.0318925380706787. Accuracy: 40.45454545454545\n",
            "Iteration: 9750. Loss: 2.019866704940796. Accuracy: 40.52272727272727\n",
            "Iteration: 9780. Loss: 2.001241445541382. Accuracy: 40.06818181818182\n",
            "Iteration: 9810. Loss: 1.9462578296661377. Accuracy: 40.38636363636363\n",
            "Iteration: 9840. Loss: 1.9893146753311157. Accuracy: 40.09090909090909\n",
            "Iteration: 9870. Loss: 2.0170700550079346. Accuracy: 40.59090909090909\n",
            "Iteration: 9900. Loss: 2.009572982788086. Accuracy: 40.13636363636363\n",
            "Iteration: 9930. Loss: 1.9547427892684937. Accuracy: 39.20454545454545\n",
            "Iteration: 9960. Loss: 1.9476908445358276. Accuracy: 40.06818181818182\n",
            "Iteration: 9990. Loss: 1.9749261140823364. Accuracy: 40.75\n",
            "Iteration: 10020. Loss: 1.9238495826721191. Accuracy: 40.31818181818182\n",
            "Iteration: 10050. Loss: 1.8905977010726929. Accuracy: 40.68181818181818\n",
            "Iteration: 10080. Loss: 2.0096828937530518. Accuracy: 40.27272727272727\n",
            "Iteration: 10110. Loss: 2.0090324878692627. Accuracy: 40.77272727272727\n",
            "Iteration: 10140. Loss: 1.9554859399795532. Accuracy: 40.79545454545455\n",
            "Iteration: 10170. Loss: 2.018425703048706. Accuracy: 40.75\n",
            "Iteration: 10200. Loss: 1.9662742614746094. Accuracy: 40.20454545454545\n",
            "Iteration: 10230. Loss: 1.9787664413452148. Accuracy: 40.65909090909091\n",
            "Iteration: 10260. Loss: 1.931523084640503. Accuracy: 40.38636363636363\n",
            "Iteration: 10290. Loss: 2.0657057762145996. Accuracy: 40.5\n",
            "Iteration: 10320. Loss: 2.0123484134674072. Accuracy: 40.68181818181818\n",
            "Iteration: 10350. Loss: 1.9957106113433838. Accuracy: 40.20454545454545\n",
            "Iteration: 10380. Loss: 2.0286035537719727. Accuracy: 40.18181818181818\n",
            "Iteration: 10410. Loss: 2.13572096824646. Accuracy: 39.72727272727273\n",
            "Iteration: 10440. Loss: 1.876435399055481. Accuracy: 40.18181818181818\n",
            "Iteration: 10470. Loss: 2.110527276992798. Accuracy: 40.72727272727273\n",
            "Iteration: 10500. Loss: 1.9234236478805542. Accuracy: 40.45454545454545\n",
            "Iteration: 10530. Loss: 2.0063436031341553. Accuracy: 40.70454545454545\n",
            "Iteration: 10560. Loss: 1.9825607538223267. Accuracy: 39.79545454545455\n",
            "Iteration: 10590. Loss: 1.9512325525283813. Accuracy: 40.45454545454545\n",
            "Iteration: 10620. Loss: 1.914021611213684. Accuracy: 40.43181818181818\n",
            "Iteration: 10650. Loss: 2.002020835876465. Accuracy: 40.11363636363637\n",
            "Iteration: 10680. Loss: 1.9614754915237427. Accuracy: 40.54545454545455\n",
            "Iteration: 10710. Loss: 1.9007720947265625. Accuracy: 40.77272727272727\n",
            "Iteration: 10740. Loss: 1.9088919162750244. Accuracy: 40.13636363636363\n",
            "Iteration: 10770. Loss: 2.0366358757019043. Accuracy: 40.15909090909091\n",
            "Iteration: 10800. Loss: 1.9299747943878174. Accuracy: 40.93181818181818\n",
            "Iteration: 10830. Loss: 1.844537377357483. Accuracy: 39.68181818181818\n",
            "Iteration: 10860. Loss: 1.9862595796585083. Accuracy: 40.95454545454545\n",
            "Iteration: 10890. Loss: 1.9532006978988647. Accuracy: 40.40909090909091\n",
            "Iteration: 10920. Loss: 1.976980447769165. Accuracy: 40.56818181818182\n",
            "Iteration: 10950. Loss: 1.966342568397522. Accuracy: 40.36363636363637\n",
            "Iteration: 10980. Loss: 2.015270471572876. Accuracy: 40.15909090909091\n",
            "Iteration: 11010. Loss: 1.9599553346633911. Accuracy: 40.27272727272727\n",
            "Iteration: 11040. Loss: 2.091360092163086. Accuracy: 40.54545454545455\n",
            "Iteration: 11070. Loss: 1.9952489137649536. Accuracy: 40.43181818181818\n",
            "Iteration: 11100. Loss: 2.040461540222168. Accuracy: 40.61363636363637\n",
            "Iteration: 11130. Loss: 1.847054123878479. Accuracy: 40.29545454545455\n",
            "Iteration: 11160. Loss: 1.9959874153137207. Accuracy: 39.70454545454545\n",
            "Iteration: 11190. Loss: 2.0245680809020996. Accuracy: 40.52272727272727\n",
            "Iteration: 11220. Loss: 1.9715884923934937. Accuracy: 40.5\n",
            "Iteration: 11250. Loss: 2.056997299194336. Accuracy: 40.93181818181818\n",
            "Iteration: 11280. Loss: 1.9046651124954224. Accuracy: 39.86363636363637\n",
            "Iteration: 11310. Loss: 2.0014102458953857. Accuracy: 40.52272727272727\n",
            "Iteration: 11340. Loss: 1.9307533502578735. Accuracy: 40.54545454545455\n",
            "Iteration: 11370. Loss: 1.9355920553207397. Accuracy: 40.40909090909091\n",
            "Iteration: 11400. Loss: 2.0149576663970947. Accuracy: 40.54545454545455\n",
            "Iteration: 11430. Loss: 1.914853811264038. Accuracy: 40.65909090909091\n",
            "Iteration: 11460. Loss: 1.976911187171936. Accuracy: 40.59090909090909\n",
            "Iteration: 11490. Loss: 1.9819443225860596. Accuracy: 40.29545454545455\n",
            "Iteration: 11520. Loss: 2.026664972305298. Accuracy: 40.54545454545455\n",
            "Iteration: 11550. Loss: 1.994503140449524. Accuracy: 40.36363636363637\n",
            "Iteration: 11580. Loss: 1.9680477380752563. Accuracy: 40.29545454545455\n",
            "Iteration: 11610. Loss: 2.041506290435791. Accuracy: 40.65909090909091\n",
            "Iteration: 11640. Loss: 2.0224716663360596. Accuracy: 41.27272727272727\n",
            "Iteration: 11670. Loss: 1.936663031578064. Accuracy: 40.36363636363637\n",
            "Iteration: 11700. Loss: 1.9488282203674316. Accuracy: 40.68181818181818\n",
            "Iteration: 11730. Loss: 1.889674186706543. Accuracy: 40.61363636363637\n",
            "Iteration: 11760. Loss: 1.9509316682815552. Accuracy: 40.20454545454545\n",
            "Iteration: 11790. Loss: 2.000877857208252. Accuracy: 40.52272727272727\n",
            "Iteration: 11820. Loss: 1.9632099866867065. Accuracy: 40.79545454545455\n",
            "Iteration: 11850. Loss: 2.0314300060272217. Accuracy: 40.43181818181818\n",
            "Iteration: 11880. Loss: 1.9401733875274658. Accuracy: 40.34090909090909\n"
          ],
          "name": "stdout"
        }
      ]
    },
    {
      "cell_type": "code",
      "metadata": {
        "id": "XTKqR-QOsN5Q"
      },
      "source": [
        "##Save Model\r\n",
        "\r\n",
        "save_model = True\r\n",
        "\r\n",
        "if save_model is True:\r\n",
        "    # Saves only parameters\r\n",
        "    # wights & biases\r\n",
        "    torch.save(model.state_dict(), root_path + 'Assignment01.3.pkl') \r\n"
      ],
      "execution_count": null,
      "outputs": []
    },
    {
      "cell_type": "code",
      "metadata": {
        "colab": {
          "base_uri": "https://localhost:8080/"
        },
        "id": "AG4yduXH9msd",
        "outputId": "d6590a8e-91a4-4a88-e742-7afaa932f3cc"
      },
      "source": [
        "##Load Model\r\n",
        "load_model = True\r\n",
        "\r\n",
        "if load_model is True:\r\n",
        "    model.load_state_dict(torch.load(root_path + 'Assignment01.3.pkl'))\r\n",
        "    print('Trained Model Loaded')"
      ],
      "execution_count": null,
      "outputs": [
        {
          "output_type": "stream",
          "text": [
            "Trained Model Loaded\n"
          ],
          "name": "stdout"
        }
      ]
    },
    {
      "cell_type": "code",
      "metadata": {
        "colab": {
          "base_uri": "https://localhost:8080/",
          "height": 316
        },
        "id": "jn0EZqll9o6Z",
        "outputId": "849a2316-84df-4985-b605-eeca9fc2fee9"
      },
      "source": [
        "print (iteration_loss)\r\n",
        "plt.plot(iteration_loss)\r\n",
        "plt.ylabel('Cross Entropy Loss')\r\n",
        "plt.xlabel('Iteration (in every 30)')\r\n",
        "plt.show()"
      ],
      "execution_count": null,
      "outputs": [
        {
          "output_type": "stream",
          "text": [
            "[2.0220046043395996, 2.0544538497924805, 2.0096218585968018, 2.0123114585876465, 2.007127046585083, 2.1016194820404053, 2.095707893371582, 2.0156211853027344, 2.000741958618164, 1.9882179498672485, 2.040261745452881, 1.990473985671997, 2.120086908340454, 2.05904221534729, 2.0312066078186035, 2.034032106399536, 2.0612897872924805, 2.077653169631958, 2.051701784133911, 1.997746229171753, 2.0067074298858643, 2.085881233215332, 2.0416970252990723, 2.0212459564208984, 1.997682809829712, 2.04428768157959, 2.016954183578491, 2.0257043838500977, 2.030891180038452, 2.0766196250915527, 2.022493362426758, 1.9399299621582031, 2.0150818824768066, 2.0218753814697266, 1.98829984664917, 1.93929123878479, 2.0666635036468506, 1.9985498189926147, 1.9992491006851196, 2.0764522552490234, 2.059485673904419, 2.002805233001709, 2.0516440868377686, 2.0056777000427246, 1.9916490316390991, 2.027026414871216, 2.093116044998169, 1.9998970031738281, 1.984562635421753, 2.0855727195739746, 2.023768424987793, 2.141441583633423, 2.006995916366577, 2.0591681003570557, 2.017221450805664, 2.0041017532348633, 2.0858283042907715, 1.93984055519104, 1.9653321504592896, 1.9814800024032593, 1.9761744737625122, 2.0146067142486572, 2.0399277210235596, 2.0778348445892334, 2.0335988998413086, 2.001352310180664, 2.055199146270752, 1.9969617128372192, 2.0286481380462646, 1.9473316669464111, 1.976041316986084, 2.0897040367126465, 2.0380353927612305, 2.029425621032715, 2.0173261165618896, 1.9625872373580933, 2.1007485389709473, 2.0363898277282715, 2.0064568519592285, 1.9981499910354614, 2.109440326690674, 2.010183334350586, 2.082272529602051, 1.9764397144317627, 1.9978744983673096, 1.9691427946090698, 1.857416033744812, 2.0737874507904053, 2.049095392227173, 2.023714065551758, 1.97455632686615, 1.9258520603179932, 2.023043632507324, 2.057659149169922, 2.067547559738159, 1.9703463315963745, 2.009357213973999, 2.128019332885742, 1.9889143705368042, 1.9745768308639526, 1.9972397089004517, 2.0821752548217773, 2.0596156120300293, 2.003247022628784, 2.042917251586914, 2.0551323890686035, 1.9914757013320923, 2.065094232559204, 1.9689452648162842, 1.9981237649917603, 2.032121181488037, 2.036539077758789, 1.9544274806976318, 2.058778762817383, 2.026155471801758, 2.033432722091675, 2.05754017829895, 2.06455135345459, 1.9336966276168823, 1.9892991781234741, 2.0472536087036133, 2.0140323638916016, 1.9891308546066284, 1.9907617568969727, 2.028623104095459, 2.0004677772521973, 1.9400744438171387, 2.048290967941284, 1.9735947847366333, 2.0445590019226074, 2.0006797313690186, 1.9897462129592896, 1.967391848564148, 2.1602320671081543, 1.9411530494689941, 2.031351089477539, 1.9506597518920898, 1.99677312374115, 1.9759674072265625, 2.0349106788635254, 2.0239086151123047, 2.023857355117798, 2.018822431564331, 2.0175516605377197, 2.0310988426208496, 1.9589885473251343, 1.9761887788772583, 1.981542944908142, 1.9821364879608154, 2.130218505859375, 1.9609227180480957, 1.9528334140777588, 2.0773329734802246, 1.930220127105713, 1.903641700744629, 1.9763909578323364, 1.9989607334136963, 1.9944674968719482, 2.003308057785034, 2.007251262664795, 2.0106093883514404, 1.9876272678375244, 1.9810926914215088, 1.9501110315322876, 2.0142922401428223, 2.0410006046295166, 1.953783392906189, 1.9545714855194092, 2.0141730308532715, 1.9798544645309448, 1.9894845485687256, 2.0356462001800537, 1.994307279586792, 1.9179222583770752, 1.9657838344573975, 2.0202815532684326, 1.9481472969055176, 1.9880023002624512, 1.9590381383895874, 1.9610867500305176, 2.0037336349487305, 1.9753934144973755, 2.055884599685669, 2.0059409141540527, 1.9475260972976685, 1.9956189393997192, 1.9007315635681152, 1.9850566387176514, 1.9406121969223022, 1.9730397462844849, 1.9961565732955933, 1.9455857276916504, 1.929337739944458, 1.9732316732406616, 2.006429672241211, 1.9452183246612549, 1.9312498569488525, 2.0074150562286377, 2.010150194168091, 2.0432605743408203, 2.056537389755249, 2.0154900550842285, 1.985752820968628, 2.012535333633423, 1.9639173746109009, 2.039038896560669, 1.9697883129119873, 1.9343862533569336, 2.028148889541626, 1.934840440750122, 2.03894305229187, 2.059452772140503, 1.9592347145080566, 1.9803277254104614, 2.0047991275787354, 1.9518133401870728, 1.974255084991455, 2.012706995010376, 2.021682024002075, 1.9145381450653076, 2.0416409969329834, 1.930309772491455, 1.9832402467727661, 2.0502612590789795, 1.994051456451416, 2.0115883350372314, 2.0161473751068115, 1.976892113685608, 2.04233455657959, 2.013278007507324, 1.9925265312194824, 1.9404925107955933, 2.030505418777466, 2.0056514739990234, 1.9329739809036255, 1.9847633838653564, 2.0244674682617188, 1.9560846090316772, 1.8908621072769165, 1.911678433418274, 2.003617763519287, 2.042820453643799, 1.9242221117019653, 2.02417254447937, 1.9968817234039307, 1.9452528953552246, 2.0426242351531982, 1.951704740524292, 1.9723563194274902, 2.099797010421753, 1.9724446535110474, 1.9221404790878296, 2.0358242988586426, 1.9582951068878174, 1.9839656352996826, 2.0040853023529053, 1.9776562452316284, 1.9150177240371704, 1.929343581199646, 2.0774104595184326, 2.0624232292175293, 2.0327916145324707, 1.966699481010437, 1.9399161338806152, 2.0349230766296387, 1.994221806526184, 2.0182738304138184, 1.8947219848632812, 1.9417238235473633, 1.9671860933303833, 1.9574264287948608, 1.9340089559555054, 1.9221878051757812, 2.028027296066284, 1.995617389678955, 1.9776883125305176, 2.0369956493377686, 1.8942170143127441, 2.024040937423706, 1.8805172443389893, 1.999756932258606, 1.872839093208313, 1.9275898933410645, 1.8879942893981934, 1.9547858238220215, 1.9604259729385376, 2.01064395904541, 2.0090928077697754, 2.0405521392822266, 2.1180808544158936, 2.0191516876220703, 2.0108561515808105, 1.9959754943847656, 1.998183250427246, 1.9958468675613403, 1.9889700412750244, 1.9703011512756348, 2.012302875518799, 1.966875433921814, 1.9995837211608887, 1.9748393297195435, 1.9256319999694824, 2.024980306625366, 2.009373426437378, 1.9593201875686646, 1.8509445190429688, 2.047264814376831, 1.8802545070648193, 2.0129356384277344, 2.047316551208496, 2.0021369457244873, 2.029733419418335, 1.981916069984436, 1.9704052209854126, 2.045708656311035, 2.073495626449585, 2.0473015308380127, 2.0475380420684814, 2.0770905017852783, 1.972285509109497, 1.908117413520813, 2.0462915897369385, 1.9022736549377441, 2.0318925380706787, 2.019866704940796, 2.001241445541382, 1.9462578296661377, 1.9893146753311157, 2.0170700550079346, 2.009572982788086, 1.9547427892684937, 1.9476908445358276, 1.9749261140823364, 1.9238495826721191, 1.8905977010726929, 2.0096828937530518, 2.0090324878692627, 1.9554859399795532, 2.018425703048706, 1.9662742614746094, 1.9787664413452148, 1.931523084640503, 2.0657057762145996, 2.0123484134674072, 1.9957106113433838, 2.0286035537719727, 2.13572096824646, 1.876435399055481, 2.110527276992798, 1.9234236478805542, 2.0063436031341553, 1.9825607538223267, 1.9512325525283813, 1.914021611213684, 2.002020835876465, 1.9614754915237427, 1.9007720947265625, 1.9088919162750244, 2.0366358757019043, 1.9299747943878174, 1.844537377357483, 1.9862595796585083, 1.9532006978988647, 1.976980447769165, 1.966342568397522, 2.015270471572876, 1.9599553346633911, 2.091360092163086, 1.9952489137649536, 2.040461540222168, 1.847054123878479, 1.9959874153137207, 2.0245680809020996, 1.9715884923934937, 2.056997299194336, 1.9046651124954224, 2.0014102458953857, 1.9307533502578735, 1.9355920553207397, 2.0149576663970947, 1.914853811264038, 1.976911187171936, 1.9819443225860596, 2.026664972305298, 1.994503140449524, 1.9680477380752563, 2.041506290435791, 2.0224716663360596, 1.936663031578064, 1.9488282203674316, 1.889674186706543, 1.9509316682815552, 2.000877857208252, 1.9632099866867065, 2.0314300060272217, 1.9401733875274658]\n"
          ],
          "name": "stdout"
        },
        {
          "output_type": "display_data",
          "data": {
            "image/png": "[encoded data removed]",
            "text/plain": [
              "<Figure size 432x288 with 1 Axes>"
            ]
          },
          "metadata": {
            "tags": [],
            "needs_background": "light"
          }
        }
      ]
    },
    {
      "cell_type": "code",
      "metadata": {
        "colab": {
          "base_uri": "https://localhost:8080/",
          "height": 109
        },
        "id": "Vxj0p5nn94ru",
        "outputId": "f0c42167-5fdc-4222-d0bd-99b9a7fdd8f9"
      },
      "source": [
        "for images, labels in test_loader:\r\n",
        "    break\r\n",
        "fig, ax = plt.subplots(1, 5)\r\n",
        "for i in range(5):\r\n",
        "    ax[i].imshow(images[i].view(28, 28), cmap=matplotlib.cm.binary)\r\n",
        "\r\n",
        "plt.show()"
      ],
      "execution_count": null,
      "outputs": [
        {
          "output_type": "display_data",
          "data": {
            "image/png": "[encoded data removed]",
            "text/plain": [
              "<Figure size 432x288 with 5 Axes>"
            ]
          },
          "metadata": {
            "tags": [],
            "needs_background": "light"
          }
        }
      ]
    },
    {
      "cell_type": "code",
      "metadata": {
        "colab": {
          "base_uri": "https://localhost:8080/"
        },
        "id": "6lB_QAsn-DtB",
        "outputId": "796a3ae3-157a-40d2-c06d-016f0eb458d6"
      },
      "source": [
        "_, predictions = model.forward(images[:5].view(-1, 28*28).to(device))\r\n",
        "predictions = torch.argmax(predictions, dim=1)\r\n",
        "print('Predicted labels', predictions.cpu().numpy())"
      ],
      "execution_count": null,
      "outputs": [
        {
          "output_type": "stream",
          "text": [
            "Predicted labels [6 7 1 3 6]\n"
          ],
          "name": "stdout"
        }
      ]
    },
    {
      "cell_type": "code",
      "metadata": {
        "id": "NwZ9GpLs-Yld"
      },
      "source": [
        ""
      ],
      "execution_count": null,
      "outputs": []
    },
    {
      "cell_type": "markdown",
      "metadata": {
        "id": "EO4iPlvMVAC9"
      },
      "source": [
        "**Result Table:-**\r\n",
        "\r\n",
        "| Settings #1      | Settings #2     | Settings #3     |\r\n",
        "| :------------- | :----------: | -----------: |\r\n",
        "|  Batch Size = 100 | Batch Size = 100   | Batch Size = 80    |\r\n",
        "|  Number of iterations = 6000 | Number of iterations = 10000   | Number of iterations = 15000    |\r\n",
        "|  Learning Rate = 0.001 | Learning Rate = 0.001   | Learning Rate = 0.0001 |\r\n",
        "| Accuracy : 29.5454   | Accuracy : 38.8181 | Accuracy : 40.3409 | |\r\n"
      ]
    }
  ]
}