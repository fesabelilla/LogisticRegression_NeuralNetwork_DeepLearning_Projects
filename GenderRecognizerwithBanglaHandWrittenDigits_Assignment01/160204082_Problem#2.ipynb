{
  "nbformat": 4,
  "nbformat_minor": 0,
  "metadata": {
    "colab": {
      "name": "Assignment1.2.ipynb",
      "provenance": [],
      "collapsed_sections": []
    },
    "kernelspec": {
      "display_name": "Python 3",
      "name": "python3"
    },
    "accelerator": "GPU"
  },
  "cells": [
    {
      "cell_type": "markdown",
      "metadata": {
        "id": "LVsZ2IVsTonc"
      },
      "source": [
        "##**Binary classification model that can predict male/female from Bengali handwritten digits**\r\n",
        "\r\n",
        "- **Dataset**\r\n",
        "    - [Ekush](https://shahariarrabby.github.io/ekush/#download)\r\n",
        "- **Train data set 90%**\r\n",
        "-**Test data set 10%**"
      ]
    },
    {
      "cell_type": "code",
      "metadata": {
        "id": "MaohTfDsEiGy"
      },
      "source": [
        "import os\r\n",
        "from os import path\r\n",
        "import shutil\r\n",
        "import numpy as np\r\n",
        "import pandas as pd\r\n",
        "import torch\r\n",
        "import torch.nn as nn\r\n",
        "import torch.nn.functional as F\r\n",
        "import torch.optim as optim\r\n",
        "from torch.utils.data import Dataset\r\n",
        "from torch.utils.data.sampler import SubsetRandomSampler\r\n",
        "from torchvision import datasets, transforms, models\r\n",
        "import matplotlib\r\n",
        "import matplotlib.pyplot as plt\r\n",
        "from PIL import Image"
      ],
      "execution_count": null,
      "outputs": []
    },
    {
      "cell_type": "code",
      "metadata": {
        "id": "FPtm7jHgcluR"
      },
      "source": [
        "import torch\r\n",
        "import torch.nn as nn\r\n",
        "import torch.nn.functional as F\r\n",
        "import torchvision\r\n",
        "import torchvision.transforms as transforms\r\n",
        "import torchvision.datasets as dsets"
      ],
      "execution_count": null,
      "outputs": []
    },
    {
      "cell_type": "code",
      "metadata": {
        "id": "goGgjOOEwg8M"
      },
      "source": [
        "from sklearn import  datasets\r\n",
        "from sklearn.preprocessing import StandardScaler\r\n",
        "from sklearn.model_selection import train_test_split"
      ],
      "execution_count": null,
      "outputs": []
    },
    {
      "cell_type": "code",
      "metadata": {
        "colab": {
          "base_uri": "https://localhost:8080/"
        },
        "id": "Pzm0O3F1FwoI",
        "outputId": "e1dc4fa5-097c-4179-8a7b-b95f74e2ec9d"
      },
      "source": [
        "from google.colab import drive\r\n",
        "\r\n",
        "drive.mount('/content/gdrive')\r\n",
        "\r\n",
        "root_path = '/content/gdrive/My Drive/1.4.1Dataset/'"
      ],
      "execution_count": null,
      "outputs": [
        {
          "output_type": "stream",
          "text": [
            "Drive already mounted at /content/gdrive; to attempt to forcibly remount, call drive.mount(\"/content/gdrive\", force_remount=True).\n"
          ],
          "name": "stdout"
        }
      ]
    },
    {
      "cell_type": "code",
      "metadata": {
        "id": "N4b5_QjYFWGj"
      },
      "source": [
        "maleDgt1 = pd.read_csv('/content/gdrive/MyDrive/1.4.1Dataset/maleDigits.csv').iloc[:,:-1]\r\n",
        "femaleDgt1 = pd.read_csv('/content/gdrive/MyDrive/1.4.1Dataset/femaleDigits.csv').iloc[:,:-1]\r\n"
      ],
      "execution_count": null,
      "outputs": []
    },
    {
      "cell_type": "code",
      "metadata": {
        "id": "FGy9PIhaFcTH"
      },
      "source": [
        "maleDgt1['lable'] = 0\r\n",
        "femaleDgt1['lable'] = 1\r\n",
        "total = pd.concat([maleDgt1,femaleDgt1])\r\n"
      ],
      "execution_count": null,
      "outputs": []
    },
    {
      "cell_type": "code",
      "metadata": {
        "id": "rddnHAc7FkXM"
      },
      "source": [
        "normalizeVale = np.float32(total.loc[:,total.columns != 'lable'].values/255) \r\n",
        "#normalizeVale"
      ],
      "execution_count": null,
      "outputs": []
    },
    {
      "cell_type": "code",
      "metadata": {
        "id": "VUf_1arBFmXb"
      },
      "source": [
        "labels = total.lable.values"
      ],
      "execution_count": null,
      "outputs": []
    },
    {
      "cell_type": "code",
      "metadata": {
        "colab": {
          "base_uri": "https://localhost:8080/",
          "height": 282
        },
        "id": "rI7nGJD2FtnW",
        "outputId": "10f6382b-246e-486a-a97d-9da79b4ce645"
      },
      "source": [
        "show_img = (normalizeVale[0]).reshape(28,28)\r\n",
        "plt.imshow(show_img,cmap='gray')\r\n",
        "\r\n",
        "print(labels[0])"
      ],
      "execution_count": null,
      "outputs": [
        {
          "output_type": "stream",
          "text": [
            "0\n"
          ],
          "name": "stdout"
        },
        {
          "output_type": "display_data",
          "data": {
            "image/png": "[encoded data removed]",
            "text/plain": [
              "<Figure size 432x288 with 1 Axes>"
            ]
          },
          "metadata": {
            "tags": [],
            "needs_background": "light"
          }
        }
      ]
    },
    {
      "cell_type": "code",
      "metadata": {
        "colab": {
          "base_uri": "https://localhost:8080/"
        },
        "id": "fBXWYEabFb1S",
        "outputId": "d41c7cd4-807f-4a0f-930e-9e0de286e110"
      },
      "source": [
        "maleDgt = pd.read_csv('/content/gdrive/MyDrive/1.4.1Dataset/maleDigits.csv')\r\n",
        "maleDgt = np.array(maleDgt)\r\n",
        "maleDgt"
      ],
      "execution_count": null,
      "outputs": [
        {
          "output_type": "execute_result",
          "data": {
            "text/plain": [
              "array([[  0,   2,   0, ...,   1,   1, 112],\n",
              "       [  0,   0,   0, ...,   0,   0, 112],\n",
              "       [  1,   0,   0, ...,   1,   2, 112],\n",
              "       ...,\n",
              "       [  0,   0,   0, ...,   1,   0, 121],\n",
              "       [  0,   1,   1, ...,   0,   0, 121],\n",
              "       [  2,   0,   1, ..., 186,  14, 121]])"
            ]
          },
          "metadata": {
            "tags": []
          },
          "execution_count": 125
        }
      ]
    },
    {
      "cell_type": "code",
      "metadata": {
        "colab": {
          "base_uri": "https://localhost:8080/"
        },
        "id": "kymjNjrHVYrR",
        "outputId": "8e6d2214-2926-4a55-e87e-ea34aa2dba4b"
      },
      "source": [
        "femaleDgt = pd.read_csv('/content/gdrive/MyDrive/1.4.1Dataset/femaleDigits.csv')\r\n",
        "#female.head()\r\n",
        "femaleDgt = np.array(femaleDgt)\r\n",
        "femaleDgt"
      ],
      "execution_count": null,
      "outputs": [
        {
          "output_type": "execute_result",
          "data": {
            "text/plain": [
              "array([[  0,   0,   0, ...,   3,   1, 112],\n",
              "       [  0,   0,   0, ...,   1,   1, 112],\n",
              "       [  0,   0,   1, ...,   0,   0, 112],\n",
              "       ...,\n",
              "       [  0,   0,   0, ...,   0,   0, 121],\n",
              "       [  1,   1,   1, ...,   0,   0, 121],\n",
              "       [  1,   2,   0, ...,   1,   0, 121]])"
            ]
          },
          "metadata": {
            "tags": []
          },
          "execution_count": 126
        }
      ]
    },
    {
      "cell_type": "code",
      "metadata": {
        "colab": {
          "base_uri": "https://localhost:8080/"
        },
        "id": "KvtJBpj4tI7o",
        "outputId": "756048ae-46c6-49cc-a5fd-09a79f793eeb"
      },
      "source": [
        "### male label 0\r\n",
        "\r\n",
        "lvl = maleDgt.shape\r\n",
        "maleDgt[:,(lvl[1]-1)] = 0\r\n",
        "maleDgt"
      ],
      "execution_count": null,
      "outputs": [
        {
          "output_type": "execute_result",
          "data": {
            "text/plain": [
              "array([[  0,   2,   0, ...,   1,   1,   0],\n",
              "       [  0,   0,   0, ...,   0,   0,   0],\n",
              "       [  1,   0,   0, ...,   1,   2,   0],\n",
              "       ...,\n",
              "       [  0,   0,   0, ...,   1,   0,   0],\n",
              "       [  0,   1,   1, ...,   0,   0,   0],\n",
              "       [  2,   0,   1, ..., 186,  14,   0]])"
            ]
          },
          "metadata": {
            "tags": []
          },
          "execution_count": 127
        }
      ]
    },
    {
      "cell_type": "code",
      "metadata": {
        "colab": {
          "base_uri": "https://localhost:8080/"
        },
        "id": "-4nN07vztocV",
        "outputId": "5e53ea23-7a6b-442a-f54d-fda1eb0c7757"
      },
      "source": [
        "### female label 1\r\n",
        "\r\n",
        "lvl = femaleDgt.shape\r\n",
        "femaleDgt[:,(lvl[1]-1)] = 1\r\n",
        "femaleDgt"
      ],
      "execution_count": null,
      "outputs": [
        {
          "output_type": "execute_result",
          "data": {
            "text/plain": [
              "array([[0, 0, 0, ..., 3, 1, 1],\n",
              "       [0, 0, 0, ..., 1, 1, 1],\n",
              "       [0, 0, 1, ..., 0, 0, 1],\n",
              "       ...,\n",
              "       [0, 0, 0, ..., 0, 0, 1],\n",
              "       [1, 1, 1, ..., 0, 0, 1],\n",
              "       [1, 2, 0, ..., 1, 0, 1]])"
            ]
          },
          "metadata": {
            "tags": []
          },
          "execution_count": 128
        }
      ]
    },
    {
      "cell_type": "code",
      "metadata": {
        "colab": {
          "base_uri": "https://localhost:8080/"
        },
        "id": "1RF_c376t3uf",
        "outputId": "67b26f03-04b2-4a13-dea7-cca545f204ea"
      },
      "source": [
        "#concate both male and female dataset\r\n",
        "dataset = np.vstack((maleDgt, femaleDgt))\r\n",
        "dataset"
      ],
      "execution_count": null,
      "outputs": [
        {
          "output_type": "execute_result",
          "data": {
            "text/plain": [
              "array([[0, 2, 0, ..., 1, 1, 0],\n",
              "       [0, 0, 0, ..., 0, 0, 0],\n",
              "       [1, 0, 0, ..., 1, 2, 0],\n",
              "       ...,\n",
              "       [0, 0, 0, ..., 0, 0, 1],\n",
              "       [1, 1, 1, ..., 0, 0, 1],\n",
              "       [1, 2, 0, ..., 1, 0, 1]])"
            ]
          },
          "metadata": {
            "tags": []
          },
          "execution_count": 129
        }
      ]
    },
    {
      "cell_type": "code",
      "metadata": {
        "id": "IxdqhHxht4Rn"
      },
      "source": [
        "x = dataset[:,:-1]\r\n",
        "y = dataset[:,(lvl[1]-1)]\r\n",
        "#### 28*28\r\n",
        "n_samples,n_feature = x.shape"
      ],
      "execution_count": null,
      "outputs": []
    },
    {
      "cell_type": "code",
      "metadata": {
        "id": "OvDZ5ukit4xh"
      },
      "source": [
        "#### Using scikit-learn \r\n",
        "### train data 90%\r\n",
        "### test data 10%\r\n",
        "\r\n",
        "x_train,x_test,y_train,y_test = train_test_split(x,y,test_size = 0.1, random_state = 42)"
      ],
      "execution_count": null,
      "outputs": []
    },
    {
      "cell_type": "code",
      "metadata": {
        "colab": {
          "base_uri": "https://localhost:8080/"
        },
        "id": "y9XrL9hqXbvb",
        "outputId": "53a82171-2ff2-463c-cd4f-8819831147b1"
      },
      "source": [
        "print(len(x_train),\" \",len(x_test),\" \",len(y_train),\" \",len(y_test))"
      ],
      "execution_count": null,
      "outputs": [
        {
          "output_type": "stream",
          "text": [
            "27747   3083   27747   3083\n"
          ],
          "name": "stdout"
        }
      ]
    },
    {
      "cell_type": "code",
      "metadata": {
        "id": "nXEAh-ewvyZM"
      },
      "source": [
        "sc = StandardScaler()\r\n",
        "x_train = sc.fit_transform(x_train)\r\n",
        "x_test = sc.transform(x_test)"
      ],
      "execution_count": null,
      "outputs": []
    },
    {
      "cell_type": "code",
      "metadata": {
        "id": "Utu7oj4dxTu8"
      },
      "source": [
        "x_train = torch.from_numpy(x_train.astype(np.float32))\r\n",
        "x_test = torch.from_numpy(x_test.astype(np.float32))"
      ],
      "execution_count": null,
      "outputs": []
    },
    {
      "cell_type": "code",
      "metadata": {
        "id": "Ga6sy-osxzn5"
      },
      "source": [
        "y_train = torch.from_numpy(y_train.astype(np.float32))\r\n",
        "y_test = torch.from_numpy(y_test.astype(np.float32))"
      ],
      "execution_count": null,
      "outputs": []
    },
    {
      "cell_type": "code",
      "metadata": {
        "id": "pr8gDAx8xTrH"
      },
      "source": [
        "y_train = y_train.view(y_train.shape[0],1)\r\n",
        "y_test = y_test.view(y_test.shape[0],1)"
      ],
      "execution_count": null,
      "outputs": []
    },
    {
      "cell_type": "code",
      "metadata": {
        "id": "4IZT65RyxTlF"
      },
      "source": [
        "class LogisticRegressionModel(nn.Module):\r\n",
        "    def __init__(self, input_size):\r\n",
        "        super().__init__()\r\n",
        "        self.linear = nn.Linear(input_size, 1)\r\n",
        "\r\n",
        "    def forward(self, x):\r\n",
        "        y_pred = torch.sigmoid(self.linear(x))\r\n",
        "        return y_pred\r\n",
        "\r\n",
        "\r\n",
        "model = LogisticRegressionModel(n_feature)"
      ],
      "execution_count": null,
      "outputs": []
    },
    {
      "cell_type": "markdown",
      "metadata": {
        "id": "BnENAc_MUnDk"
      },
      "source": [
        "#**Settings #1**\r\n",
        "\r\n",
        "*   **Batch Size = 700**\r\n",
        "*   **Number of iterations = 6000**\r\n",
        "*   **Learning Rate = 0.001**\r\n",
        "\r\n",
        "\r\n",
        "\r\n",
        "\r\n"
      ]
    },
    {
      "cell_type": "code",
      "metadata": {
        "id": "RH6szvR3C70q"
      },
      "source": [
        "# Hyperparameters\r\n",
        "batch_size = 700\r\n",
        "num_iters = 6000\r\n",
        "\r\n",
        "# Device\r\n",
        "device = torch.device(\"cuda:0\" if torch.cuda.is_available() else \"cpu\")"
      ],
      "execution_count": null,
      "outputs": []
    },
    {
      "cell_type": "code",
      "metadata": {
        "colab": {
          "base_uri": "https://localhost:8080/"
        },
        "id": "rRmFDwMjDDVp",
        "outputId": "99329190-27d1-4047-c593-0519694fd41b"
      },
      "source": [
        "num_epochs = num_iters / (n_samples / batch_size)\r\n",
        "num_epochs = int(num_epochs)\r\n",
        "num_epochs"
      ],
      "execution_count": null,
      "outputs": [
        {
          "output_type": "execute_result",
          "data": {
            "text/plain": [
              "136"
            ]
          },
          "metadata": {
            "tags": []
          },
          "execution_count": 182
        }
      ]
    },
    {
      "cell_type": "code",
      "metadata": {
        "id": "j3mNASHVvyOQ"
      },
      "source": [
        "learning_rate = 0.001\r\n",
        "criterion = nn.BCELoss()\r\n",
        "optimizer = torch.optim.SGD(model.parameters(), lr=learing_rate)"
      ],
      "execution_count": null,
      "outputs": []
    },
    {
      "cell_type": "code",
      "metadata": {
        "colab": {
          "base_uri": "https://localhost:8080/"
        },
        "id": "mxxPSp897byY",
        "outputId": "9400d186-2f2e-4438-e3b1-485e4fc8bcd0"
      },
      "source": [
        "iteration_loss = []\r\n",
        "for epoch in range(num_epochs):\r\n",
        "  \r\n",
        "  y_predicted=model(x_train)\r\n",
        "  loss=criterion(y_predicted,y_train)\r\n",
        "  loss.backward()\r\n",
        "\r\n",
        "  optimizer.step()\r\n",
        "\r\n",
        "  optimizer.zero_grad()\r\n",
        "\r\n",
        "  if (epoch+1)%8 == 0:\r\n",
        "    correct=0\r\n",
        "    total=0\r\n",
        "    \r\n",
        "    y_predicted=model(x_test)\r\n",
        "    y_predicted_cls=y_predicted.round()\r\n",
        "    total+=y_test.size(0)\r\n",
        "    correct += (y_predicted_cls == y_test).sum()\r\n",
        "    accuracy = 100 * correct.item() / total\r\n",
        "\r\n",
        "    print('Epoch: {}. Loss: {}. Accuracy: {}'.format(epoch+1, loss.item(), accuracy))\r\n",
        "    iteration_loss.append(loss.item())"
      ],
      "execution_count": null,
      "outputs": [
        {
          "output_type": "stream",
          "text": [
            "Epoch: 8. Loss: 0.6552989482879639. Accuracy: 60.201102821926696\n",
            "Epoch: 16. Loss: 0.655280590057373. Accuracy: 60.201102821926696\n",
            "Epoch: 24. Loss: 0.655262291431427. Accuracy: 60.201102821926696\n",
            "Epoch: 32. Loss: 0.655243992805481. Accuracy: 60.201102821926696\n",
            "Epoch: 40. Loss: 0.6552258729934692. Accuracy: 60.16866688290626\n",
            "Epoch: 48. Loss: 0.6552078127861023. Accuracy: 60.16866688290626\n",
            "Epoch: 56. Loss: 0.6551899313926697. Accuracy: 60.16866688290626\n",
            "Epoch: 64. Loss: 0.6551719903945923. Accuracy: 60.16866688290626\n",
            "Epoch: 72. Loss: 0.655154287815094. Accuracy: 60.13623094388583\n",
            "Epoch: 80. Loss: 0.6551365852355957. Accuracy: 60.07135906584496\n",
            "Epoch: 88. Loss: 0.6551189422607422. Accuracy: 60.07135906584496\n",
            "Epoch: 96. Loss: 0.6551014184951782. Accuracy: 60.03892312682452\n",
            "Epoch: 104. Loss: 0.6550840735435486. Accuracy: 60.07135906584496\n",
            "Epoch: 112. Loss: 0.655066728591919. Accuracy: 60.03892312682452\n",
            "Epoch: 120. Loss: 0.6550495028495789. Accuracy: 60.03892312682452\n",
            "Epoch: 128. Loss: 0.6550323367118835. Accuracy: 60.03892312682452\n",
            "Epoch: 136. Loss: 0.655015230178833. Accuracy: 60.03892312682452\n"
          ],
          "name": "stdout"
        }
      ]
    },
    {
      "cell_type": "code",
      "metadata": {
        "colab": {
          "base_uri": "https://localhost:8080/",
          "height": 316
        },
        "id": "b5fVPj_EJuOp",
        "outputId": "effbf054-4021-4122-e5aa-a98467374304"
      },
      "source": [
        "print (iteration_loss)\r\n",
        "plt.plot(iteration_loss)\r\n",
        "plt.ylabel('Cross Entropy Loss')\r\n",
        "plt.xlabel('Epochs ')\r\n",
        "plt.show()"
      ],
      "execution_count": null,
      "outputs": [
        {
          "output_type": "stream",
          "text": [
            "[0.6552989482879639, 0.655280590057373, 0.655262291431427, 0.655243992805481, 0.6552258729934692, 0.6552078127861023, 0.6551899313926697, 0.6551719903945923, 0.655154287815094, 0.6551365852355957, 0.6551189422607422, 0.6551014184951782, 0.6550840735435486, 0.655066728591919, 0.6550495028495789, 0.6550323367118835, 0.655015230178833]\n"
          ],
          "name": "stdout"
        },
        {
          "output_type": "display_data",
          "data": {
            "image/png": "[encoded data removed]",
            "text/plain": [
              "<Figure size 432x288 with 1 Axes>"
            ]
          },
          "metadata": {
            "tags": [],
            "needs_background": "light"
          }
        }
      ]
    },
    {
      "cell_type": "code",
      "metadata": {
        "id": "5Pi9WacjPila"
      },
      "source": [
        "##Save Model\r\n",
        "\r\n",
        "save_model = True\r\n",
        "\r\n",
        "if save_model is True:\r\n",
        "    # Saves only parameters\r\n",
        "    # wights & biases\r\n",
        "    torch.save(model.state_dict(), root_path + 'Assignment02.1.pkl') \r\n"
      ],
      "execution_count": null,
      "outputs": []
    },
    {
      "cell_type": "code",
      "metadata": {
        "colab": {
          "base_uri": "https://localhost:8080/"
        },
        "id": "JMe0HjTDQa8g",
        "outputId": "befabc10-b6d7-48a0-d4ab-41f4019ea9a4"
      },
      "source": [
        "##Load Model\r\n",
        "load_model = True\r\n",
        "\r\n",
        "if load_model is True:\r\n",
        "    model.load_state_dict(torch.load(root_path + 'Assignment02.1.pkl'))\r\n",
        "    print('Trained Model Loaded')"
      ],
      "execution_count": null,
      "outputs": [
        {
          "output_type": "stream",
          "text": [
            "Trained Model Loaded\n"
          ],
          "name": "stdout"
        }
      ]
    },
    {
      "cell_type": "markdown",
      "metadata": {
        "id": "82CfrpE_UuOe"
      },
      "source": [
        "#**Settings #2**\r\n",
        "\r\n",
        "*   **Batch Size = 1000**\r\n",
        "*   **Number of iterations = 10000**\r\n",
        "*   **Learning Rate = 0.001**\r\n",
        "\r\n",
        "\r\n",
        "\r\n",
        "\r\n"
      ]
    },
    {
      "cell_type": "code",
      "metadata": {
        "colab": {
          "base_uri": "https://localhost:8080/"
        },
        "id": "cxFGWCoOQ-aC",
        "outputId": "6946dafa-ed4d-4735-da3c-3966b905a0f2"
      },
      "source": [
        "# Hyperparameters\r\n",
        "batch_size = 1000\r\n",
        "num_iters = 10000\r\n",
        "\r\n",
        "# Device\r\n",
        "device = torch.device(\"cuda:0\" if torch.cuda.is_available() else \"cpu\")\r\n",
        "\r\n",
        "num_epochs = num_iters / (n_samples / batch_size)\r\n",
        "num_epochs = int(num_epochs)\r\n",
        "num_epochs"
      ],
      "execution_count": null,
      "outputs": [
        {
          "output_type": "execute_result",
          "data": {
            "text/plain": [
              "324"
            ]
          },
          "metadata": {
            "tags": []
          },
          "execution_count": 188
        }
      ]
    },
    {
      "cell_type": "code",
      "metadata": {
        "id": "_aUlfPHvRS7H"
      },
      "source": [
        "learning_rate = 0.001\r\n",
        "criterion = nn.BCELoss()\r\n",
        "optimizer = torch.optim.SGD(model.parameters(), lr=learing_rate)"
      ],
      "execution_count": null,
      "outputs": []
    },
    {
      "cell_type": "code",
      "metadata": {
        "colab": {
          "base_uri": "https://localhost:8080/"
        },
        "id": "NPWZy4vQRSyk",
        "outputId": "a5767c48-7610-4928-98cc-2caf3c3f627f"
      },
      "source": [
        "\r\n",
        "iteration_loss = []\r\n",
        "for epoch in range(num_epochs):\r\n",
        "  \r\n",
        "  y_predicted=model(x_train)\r\n",
        "  loss=criterion(y_predicted,y_train)\r\n",
        "  loss.backward()\r\n",
        "\r\n",
        "  optimizer.step()\r\n",
        "\r\n",
        "  optimizer.zero_grad()\r\n",
        "\r\n",
        "  if (epoch+1)%10==0:\r\n",
        "    correct=0\r\n",
        "    total=0\r\n",
        "    \r\n",
        "    y_predicted=model(x_test)\r\n",
        "    y_predicted_cls=y_predicted.round()\r\n",
        "    total+=y_test.size(0)\r\n",
        "    correct += (y_predicted_cls == y_test).sum()\r\n",
        "    accuracy = 100 * correct.item() / total\r\n",
        "    \r\n",
        "    print('Epoch: {}. Loss: {}. Accuracy: {}'.format(epoch+1, loss.item(), accuracy))\r\n",
        "    iteration_loss.append(loss.item())"
      ],
      "execution_count": null,
      "outputs": [
        {
          "output_type": "stream",
          "text": [
            "Epoch: 10. Loss: 0.6549939513206482. Accuracy: 60.03892312682452\n",
            "Epoch: 20. Loss: 0.6549727916717529. Accuracy: 60.03892312682452\n",
            "Epoch: 30. Loss: 0.654951810836792. Accuracy: 60.03892312682452\n",
            "Epoch: 40. Loss: 0.6549309492111206. Accuracy: 60.03892312682452\n",
            "Epoch: 50. Loss: 0.6549102067947388. Accuracy: 60.07135906584496\n",
            "Epoch: 60. Loss: 0.6548895835876465. Accuracy: 60.07135906584496\n",
            "Epoch: 70. Loss: 0.6548690795898438. Accuracy: 60.13623094388583\n",
            "Epoch: 80. Loss: 0.6548487544059753. Accuracy: 60.07135906584496\n",
            "Epoch: 90. Loss: 0.6548283696174622. Accuracy: 60.07135906584496\n",
            "Epoch: 100. Loss: 0.6548082828521729. Accuracy: 60.07135906584496\n",
            "Epoch: 110. Loss: 0.6547882556915283. Accuracy: 60.07135906584496\n",
            "Epoch: 120. Loss: 0.6547683477401733. Accuracy: 60.10379500486539\n",
            "Epoch: 130. Loss: 0.6547485589981079. Accuracy: 60.10379500486539\n",
            "Epoch: 140. Loss: 0.6547287702560425. Accuracy: 60.13623094388583\n",
            "Epoch: 150. Loss: 0.6547091603279114. Accuracy: 60.10379500486539\n",
            "Epoch: 160. Loss: 0.6546897888183594. Accuracy: 60.10379500486539\n",
            "Epoch: 170. Loss: 0.6546703577041626. Accuracy: 60.13623094388583\n",
            "Epoch: 180. Loss: 0.6546511054039001. Accuracy: 60.13623094388583\n",
            "Epoch: 190. Loss: 0.654632031917572. Accuracy: 60.13623094388583\n",
            "Epoch: 200. Loss: 0.6546128988265991. Accuracy: 60.16866688290626\n",
            "Epoch: 210. Loss: 0.6545940041542053. Accuracy: 60.13623094388583\n",
            "Epoch: 220. Loss: 0.6545751094818115. Accuracy: 60.13623094388583\n",
            "Epoch: 230. Loss: 0.654556393623352. Accuracy: 60.13623094388583\n",
            "Epoch: 240. Loss: 0.6545377373695374. Accuracy: 60.13623094388583\n",
            "Epoch: 250. Loss: 0.6545191407203674. Accuracy: 60.13623094388583\n",
            "Epoch: 260. Loss: 0.6545007824897766. Accuracy: 60.10379500486539\n",
            "Epoch: 270. Loss: 0.6544824242591858. Accuracy: 60.10379500486539\n",
            "Epoch: 280. Loss: 0.6544641852378845. Accuracy: 60.10379500486539\n",
            "Epoch: 290. Loss: 0.654446005821228. Accuracy: 60.07135906584496\n",
            "Epoch: 300. Loss: 0.6544279456138611. Accuracy: 60.07135906584496\n",
            "Epoch: 310. Loss: 0.6544100046157837. Accuracy: 60.07135906584496\n",
            "Epoch: 320. Loss: 0.6543921828269958. Accuracy: 60.07135906584496\n"
          ],
          "name": "stdout"
        }
      ]
    },
    {
      "cell_type": "code",
      "metadata": {
        "colab": {
          "base_uri": "https://localhost:8080/",
          "height": 316
        },
        "id": "TFMhHL3cRSrz",
        "outputId": "c4f38aa7-3414-4c00-fb88-191cef651068"
      },
      "source": [
        "print (iteration_loss)\r\n",
        "plt.plot(iteration_loss)\r\n",
        "plt.ylabel('Cross Entropy Loss')\r\n",
        "plt.xlabel('Epochs ')\r\n",
        "plt.show()"
      ],
      "execution_count": null,
      "outputs": [
        {
          "output_type": "stream",
          "text": [
            "[0.6549939513206482, 0.6549727916717529, 0.654951810836792, 0.6549309492111206, 0.6549102067947388, 0.6548895835876465, 0.6548690795898438, 0.6548487544059753, 0.6548283696174622, 0.6548082828521729, 0.6547882556915283, 0.6547683477401733, 0.6547485589981079, 0.6547287702560425, 0.6547091603279114, 0.6546897888183594, 0.6546703577041626, 0.6546511054039001, 0.654632031917572, 0.6546128988265991, 0.6545940041542053, 0.6545751094818115, 0.654556393623352, 0.6545377373695374, 0.6545191407203674, 0.6545007824897766, 0.6544824242591858, 0.6544641852378845, 0.654446005821228, 0.6544279456138611, 0.6544100046157837, 0.6543921828269958]\n"
          ],
          "name": "stdout"
        },
        {
          "output_type": "display_data",
          "data": {
            "image/png": "[encoded data removed]",
            "text/plain": [
              "<Figure size 432x288 with 1 Axes>"
            ]
          },
          "metadata": {
            "tags": [],
            "needs_background": "light"
          }
        }
      ]
    },
    {
      "cell_type": "code",
      "metadata": {
        "id": "7rfvuhcuSwjK"
      },
      "source": [
        "##Save Model\r\n",
        "\r\n",
        "save_model = True\r\n",
        "\r\n",
        "if save_model is True:\r\n",
        "    # Saves only parameters\r\n",
        "    # wights & biases\r\n",
        "    torch.save(model.state_dict(), root_path + 'Assignment02.2.pkl') \r\n"
      ],
      "execution_count": null,
      "outputs": []
    },
    {
      "cell_type": "code",
      "metadata": {
        "colab": {
          "base_uri": "https://localhost:8080/"
        },
        "id": "y5QYfU-xS5Ex",
        "outputId": "7b399541-cef1-4662-ff83-477f2553cbad"
      },
      "source": [
        "##Load Model\r\n",
        "load_model = True\r\n",
        "\r\n",
        "if load_model is True:\r\n",
        "    model.load_state_dict(torch.load(root_path + 'Assignment02.2.pkl'))\r\n",
        "    print('Trained Model Loaded')"
      ],
      "execution_count": null,
      "outputs": [
        {
          "output_type": "stream",
          "text": [
            "Trained Model Loaded\n"
          ],
          "name": "stdout"
        }
      ]
    },
    {
      "cell_type": "markdown",
      "metadata": {
        "id": "Ssj4B-TPU54i"
      },
      "source": [
        "#**Settings #3**\r\n",
        "\r\n",
        "*   **Batch Size = 1500**\r\n",
        "*   **Number of iterations = 15000**\r\n",
        "*   **Learning Rate = 0.0001**\r\n",
        "\r\n",
        "\r\n",
        "\r\n",
        "\r\n"
      ]
    },
    {
      "cell_type": "code",
      "metadata": {
        "colab": {
          "base_uri": "https://localhost:8080/"
        },
        "id": "wHWQEMnzS84i",
        "outputId": "f7039b84-e285-4e1b-f063-7fa26b4cbb47"
      },
      "source": [
        "# Hyperparameters\r\n",
        "batch_size = 1500\r\n",
        "num_iters = 15000\r\n",
        "\r\n",
        "# Device\r\n",
        "device = torch.device(\"cuda:0\" if torch.cuda.is_available() else \"cpu\")\r\n",
        "\r\n",
        "num_epochs = num_iters / (n_samples / batch_size)\r\n",
        "num_epochs = int(num_epochs)\r\n",
        "num_epochs"
      ],
      "execution_count": null,
      "outputs": [
        {
          "output_type": "execute_result",
          "data": {
            "text/plain": [
              "729"
            ]
          },
          "metadata": {
            "tags": []
          },
          "execution_count": 194
        }
      ]
    },
    {
      "cell_type": "code",
      "metadata": {
        "id": "NaDhL30lTBDB"
      },
      "source": [
        "learning_rate = 0.0001\r\n",
        "criterion = nn.BCELoss()\r\n",
        "optimizer = torch.optim.SGD(model.parameters(), lr=learing_rate)"
      ],
      "execution_count": null,
      "outputs": []
    },
    {
      "cell_type": "code",
      "metadata": {
        "colab": {
          "base_uri": "https://localhost:8080/"
        },
        "id": "n_6R18CvTA68",
        "outputId": "e4bb30bf-e1ac-4c45-9b99-27a9c977a344"
      },
      "source": [
        "\r\n",
        "iteration_loss = []\r\n",
        "for epoch in range(num_epochs):\r\n",
        "  \r\n",
        "  y_predicted=model(x_train)\r\n",
        "  #loss=criterion(y_predicted,y_train)\r\n",
        "  loss=criterion(y_predicted,y_train)\r\n",
        "  loss.backward()\r\n",
        "\r\n",
        "  optimizer.step()\r\n",
        "\r\n",
        "  optimizer.zero_grad()\r\n",
        "\r\n",
        "  if (epoch+1) % 5 == 0:\r\n",
        "    correct=0\r\n",
        "    total=0\r\n",
        "    \r\n",
        "    y_predicted=model(x_test)\r\n",
        "    y_predicted_cls=y_predicted.round()\r\n",
        "    total+=y_test.size(0)\r\n",
        "    correct += (y_predicted_cls == y_test).sum()\r\n",
        "    accuracy = 100 * correct.item() / total\r\n",
        "    \r\n",
        "    print('Epoch: {}. Loss: {}. Accuracy: {}'.format(epoch+1, loss.item(), accuracy))\r\n",
        "    iteration_loss.append(loss.item())"
      ],
      "execution_count": null,
      "outputs": [
        {
          "output_type": "stream",
          "text": [
            "Epoch: 5. Loss: 0.6543761491775513. Accuracy: 60.07135906584496\n",
            "Epoch: 10. Loss: 0.6543673276901245. Accuracy: 60.07135906584496\n",
            "Epoch: 15. Loss: 0.654358446598053. Accuracy: 60.03892312682452\n",
            "Epoch: 20. Loss: 0.654349684715271. Accuracy: 60.03892312682452\n",
            "Epoch: 25. Loss: 0.6543408632278442. Accuracy: 60.03892312682452\n",
            "Epoch: 30. Loss: 0.6543320417404175. Accuracy: 60.10379500486539\n",
            "Epoch: 35. Loss: 0.6543233394622803. Accuracy: 60.10379500486539\n",
            "Epoch: 40. Loss: 0.6543146967887878. Accuracy: 60.10379500486539\n",
            "Epoch: 45. Loss: 0.6543059349060059. Accuracy: 60.10379500486539\n",
            "Epoch: 50. Loss: 0.6542972326278687. Accuracy: 60.10379500486539\n",
            "Epoch: 55. Loss: 0.6542885899543762. Accuracy: 60.10379500486539\n",
            "Epoch: 60. Loss: 0.654279887676239. Accuracy: 60.10379500486539\n",
            "Epoch: 65. Loss: 0.6542713046073914. Accuracy: 60.10379500486539\n",
            "Epoch: 70. Loss: 0.6542627811431885. Accuracy: 60.10379500486539\n",
            "Epoch: 75. Loss: 0.654254138469696. Accuracy: 60.13623094388583\n",
            "Epoch: 80. Loss: 0.6542456150054932. Accuracy: 60.16866688290626\n",
            "Epoch: 85. Loss: 0.6542370319366455. Accuracy: 60.16866688290626\n",
            "Epoch: 90. Loss: 0.6542285680770874. Accuracy: 60.13623094388583\n",
            "Epoch: 95. Loss: 0.6542201638221741. Accuracy: 60.13623094388583\n",
            "Epoch: 100. Loss: 0.6542116403579712. Accuracy: 60.16866688290626\n",
            "Epoch: 105. Loss: 0.6542032361030579. Accuracy: 60.16866688290626\n",
            "Epoch: 110. Loss: 0.6541948914527893. Accuracy: 60.201102821926696\n",
            "Epoch: 115. Loss: 0.6541864275932312. Accuracy: 60.16866688290626\n",
            "Epoch: 120. Loss: 0.6541780829429626. Accuracy: 60.16866688290626\n",
            "Epoch: 125. Loss: 0.6541696786880493. Accuracy: 60.16866688290626\n",
            "Epoch: 130. Loss: 0.6541613936424255. Accuracy: 60.16866688290626\n",
            "Epoch: 135. Loss: 0.6541529893875122. Accuracy: 60.16866688290626\n",
            "Epoch: 140. Loss: 0.6541447639465332. Accuracy: 60.201102821926696\n",
            "Epoch: 145. Loss: 0.6541364789009094. Accuracy: 60.201102821926696\n",
            "Epoch: 150. Loss: 0.6541281938552856. Accuracy: 60.16866688290626\n",
            "Epoch: 155. Loss: 0.6541199684143066. Accuracy: 60.16866688290626\n",
            "Epoch: 160. Loss: 0.6541117429733276. Accuracy: 60.16866688290626\n",
            "Epoch: 165. Loss: 0.6541035175323486. Accuracy: 60.16866688290626\n",
            "Epoch: 170. Loss: 0.6540953516960144. Accuracy: 60.16866688290626\n",
            "Epoch: 175. Loss: 0.654087245464325. Accuracy: 60.16866688290626\n",
            "Epoch: 180. Loss: 0.6540790796279907. Accuracy: 60.16866688290626\n",
            "Epoch: 185. Loss: 0.6540709733963013. Accuracy: 60.16866688290626\n",
            "Epoch: 190. Loss: 0.6540629267692566. Accuracy: 60.16866688290626\n",
            "Epoch: 195. Loss: 0.6540548205375671. Accuracy: 60.16866688290626\n",
            "Epoch: 200. Loss: 0.6540467143058777. Accuracy: 60.13623094388583\n",
            "Epoch: 205. Loss: 0.654038667678833. Accuracy: 60.13623094388583\n",
            "Epoch: 210. Loss: 0.6540306806564331. Accuracy: 60.13623094388583\n",
            "Epoch: 215. Loss: 0.6540226936340332. Accuracy: 60.16866688290626\n",
            "Epoch: 220. Loss: 0.6540147066116333. Accuracy: 60.16866688290626\n",
            "Epoch: 225. Loss: 0.6540067195892334. Accuracy: 60.16866688290626\n",
            "Epoch: 230. Loss: 0.6539987921714783. Accuracy: 60.16866688290626\n",
            "Epoch: 235. Loss: 0.6539908647537231. Accuracy: 60.16866688290626\n",
            "Epoch: 240. Loss: 0.653982937335968. Accuracy: 60.201102821926696\n",
            "Epoch: 245. Loss: 0.6539750695228577. Accuracy: 60.201102821926696\n",
            "Epoch: 250. Loss: 0.6539672613143921. Accuracy: 60.16866688290626\n",
            "Epoch: 255. Loss: 0.6539593935012817. Accuracy: 60.13623094388583\n",
            "Epoch: 260. Loss: 0.6539515256881714. Accuracy: 60.13623094388583\n",
            "Epoch: 265. Loss: 0.6539437174797058. Accuracy: 60.13623094388583\n",
            "Epoch: 270. Loss: 0.6539359092712402. Accuracy: 60.13623094388583\n",
            "Epoch: 275. Loss: 0.6539281606674194. Accuracy: 60.13623094388583\n",
            "Epoch: 280. Loss: 0.6539204120635986. Accuracy: 60.16866688290626\n",
            "Epoch: 285. Loss: 0.6539126038551331. Accuracy: 60.16866688290626\n",
            "Epoch: 290. Loss: 0.6539048552513123. Accuracy: 60.23353876094713\n",
            "Epoch: 295. Loss: 0.6538972854614258. Accuracy: 60.23353876094713\n",
            "Epoch: 300. Loss: 0.653889536857605. Accuracy: 60.265974699967565\n",
            "Epoch: 305. Loss: 0.653881847858429. Accuracy: 60.265974699967565\n",
            "Epoch: 310. Loss: 0.6538741588592529. Accuracy: 60.265974699967565\n",
            "Epoch: 315. Loss: 0.6538665890693665. Accuracy: 60.265974699967565\n",
            "Epoch: 320. Loss: 0.6538589596748352. Accuracy: 60.265974699967565\n",
            "Epoch: 325. Loss: 0.6538512110710144. Accuracy: 60.265974699967565\n",
            "Epoch: 330. Loss: 0.6538437008857727. Accuracy: 60.265974699967565\n",
            "Epoch: 335. Loss: 0.6538362503051758. Accuracy: 60.265974699967565\n",
            "Epoch: 340. Loss: 0.6538286805152893. Accuracy: 60.23353876094713\n",
            "Epoch: 345. Loss: 0.6538211107254028. Accuracy: 60.23353876094713\n",
            "Epoch: 350. Loss: 0.6538136601448059. Accuracy: 60.23353876094713\n",
            "Epoch: 355. Loss: 0.6538060903549194. Accuracy: 60.265974699967565\n",
            "Epoch: 360. Loss: 0.6537986397743225. Accuracy: 60.265974699967565\n",
            "Epoch: 365. Loss: 0.6537911295890808. Accuracy: 60.265974699967565\n",
            "Epoch: 370. Loss: 0.6537837386131287. Accuracy: 60.265974699967565\n",
            "Epoch: 375. Loss: 0.6537763476371765. Accuracy: 60.265974699967565\n",
            "Epoch: 380. Loss: 0.6537688970565796. Accuracy: 60.265974699967565\n",
            "Epoch: 385. Loss: 0.6537613868713379. Accuracy: 60.265974699967565\n",
            "Epoch: 390. Loss: 0.6537541747093201. Accuracy: 60.265974699967565\n",
            "Epoch: 395. Loss: 0.6537467241287231. Accuracy: 60.265974699967565\n",
            "Epoch: 400. Loss: 0.6537393927574158. Accuracy: 60.265974699967565\n",
            "Epoch: 405. Loss: 0.6537320613861084. Accuracy: 60.298410638987995\n",
            "Epoch: 410. Loss: 0.653724730014801. Accuracy: 60.298410638987995\n",
            "Epoch: 415. Loss: 0.6537173986434937. Accuracy: 60.298410638987995\n",
            "Epoch: 420. Loss: 0.6537101864814758. Accuracy: 60.298410638987995\n",
            "Epoch: 425. Loss: 0.6537028551101685. Accuracy: 60.298410638987995\n",
            "Epoch: 430. Loss: 0.6536956429481506. Accuracy: 60.298410638987995\n",
            "Epoch: 435. Loss: 0.6536884307861328. Accuracy: 60.33084657800843\n",
            "Epoch: 440. Loss: 0.6536811590194702. Accuracy: 60.33084657800843\n",
            "Epoch: 445. Loss: 0.6536740064620972. Accuracy: 60.33084657800843\n",
            "Epoch: 450. Loss: 0.6536667943000793. Accuracy: 60.33084657800843\n",
            "Epoch: 455. Loss: 0.6536596417427063. Accuracy: 60.36328251702887\n",
            "Epoch: 460. Loss: 0.653652548789978. Accuracy: 60.36328251702887\n",
            "Epoch: 465. Loss: 0.6536453366279602. Accuracy: 60.36328251702887\n",
            "Epoch: 470. Loss: 0.6536382436752319. Accuracy: 60.36328251702887\n",
            "Epoch: 475. Loss: 0.6536311507225037. Accuracy: 60.36328251702887\n",
            "Epoch: 480. Loss: 0.6536239981651306. Accuracy: 60.36328251702887\n",
            "Epoch: 485. Loss: 0.6536169648170471. Accuracy: 60.36328251702887\n",
            "Epoch: 490. Loss: 0.6536099314689636. Accuracy: 60.33084657800843\n",
            "Epoch: 495. Loss: 0.6536028385162354. Accuracy: 60.298410638987995\n",
            "Epoch: 500. Loss: 0.6535958051681519. Accuracy: 60.298410638987995\n",
            "Epoch: 505. Loss: 0.6535888314247131. Accuracy: 60.265974699967565\n",
            "Epoch: 510. Loss: 0.6535817980766296. Accuracy: 60.265974699967565\n",
            "Epoch: 515. Loss: 0.6535748243331909. Accuracy: 60.298410638987995\n",
            "Epoch: 520. Loss: 0.6535678505897522. Accuracy: 60.265974699967565\n",
            "Epoch: 525. Loss: 0.6535608768463135. Accuracy: 60.265974699967565\n",
            "Epoch: 530. Loss: 0.6535539627075195. Accuracy: 60.265974699967565\n",
            "Epoch: 535. Loss: 0.653546929359436. Accuracy: 60.298410638987995\n",
            "Epoch: 540. Loss: 0.6535401344299316. Accuracy: 60.298410638987995\n",
            "Epoch: 545. Loss: 0.6535332202911377. Accuracy: 60.298410638987995\n",
            "Epoch: 550. Loss: 0.6535263061523438. Accuracy: 60.298410638987995\n",
            "Epoch: 555. Loss: 0.6535193920135498. Accuracy: 60.33084657800843\n",
            "Epoch: 560. Loss: 0.6535125374794006. Accuracy: 60.36328251702887\n",
            "Epoch: 565. Loss: 0.6535057425498962. Accuracy: 60.36328251702887\n",
            "Epoch: 570. Loss: 0.6534989476203918. Accuracy: 60.36328251702887\n",
            "Epoch: 575. Loss: 0.6534920930862427. Accuracy: 60.36328251702887\n",
            "Epoch: 580. Loss: 0.6534852981567383. Accuracy: 60.3957184560493\n",
            "Epoch: 585. Loss: 0.6534785032272339. Accuracy: 60.3957184560493\n",
            "Epoch: 590. Loss: 0.6534717679023743. Accuracy: 60.3957184560493\n",
            "Epoch: 595. Loss: 0.6534649133682251. Accuracy: 60.3957184560493\n",
            "Epoch: 600. Loss: 0.6534582376480103. Accuracy: 60.36328251702887\n",
            "Epoch: 605. Loss: 0.6534515023231506. Accuracy: 60.36328251702887\n",
            "Epoch: 610. Loss: 0.6534448862075806. Accuracy: 60.36328251702887\n",
            "Epoch: 615. Loss: 0.6534380912780762. Accuracy: 60.33084657800843\n",
            "Epoch: 620. Loss: 0.6534314155578613. Accuracy: 60.33084657800843\n",
            "Epoch: 625. Loss: 0.6534247994422913. Accuracy: 60.36328251702887\n",
            "Epoch: 630. Loss: 0.6534180641174316. Accuracy: 60.36328251702887\n",
            "Epoch: 635. Loss: 0.6534114480018616. Accuracy: 60.36328251702887\n",
            "Epoch: 640. Loss: 0.6534048318862915. Accuracy: 60.3957184560493\n",
            "Epoch: 645. Loss: 0.6533982157707214. Accuracy: 60.3957184560493\n",
            "Epoch: 650. Loss: 0.6533915996551514. Accuracy: 60.3957184560493\n",
            "Epoch: 655. Loss: 0.6533850431442261. Accuracy: 60.3957184560493\n",
            "Epoch: 660. Loss: 0.653378427028656. Accuracy: 60.3957184560493\n",
            "Epoch: 665. Loss: 0.6533719301223755. Accuracy: 60.42815439506974\n",
            "Epoch: 670. Loss: 0.6533653140068054. Accuracy: 60.42815439506974\n",
            "Epoch: 675. Loss: 0.6533587574958801. Accuracy: 60.42815439506974\n",
            "Epoch: 680. Loss: 0.6533523201942444. Accuracy: 60.42815439506974\n",
            "Epoch: 685. Loss: 0.6533457636833191. Accuracy: 60.46059033409017\n",
            "Epoch: 690. Loss: 0.6533392667770386. Accuracy: 60.46059033409017\n",
            "Epoch: 695. Loss: 0.6533327102661133. Accuracy: 60.46059033409017\n",
            "Epoch: 700. Loss: 0.6533263325691223. Accuracy: 60.46059033409017\n",
            "Epoch: 705. Loss: 0.6533198356628418. Accuracy: 60.42815439506974\n",
            "Epoch: 710. Loss: 0.6533134579658508. Accuracy: 60.42815439506974\n",
            "Epoch: 715. Loss: 0.6533070206642151. Accuracy: 60.42815439506974\n",
            "Epoch: 720. Loss: 0.6533005833625793. Accuracy: 60.42815439506974\n",
            "Epoch: 725. Loss: 0.6532941460609436. Accuracy: 60.3957184560493\n"
          ],
          "name": "stdout"
        }
      ]
    },
    {
      "cell_type": "code",
      "metadata": {
        "colab": {
          "base_uri": "https://localhost:8080/",
          "height": 316
        },
        "id": "OKuxJDuRTAve",
        "outputId": "6da0b2db-8580-4b1b-c9bf-53e02ead6b08"
      },
      "source": [
        "print (iteration_loss)\r\n",
        "plt.plot(iteration_loss)\r\n",
        "plt.ylabel('Cross Entropy Loss')\r\n",
        "plt.xlabel('Epochs ')\r\n",
        "plt.show()"
      ],
      "execution_count": null,
      "outputs": [
        {
          "output_type": "stream",
          "text": [
            "[0.6543761491775513, 0.6543673276901245, 0.654358446598053, 0.654349684715271, 0.6543408632278442, 0.6543320417404175, 0.6543233394622803, 0.6543146967887878, 0.6543059349060059, 0.6542972326278687, 0.6542885899543762, 0.654279887676239, 0.6542713046073914, 0.6542627811431885, 0.654254138469696, 0.6542456150054932, 0.6542370319366455, 0.6542285680770874, 0.6542201638221741, 0.6542116403579712, 0.6542032361030579, 0.6541948914527893, 0.6541864275932312, 0.6541780829429626, 0.6541696786880493, 0.6541613936424255, 0.6541529893875122, 0.6541447639465332, 0.6541364789009094, 0.6541281938552856, 0.6541199684143066, 0.6541117429733276, 0.6541035175323486, 0.6540953516960144, 0.654087245464325, 0.6540790796279907, 0.6540709733963013, 0.6540629267692566, 0.6540548205375671, 0.6540467143058777, 0.654038667678833, 0.6540306806564331, 0.6540226936340332, 0.6540147066116333, 0.6540067195892334, 0.6539987921714783, 0.6539908647537231, 0.653982937335968, 0.6539750695228577, 0.6539672613143921, 0.6539593935012817, 0.6539515256881714, 0.6539437174797058, 0.6539359092712402, 0.6539281606674194, 0.6539204120635986, 0.6539126038551331, 0.6539048552513123, 0.6538972854614258, 0.653889536857605, 0.653881847858429, 0.6538741588592529, 0.6538665890693665, 0.6538589596748352, 0.6538512110710144, 0.6538437008857727, 0.6538362503051758, 0.6538286805152893, 0.6538211107254028, 0.6538136601448059, 0.6538060903549194, 0.6537986397743225, 0.6537911295890808, 0.6537837386131287, 0.6537763476371765, 0.6537688970565796, 0.6537613868713379, 0.6537541747093201, 0.6537467241287231, 0.6537393927574158, 0.6537320613861084, 0.653724730014801, 0.6537173986434937, 0.6537101864814758, 0.6537028551101685, 0.6536956429481506, 0.6536884307861328, 0.6536811590194702, 0.6536740064620972, 0.6536667943000793, 0.6536596417427063, 0.653652548789978, 0.6536453366279602, 0.6536382436752319, 0.6536311507225037, 0.6536239981651306, 0.6536169648170471, 0.6536099314689636, 0.6536028385162354, 0.6535958051681519, 0.6535888314247131, 0.6535817980766296, 0.6535748243331909, 0.6535678505897522, 0.6535608768463135, 0.6535539627075195, 0.653546929359436, 0.6535401344299316, 0.6535332202911377, 0.6535263061523438, 0.6535193920135498, 0.6535125374794006, 0.6535057425498962, 0.6534989476203918, 0.6534920930862427, 0.6534852981567383, 0.6534785032272339, 0.6534717679023743, 0.6534649133682251, 0.6534582376480103, 0.6534515023231506, 0.6534448862075806, 0.6534380912780762, 0.6534314155578613, 0.6534247994422913, 0.6534180641174316, 0.6534114480018616, 0.6534048318862915, 0.6533982157707214, 0.6533915996551514, 0.6533850431442261, 0.653378427028656, 0.6533719301223755, 0.6533653140068054, 0.6533587574958801, 0.6533523201942444, 0.6533457636833191, 0.6533392667770386, 0.6533327102661133, 0.6533263325691223, 0.6533198356628418, 0.6533134579658508, 0.6533070206642151, 0.6533005833625793, 0.6532941460609436]\n"
          ],
          "name": "stdout"
        },
        {
          "output_type": "display_data",
          "data": {
            "image/png": "[encoded data removed]",
            "text/plain": [
              "<Figure size 432x288 with 1 Axes>"
            ]
          },
          "metadata": {
            "tags": [],
            "needs_background": "light"
          }
        }
      ]
    },
    {
      "cell_type": "code",
      "metadata": {
        "id": "_QNlWeVfTclr"
      },
      "source": [
        "##Save Model\r\n",
        "\r\n",
        "save_model = True\r\n",
        "\r\n",
        "if save_model is True:\r\n",
        "    # Saves only parameters\r\n",
        "    # wights & biases\r\n",
        "    torch.save(model.state_dict(), root_path + 'Assignment02.3.pkl') \r\n"
      ],
      "execution_count": null,
      "outputs": []
    },
    {
      "cell_type": "code",
      "metadata": {
        "id": "vcKS5LGjTiwy"
      },
      "source": [
        ""
      ],
      "execution_count": null,
      "outputs": []
    },
    {
      "cell_type": "markdown",
      "metadata": {
        "id": "dEARiQ3aVCZu"
      },
      "source": [
        "**Result Table:-**\r\n",
        "\r\n",
        "| Settings #1      | Settings #2     | Settings #3     |\r\n",
        "| :------------- | :----------: | -----------: |\r\n",
        "|  Batch Size = 700 | Batch Size = 1000   | Batch Size = 1500    |\r\n",
        "|  Number of iterations = 6000 | Number of iterations = 10000   | Number of iterations = 15000    |\r\n",
        "|  Learning Rate = 0.001 | Learning Rate = 0.001   | Learning Rate = 0.0001 |\r\n",
        "| Accuracy : 60.038  | Accuracy : 60.071 | Accuracy : 60.42 | |\r\n"
      ]
    }
  ]
}