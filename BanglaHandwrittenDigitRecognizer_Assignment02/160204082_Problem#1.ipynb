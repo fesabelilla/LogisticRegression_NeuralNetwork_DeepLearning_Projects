{
  "nbformat": 4,
  "nbformat_minor": 0,
  "metadata": {
    "colab": {
      "name": "Assignment2_1.ipynb",
      "provenance": [],
      "collapsed_sections": []
    },
    "kernelspec": {
      "name": "python3",
      "display_name": "Python 3"
    },
    "accelerator": "GPU"
  },
  "cells": [
    {
      "cell_type": "markdown",
      "metadata": {
        "id": "Kcb_o02_KCoy"
      },
      "source": [
        "## **Identify Bengali Handwritten Digits**\r\n",
        "\r\n",
        "- **Dataset**\r\n",
        "    - [NumtaDB: Bengali Handwritten Digits](https://www.kaggle.com/BengaliAI/numta/)\r\n",
        "- **Train data set 90%**\r\n",
        "-**Test data set 10%**"
      ]
    },
    {
      "cell_type": "markdown",
      "metadata": {
        "id": "-xG-GQroLH7i"
      },
      "source": [
        "**Install dependencies**"
      ]
    },
    {
      "cell_type": "code",
      "metadata": {
        "id": "lXQ1ogtfdAWG",
        "colab": {
          "base_uri": "https://localhost:8080/"
        },
        "outputId": "5e350fcd-1976-4302-ac67-8be362a157b8"
      },
      "source": [
        "\r\n",
        "!pip install kaggle"
      ],
      "execution_count": null,
      "outputs": [
        {
          "output_type": "stream",
          "text": [
            "Requirement already satisfied: kaggle in /usr/local/lib/python3.7/dist-packages (1.5.10)\n",
            "Requirement already satisfied: python-slugify in /usr/local/lib/python3.7/dist-packages (from kaggle) (4.0.1)\n",
            "Requirement already satisfied: tqdm in /usr/local/lib/python3.7/dist-packages (from kaggle) (4.41.1)\n",
            "Requirement already satisfied: six>=1.10 in /usr/local/lib/python3.7/dist-packages (from kaggle) (1.15.0)\n",
            "Requirement already satisfied: urllib3 in /usr/local/lib/python3.7/dist-packages (from kaggle) (1.24.3)\n",
            "Requirement already satisfied: requests in /usr/local/lib/python3.7/dist-packages (from kaggle) (2.23.0)\n",
            "Requirement already satisfied: certifi in /usr/local/lib/python3.7/dist-packages (from kaggle) (2020.12.5)\n",
            "Requirement already satisfied: python-dateutil in /usr/local/lib/python3.7/dist-packages (from kaggle) (2.8.1)\n",
            "Requirement already satisfied: text-unidecode>=1.3 in /usr/local/lib/python3.7/dist-packages (from python-slugify->kaggle) (1.3)\n",
            "Requirement already satisfied: chardet<4,>=3.0.2 in /usr/local/lib/python3.7/dist-packages (from requests->kaggle) (3.0.4)\n",
            "Requirement already satisfied: idna<3,>=2.5 in /usr/local/lib/python3.7/dist-packages (from requests->kaggle) (2.10)\n"
          ],
          "name": "stdout"
        }
      ]
    },
    {
      "cell_type": "markdown",
      "metadata": {
        "id": "JL0RJTUJLRpA"
      },
      "source": [
        "**Kaggle User API Import** "
      ]
    },
    {
      "cell_type": "code",
      "metadata": {
        "colab": {
          "resources": {
            "http://localhost:8080/nbextensions/google.colab/files.js": {
              "data": "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",
              "ok": true,
              "headers": [
                [
                  "content-type",
                  "application/javascript"
                ]
              ],
              "status": 200,
              "status_text": ""
            }
          },
          "base_uri": "https://localhost:8080/",
          "height": 90
        },
        "id": "YwEeY4C-LsgZ",
        "outputId": "fbaac893-8e07-4ab2-b510-64320d174adc"
      },
      "source": [
        "from google.colab import files\r\n",
        "files.upload()"
      ],
      "execution_count": null,
      "outputs": [
        {
          "output_type": "display_data",
          "data": {
            "text/html": [
              "\n",
              "     <input type=\"file\" id=\"files-6cf0fdad-02c4-43eb-a2f4-330195579a57\" name=\"files[]\" multiple disabled\n",
              "        style=\"border:none\" />\n",
              "     <output id=\"result-6cf0fdad-02c4-43eb-a2f4-330195579a57\">\n",
              "      Upload widget is only available when the cell has been executed in the\n",
              "      current browser session. Please rerun this cell to enable.\n",
              "      </output>\n",
              "      <script src=\"/nbextensions/google.colab/files.js\"></script> "
            ],
            "text/plain": [
              "<IPython.core.display.HTML object>"
            ]
          },
          "metadata": {
            "tags": []
          }
        },
        {
          "output_type": "stream",
          "text": [
            "Saving kaggle.json to kaggle.json\n"
          ],
          "name": "stdout"
        },
        {
          "output_type": "execute_result",
          "data": {
            "text/plain": [
              "{'kaggle.json': b'{\"username\":\"mdzahidfesabelilla\",\"key\":\"4cbf3deb9ef668a2834a53c5259e67e1\"}'}"
            ]
          },
          "metadata": {
            "tags": []
          },
          "execution_count": 4
        }
      ]
    },
    {
      "cell_type": "markdown",
      "metadata": {
        "id": "qZtakTLkL3YF"
      },
      "source": [
        "**Change file access permission** "
      ]
    },
    {
      "cell_type": "code",
      "metadata": {
        "id": "XkP5Xbc5MQYO"
      },
      "source": [
        "!mkdir -p ~/.kaggle\r\n",
        "!cp kaggle.json ~/.kaggle\r\n",
        "\r\n",
        "#change permission\r\n",
        "!chmod 600 ~/.kaggle/kaggle.json"
      ],
      "execution_count": null,
      "outputs": []
    },
    {
      "cell_type": "code",
      "metadata": {
        "colab": {
          "base_uri": "https://localhost:8080/"
        },
        "id": "Yo1HlMYEM1G_",
        "outputId": "3509430e-27e6-454b-fb3d-0b7b249e9f2c"
      },
      "source": [
        " !kaggle datasets download -d BengaliAI/numta"
      ],
      "execution_count": null,
      "outputs": [
        {
          "output_type": "stream",
          "text": [
            "Downloading numta.zip to /content\n",
            "100% 1.90G/1.91G [00:18<00:00, 57.5MB/s]\n",
            "100% 1.91G/1.91G [00:18<00:00, 110MB/s] \n"
          ],
          "name": "stdout"
        }
      ]
    },
    {
      "cell_type": "markdown",
      "metadata": {
        "id": "FCCAd6l6MNXd"
      },
      "source": [
        "**Unzip Dataset**"
      ]
    },
    {
      "cell_type": "code",
      "metadata": {
        "colab": {
          "base_uri": "https://localhost:8080/"
        },
        "id": "b3Bx0tpJNM9_",
        "outputId": "e6c03bee-28b6-4fe7-d1b3-f8b9ceb368e1"
      },
      "source": [
        "from zipfile import ZipFile\r\n",
        "fileName = \"numta.zip\"\r\n",
        "\r\n",
        "with ZipFile(fileName,'r') as zip:\r\n",
        "  zip.extractall()\r\n",
        "  print('Done')\r\n"
      ],
      "execution_count": null,
      "outputs": [
        {
          "output_type": "stream",
          "text": [
            "Done\n"
          ],
          "name": "stdout"
        }
      ]
    },
    {
      "cell_type": "markdown",
      "metadata": {
        "id": "Sn5zDCK1MXbZ"
      },
      "source": [
        "**Show 'training-a.csv' file first top 5 row**"
      ]
    },
    {
      "cell_type": "code",
      "metadata": {
        "colab": {
          "base_uri": "https://localhost:8080/",
          "height": 195
        },
        "id": "G4FHuIBaN0zh",
        "outputId": "a17a8509-54d8-436c-889c-e9233ce148f3"
      },
      "source": [
        "import pandas as pd\r\n",
        "df = pd.read_csv('training-a.csv')\r\n",
        "df.head()\r\n"
      ],
      "execution_count": null,
      "outputs": [
        {
          "output_type": "execute_result",
          "data": {
            "text/html": [
              "<div>\n",
              "<style scoped>\n",
              "    .dataframe tbody tr th:only-of-type {\n",
              "        vertical-align: middle;\n",
              "    }\n",
              "\n",
              "    .dataframe tbody tr th {\n",
              "        vertical-align: top;\n",
              "    }\n",
              "\n",
              "    .dataframe thead th {\n",
              "        text-align: right;\n",
              "    }\n",
              "</style>\n",
              "<table border=\"1\" class=\"dataframe\">\n",
              "  <thead>\n",
              "    <tr style=\"text-align: right;\">\n",
              "      <th></th>\n",
              "      <th>filename</th>\n",
              "      <th>original filename</th>\n",
              "      <th>scanid</th>\n",
              "      <th>digit</th>\n",
              "      <th>database name original</th>\n",
              "      <th>contributing team</th>\n",
              "      <th>database name</th>\n",
              "    </tr>\n",
              "  </thead>\n",
              "  <tbody>\n",
              "    <tr>\n",
              "      <th>0</th>\n",
              "      <td>a00000.png</td>\n",
              "      <td>Scan_58_digit_5_num_8.png</td>\n",
              "      <td>58</td>\n",
              "      <td>5</td>\n",
              "      <td>BHDDB</td>\n",
              "      <td>Buet_Broncos</td>\n",
              "      <td>training-a</td>\n",
              "    </tr>\n",
              "    <tr>\n",
              "      <th>1</th>\n",
              "      <td>a00001.png</td>\n",
              "      <td>Scan_73_digit_3_num_5.png</td>\n",
              "      <td>73</td>\n",
              "      <td>3</td>\n",
              "      <td>BHDDB</td>\n",
              "      <td>Buet_Broncos</td>\n",
              "      <td>training-a</td>\n",
              "    </tr>\n",
              "    <tr>\n",
              "      <th>2</th>\n",
              "      <td>a00002.png</td>\n",
              "      <td>Scan_18_digit_1_num_3.png</td>\n",
              "      <td>18</td>\n",
              "      <td>1</td>\n",
              "      <td>BHDDB</td>\n",
              "      <td>Buet_Broncos</td>\n",
              "      <td>training-a</td>\n",
              "    </tr>\n",
              "    <tr>\n",
              "      <th>3</th>\n",
              "      <td>a00003.png</td>\n",
              "      <td>Scan_166_digit_7_num_3.png</td>\n",
              "      <td>166</td>\n",
              "      <td>7</td>\n",
              "      <td>BHDDB</td>\n",
              "      <td>Buet_Broncos</td>\n",
              "      <td>training-a</td>\n",
              "    </tr>\n",
              "    <tr>\n",
              "      <th>4</th>\n",
              "      <td>a00004.png</td>\n",
              "      <td>Scan_108_digit_0_num_1.png</td>\n",
              "      <td>108</td>\n",
              "      <td>0</td>\n",
              "      <td>BHDDB</td>\n",
              "      <td>Buet_Broncos</td>\n",
              "      <td>training-a</td>\n",
              "    </tr>\n",
              "  </tbody>\n",
              "</table>\n",
              "</div>"
            ],
            "text/plain": [
              "     filename           original filename  ...  contributing team  database name\n",
              "0  a00000.png   Scan_58_digit_5_num_8.png  ...       Buet_Broncos     training-a\n",
              "1  a00001.png   Scan_73_digit_3_num_5.png  ...       Buet_Broncos     training-a\n",
              "2  a00002.png   Scan_18_digit_1_num_3.png  ...       Buet_Broncos     training-a\n",
              "3  a00003.png  Scan_166_digit_7_num_3.png  ...       Buet_Broncos     training-a\n",
              "4  a00004.png  Scan_108_digit_0_num_1.png  ...       Buet_Broncos     training-a\n",
              "\n",
              "[5 rows x 7 columns]"
            ]
          },
          "metadata": {
            "tags": []
          },
          "execution_count": 8
        }
      ]
    },
    {
      "cell_type": "code",
      "metadata": {
        "id": "cmoJ1El1ORpw"
      },
      "source": [
        "import os\r\n",
        "from os import path\r\n",
        "import shutil\r\n",
        "import numpy as np\r\n",
        "import pandas as pd\r\n",
        "import torch\r\n",
        "import torch.nn as nn\r\n",
        "import torch.nn.functional as F\r\n",
        "import torch.optim as optim\r\n",
        "from torch.utils.data import Dataset\r\n",
        "from torch.utils.data.sampler import SubsetRandomSampler\r\n",
        "from torchvision import datasets, transforms, models\r\n",
        "import matplotlib\r\n",
        "import matplotlib.pyplot as plt\r\n",
        "from PIL import Image"
      ],
      "execution_count": null,
      "outputs": []
    },
    {
      "cell_type": "code",
      "metadata": {
        "colab": {
          "base_uri": "https://localhost:8080/"
        },
        "id": "1X9LvpbWPNHo",
        "outputId": "be421dc5-6b29-49ad-cb2a-5981d32ecced"
      },
      "source": [
        "PATH = '/content/'\r\n",
        "os.listdir(PATH)"
      ],
      "execution_count": null,
      "outputs": [
        {
          "output_type": "execute_result",
          "data": {
            "text/plain": [
              "['.config',\n",
              " 'training-e',\n",
              " 'testing-d',\n",
              " 'training-a.csv',\n",
              " 'kaggle.json',\n",
              " 'training-e.csv',\n",
              " 'testing-all-corrected',\n",
              " 'training-c',\n",
              " 'training-d.csv',\n",
              " 'numta.zip',\n",
              " 'training-d',\n",
              " 'testing-e',\n",
              " 'testing-auga',\n",
              " 'training-b.csv',\n",
              " 'testing-augc',\n",
              " 'testing-c',\n",
              " 'testing-f',\n",
              " 'testing-b',\n",
              " 'training-c.csv',\n",
              " 'training-b',\n",
              " 'testing-a',\n",
              " 'training-a',\n",
              " 'sample_data']"
            ]
          },
          "metadata": {
            "tags": []
          },
          "execution_count": 10
        }
      ]
    },
    {
      "cell_type": "code",
      "metadata": {
        "id": "bDk70bp4PVQQ"
      },
      "source": [
        "def showRawTrainingSamples(csv_filename):\r\n",
        "  df = pd.read_csv(PATH + csv_filename)\r\n",
        "  print(csv_filename)\r\n",
        "  print(df.columns)\r\n",
        "  return df"
      ],
      "execution_count": null,
      "outputs": []
    },
    {
      "cell_type": "markdown",
      "metadata": {
        "id": "MpETX0BHM0R5"
      },
      "source": [
        "**Show all column name**"
      ]
    },
    {
      "cell_type": "code",
      "metadata": {
        "colab": {
          "base_uri": "https://localhost:8080/"
        },
        "id": "sXPZQgFCQW-Z",
        "outputId": "b58484f5-53ab-443f-ec62-a84258d0510e"
      },
      "source": [
        "a_csv = showRawTrainingSamples('training-a.csv')\r\n",
        "c_csv = showRawTrainingSamples('training-c.csv')"
      ],
      "execution_count": null,
      "outputs": [
        {
          "output_type": "stream",
          "text": [
            "training-a.csv\n",
            "Index(['filename', 'original filename', 'scanid', 'digit',\n",
            "       'database name original', 'contributing team', 'database name'],\n",
            "      dtype='object')\n",
            "training-c.csv\n",
            "Index(['filename', 'original filename', 'scanid', 'digit',\n",
            "       'database name original', 'contributing team', 'database name'],\n",
            "      dtype='object')\n"
          ],
          "name": "stdout"
        }
      ]
    },
    {
      "cell_type": "markdown",
      "metadata": {
        "id": "fs10lI0eM6at"
      },
      "source": [
        "**Useless column drop**"
      ]
    },
    {
      "cell_type": "code",
      "metadata": {
        "id": "trUVVZWfQn3x"
      },
      "source": [
        "def dropColumns(csv_file):\r\n",
        "  csv_file = csv_file[['filename', 'digit']]\r\n",
        "  print(csv_file)\r\n",
        "  print(csv_file.iloc[:5, :])   #First 5 Rows of the CSV File\r\n",
        "  print(\"=============================\")\r\n",
        "  return csv_file"
      ],
      "execution_count": null,
      "outputs": []
    },
    {
      "cell_type": "code",
      "metadata": {
        "colab": {
          "base_uri": "https://localhost:8080/"
        },
        "id": "nrrQZid8Quuh",
        "outputId": "e113037f-a390-4d68-98b1-4bf9c4eab67c"
      },
      "source": [
        "a_csv = dropColumns(a_csv)\r\n",
        "c_csv = dropColumns(c_csv)"
      ],
      "execution_count": null,
      "outputs": [
        {
          "output_type": "stream",
          "text": [
            "         filename  digit\n",
            "0      a00000.png      5\n",
            "1      a00001.png      3\n",
            "2      a00002.png      1\n",
            "3      a00003.png      7\n",
            "4      a00004.png      0\n",
            "...           ...    ...\n",
            "19697  a19697.png      4\n",
            "19698  a19698.png      3\n",
            "19699  a19699.png      8\n",
            "19700  a19700.png      3\n",
            "19701  a19701.png      8\n",
            "\n",
            "[19702 rows x 2 columns]\n",
            "     filename  digit\n",
            "0  a00000.png      5\n",
            "1  a00001.png      3\n",
            "2  a00002.png      1\n",
            "3  a00003.png      7\n",
            "4  a00004.png      0\n",
            "=============================\n",
            "         filename  digit\n",
            "0      c00000.png      6\n",
            "1      c00001.png      1\n",
            "2      c00002.png      3\n",
            "3      c00003.png      2\n",
            "4      c00004.png      7\n",
            "...           ...    ...\n",
            "24293  c24293.png      3\n",
            "24294  c24294.png      2\n",
            "24295  c24295.png      7\n",
            "24296  c24296.png      2\n",
            "24297  c24297.png      7\n",
            "\n",
            "[24298 rows x 2 columns]\n",
            "     filename  digit\n",
            "0  c00000.png      6\n",
            "1  c00001.png      1\n",
            "2  c00002.png      3\n",
            "3  c00003.png      2\n",
            "4  c00004.png      7\n",
            "=============================\n"
          ],
          "name": "stdout"
        }
      ]
    },
    {
      "cell_type": "code",
      "metadata": {
        "colab": {
          "base_uri": "https://localhost:8080/"
        },
        "id": "BC8-287aQ0Ax",
        "outputId": "0a8a173e-b12e-4fbf-f844-001933439361"
      },
      "source": [
        "total_csv = [a_csv, c_csv]\r\n",
        "merged_csv = pd.concat(total_csv)\r\n",
        "print(len(merged_csv))"
      ],
      "execution_count": null,
      "outputs": [
        {
          "output_type": "stream",
          "text": [
            "44000\n"
          ],
          "name": "stdout"
        }
      ]
    },
    {
      "cell_type": "code",
      "metadata": {
        "id": "A19KwQbSQ8bZ"
      },
      "source": [
        "TRAIN_PATH = 'train'\r\n",
        "os.mkdir(TRAIN_PATH)"
      ],
      "execution_count": null,
      "outputs": []
    },
    {
      "cell_type": "markdown",
      "metadata": {
        "id": "R_gt5UU1NKwY"
      },
      "source": [
        "**Data process and store them in 'training-a' and 'training-c' directory**"
      ]
    },
    {
      "cell_type": "code",
      "metadata": {
        "id": "pzrRkYncRKjy"
      },
      "source": [
        "def processImages(folder_name):\r\n",
        "  src = PATH + folder_name + '/'\r\n",
        "  dir_folders = os.listdir(src)\r\n",
        "  for dir_name in dir_folders:\r\n",
        "    file_name = os.path.join(src, dir_name)\r\n",
        "    if os.path.isfile(file_name):\r\n",
        "      shutil.copy(file_name, TRAIN_PATH) "
      ],
      "execution_count": null,
      "outputs": []
    },
    {
      "cell_type": "code",
      "metadata": {
        "colab": {
          "base_uri": "https://localhost:8080/"
        },
        "id": "dund91WORzWW",
        "outputId": "6265563e-3dcd-40f5-afcf-f9ce306e9f80"
      },
      "source": [
        "processImages('training-a')\r\n",
        "print('A Done')\r\n",
        "processImages('training-c')\r\n",
        "print('C Done')"
      ],
      "execution_count": null,
      "outputs": [
        {
          "output_type": "stream",
          "text": [
            "A Done\n",
            "C Done\n"
          ],
          "name": "stdout"
        }
      ]
    },
    {
      "cell_type": "code",
      "metadata": {
        "id": "SuOAHL8yN21x"
      },
      "source": [
        "###################\r\n",
        "# Settings01\r\n",
        "###################"
      ],
      "execution_count": null,
      "outputs": []
    },
    {
      "cell_type": "code",
      "metadata": {
        "id": "c65pAA7NR4ub"
      },
      "source": [
        "class Dataset(Dataset):\r\n",
        "    def __init__(self, df, root, transform=None):\r\n",
        "        self.data = df\r\n",
        "        self.root = root\r\n",
        "        self.transform = transform\r\n",
        "        \r\n",
        "    def __len__(self):\r\n",
        "        return len(self.data)\r\n",
        "    \r\n",
        "    def __getitem__(self, index):\r\n",
        "        item = self.data.iloc[index]\r\n",
        "        \r\n",
        "        path = self.root + \"/\" + item[0]\r\n",
        "        image = Image.open(path).convert('L')\r\n",
        "        label = item[1]\r\n",
        "        \r\n",
        "        if self.transform is not None:\r\n",
        "            image = self.transform(image)\r\n",
        "            \r\n",
        "        return image, label"
      ],
      "execution_count": null,
      "outputs": []
    },
    {
      "cell_type": "markdown",
      "metadata": {
        "id": "3u_EpJAmPSCV"
      },
      "source": [
        "**Inspecting a single image (28 pixel x 28 pixel) 28x28 matrix of numbers** \r\n"
      ]
    },
    {
      "cell_type": "code",
      "metadata": {
        "colab": {
          "base_uri": "https://localhost:8080/"
        },
        "id": "xsu0wLA-R-5T",
        "outputId": "b52b03f5-4075-4b6d-81d2-8149dd5492ce"
      },
      "source": [
        "mean = [0.5,]\r\n",
        "std = [0.5, ]\r\n",
        "\r\n",
        "train_transform = transforms.Compose([\r\n",
        "    transforms.Resize(28),\r\n",
        "    transforms.ToTensor(),\r\n",
        "    transforms.Normalize(mean, std)\r\n",
        "])\r\n",
        "\r\n",
        "test_transform = transforms.Compose([\r\n",
        "        transforms.Resize(28),\r\n",
        "        transforms.ToTensor(),\r\n",
        "        transforms.Normalize(mean, std)\r\n",
        "])\r\n",
        "\r\n",
        "train_data  = Dataset(merged_csv, TRAIN_PATH, train_transform)\r\n",
        "test_data = Dataset(merged_csv, TRAIN_PATH, test_transform)\r\n",
        "\r\n",
        "print(\"Trainig Samples: \",len(train_data))\r\n",
        "\r\n"
      ],
      "execution_count": null,
      "outputs": [
        {
          "output_type": "stream",
          "text": [
            "Trainig Samples:  44000\n"
          ],
          "name": "stdout"
        }
      ]
    },
    {
      "cell_type": "code",
      "metadata": {
        "id": "f8qpuSGn9xkv"
      },
      "source": [
        "# Hyperparameters\r\n",
        "\r\n",
        "batch_size = 100\r\n",
        "num_iters = 6000\r\n",
        "input_dim = 28*28 # num_features = 784\r\n",
        "num_hidden = 100 # num of hidden nodes\r\n",
        "output_dim = 10\r\n",
        "\r\n",
        "learning_rate = 0.1  # More power so we can learn faster! previously it was 0.001\r\n",
        "\r\n",
        "# Device\r\n",
        "device = torch.device(\"cuda:0\" if torch.cuda.is_available() else \"cpu\")"
      ],
      "execution_count": null,
      "outputs": []
    },
    {
      "cell_type": "markdown",
      "metadata": {
        "id": "z6QirEVNQBpl"
      },
      "source": [
        "**Split data 10% for testing and 90% for traning**"
      ]
    },
    {
      "cell_type": "code",
      "metadata": {
        "colab": {
          "base_uri": "https://localhost:8080/"
        },
        "id": "iz9kAZ8-SLYM",
        "outputId": "2611dfd4-ad9a-4091-b6b2-4d2d1d9628b1"
      },
      "source": [
        "#batch size\r\n",
        "\r\n",
        "\r\n",
        "# split data 10% for testing\r\n",
        "test_size = 0.1\r\n",
        "\r\n",
        "# obtain training indices that will be used for validation\r\n",
        "num_train = len(train_data)\r\n",
        "\r\n",
        "# mix data\r\n",
        "# index of num of train\r\n",
        "indices = list(range(num_train))\r\n",
        "# random the index\r\n",
        "np.random.shuffle(indices)\r\n",
        "split = int(np.floor(test_size * num_train))\r\n",
        "# divied into two part\r\n",
        "train_idx, test_idx = indices[split:], indices[:split]\r\n",
        "\r\n",
        "# define the sampler\r\n",
        "train_sampler = SubsetRandomSampler(train_idx)\r\n",
        "test_sampler = SubsetRandomSampler(test_idx)\r\n",
        "\r\n",
        "# prepare loaders\r\n",
        "train_loader = torch.utils.data.DataLoader(\r\n",
        "    train_data, batch_size=batch_size,\r\n",
        "    sampler=train_sampler)\r\n",
        "\r\n",
        "test_loader = torch.utils.data.DataLoader(\r\n",
        "    test_data, batch_size=batch_size,\r\n",
        "    sampler=test_sampler)\r\n",
        "\r\n",
        "print(\"Train dataloader:{}\".format(len(train_loader)))\r\n",
        "print(\"Test dataloader:{}\".format(len(test_loader)))\r\n"
      ],
      "execution_count": null,
      "outputs": [
        {
          "output_type": "stream",
          "text": [
            "Train dataloader:396\n",
            "Test dataloader:44\n"
          ],
          "name": "stdout"
        }
      ]
    },
    {
      "cell_type": "code",
      "metadata": {
        "colab": {
          "base_uri": "https://localhost:8080/"
        },
        "id": "0IGHNl-lTZua",
        "outputId": "ee815efb-1685-48fb-933a-dd0ddb3e9ae4"
      },
      "source": [
        "print(len(train_sampler))\r\n",
        "print(len(test_sampler))"
      ],
      "execution_count": null,
      "outputs": [
        {
          "output_type": "stream",
          "text": [
            "39600\n",
            "4400\n"
          ],
          "name": "stdout"
        }
      ]
    },
    {
      "cell_type": "code",
      "metadata": {
        "colab": {
          "base_uri": "https://localhost:8080/"
        },
        "id": "AvRibwK_VBFy",
        "outputId": "554cc115-1d46-4be3-d743-09476fd9aec0"
      },
      "source": [
        "# One Image Size\r\n",
        "print(train_data[0][0].size())\r\n",
        "print(train_data[0][0].numpy().shape)\r\n",
        "# First Image Label\r\n",
        "print(train_data[0][1])"
      ],
      "execution_count": null,
      "outputs": [
        {
          "output_type": "stream",
          "text": [
            "torch.Size([1, 28, 28])\n",
            "(1, 28, 28)\n",
            "5\n"
          ],
          "name": "stdout"
        }
      ]
    },
    {
      "cell_type": "code",
      "metadata": {
        "colab": {
          "base_uri": "https://localhost:8080/",
          "height": 282
        },
        "id": "Priwaa0mVeNC",
        "outputId": "ae8d10b4-12f7-4e95-9a96-aa8ec9948412"
      },
      "source": [
        "## Displaying a  Image\r\n",
        "\r\n",
        "import matplotlib.pyplot as plt \r\n",
        "import numpy as np\r\n",
        "\r\n",
        "show_img = train_data[0][0].numpy().reshape(28, 28)\r\n",
        "plt.imshow(show_img, cmap='gray')"
      ],
      "execution_count": null,
      "outputs": [
        {
          "output_type": "execute_result",
          "data": {
            "text/plain": [
              "<matplotlib.image.AxesImage at 0x7f9f6b3dea90>"
            ]
          },
          "metadata": {
            "tags": []
          },
          "execution_count": 26
        },
        {
          "output_type": "display_data",
          "data": {
            "image/png": "[encoded data removed]",
            "text/plain": [
              "<Figure size 432x288 with 1 Axes>"
            ]
          },
          "metadata": {
            "tags": [],
            "needs_background": "light"
          }
        }
      ]
    },
    {
      "cell_type": "markdown",
      "metadata": {
        "id": "iqS-XI5I-I2W"
      },
      "source": [
        "#**Settings #1**\r\n",
        "\r\n",
        "*   **Batch Size = 100**\r\n",
        "*   **Number of iterations = 6000**\r\n",
        "*   **Learning Rate = 0.1**\r\n",
        "*   **Num of Hidden Nodes = 100**\r\n",
        "\r\n"
      ]
    },
    {
      "cell_type": "code",
      "metadata": {
        "id": "d1R7baJd-iSD"
      },
      "source": [
        "# Hyperparameters\r\n",
        "\r\n",
        "batch_size = 100\r\n",
        "num_iters = 6000\r\n",
        "input_dim = 28*28 # num_features = 784\r\n",
        "num_hidden = 100 # num of hidden nodes\r\n",
        "output_dim = 10\r\n",
        "\r\n",
        "learning_rate = 0.1  # More power so we can learn faster! previously it was 0.001\r\n",
        "\r\n",
        "# Device\r\n",
        "device = torch.device(\"cuda:0\" if torch.cuda.is_available() else \"cpu\")"
      ],
      "execution_count": null,
      "outputs": []
    },
    {
      "cell_type": "code",
      "metadata": {
        "id": "0ODxROY_B4Ls"
      },
      "source": [
        "class NeuralNetworkModel(nn.Module):\r\n",
        "    def __init__(self, input_size, num_classes, num_hidden):\r\n",
        "        super().__init__()\r\n",
        "        ### 1st hidden layer\r\n",
        "        self.linear_1 = nn.Linear(input_size, num_hidden)\r\n",
        "\r\n",
        "        ### Non-linearity\r\n",
        "        self.sigmoid = nn.Sigmoid()\r\n",
        "\r\n",
        "        ### Output layer\r\n",
        "        self.linear_out = nn.Linear(num_hidden, num_classes)\r\n",
        "\r\n",
        "    def forward(self, x):\r\n",
        "        # Linear layer\r\n",
        "        out  = self.linear_1(x)\r\n",
        "        # Non-linearity\r\n",
        "        out = self.sigmoid(out)\r\n",
        "        # Linear layer (output)\r\n",
        "        probas  = self.linear_out(out)\r\n",
        "        return probas"
      ],
      "execution_count": null,
      "outputs": []
    },
    {
      "cell_type": "code",
      "metadata": {
        "colab": {
          "base_uri": "https://localhost:8080/"
        },
        "id": "muYNiMAHB9Gw",
        "outputId": "ff414fdf-fbcf-4e61-f388-2a08526802fa"
      },
      "source": [
        "'''\r\n",
        "INSTANTIATE MODEL CLASS\r\n",
        "'''\r\n",
        "model = NeuralNetworkModel(input_size = input_dim,\r\n",
        "                           num_classes = output_dim,\r\n",
        "                           num_hidden = num_hidden)\r\n",
        "# To enable GPU\r\n",
        "model.to(device)"
      ],
      "execution_count": null,
      "outputs": [
        {
          "output_type": "execute_result",
          "data": {
            "text/plain": [
              "NeuralNetworkModel(\n",
              "  (linear_1): Linear(in_features=784, out_features=100, bias=True)\n",
              "  (sigmoid): Sigmoid()\n",
              "  (linear_out): Linear(in_features=100, out_features=10, bias=True)\n",
              ")"
            ]
          },
          "metadata": {
            "tags": []
          },
          "execution_count": 28
        }
      ]
    },
    {
      "cell_type": "code",
      "metadata": {
        "id": "Vwj0RWa8CABm"
      },
      "source": [
        "criterion = nn.CrossEntropyLoss()\r\n",
        "optimizer = torch.optim.SGD(model.parameters(), lr=learning_rate)"
      ],
      "execution_count": null,
      "outputs": []
    },
    {
      "cell_type": "code",
      "metadata": {
        "id": "teZ2tMOvCTud"
      },
      "source": [
        "num_epochs = num_iters / (len(train_data) / batch_size)\r\n",
        "num_epochs = int(num_epochs)"
      ],
      "execution_count": null,
      "outputs": []
    },
    {
      "cell_type": "code",
      "metadata": {
        "colab": {
          "base_uri": "https://localhost:8080/"
        },
        "id": "hOFOcg5SD8rT",
        "outputId": "12fd0f12-18f1-4aac-8986-f3c317113835"
      },
      "source": [
        "num_epochs"
      ],
      "execution_count": null,
      "outputs": [
        {
          "output_type": "execute_result",
          "data": {
            "text/plain": [
              "13"
            ]
          },
          "metadata": {
            "tags": []
          },
          "execution_count": 31
        }
      ]
    },
    {
      "cell_type": "code",
      "metadata": {
        "colab": {
          "base_uri": "https://localhost:8080/"
        },
        "id": "S9Wvs7B8CDxL",
        "outputId": "9b696bcb-6831-46c1-a026-6e54328d79bb"
      },
      "source": [
        "'''\r\n",
        "TRAIN THE MODEL\r\n",
        "'''\r\n",
        "iter = 0\r\n",
        "for epoch in range(num_epochs):\r\n",
        "    for i, (images, labels) in enumerate(train_loader):\r\n",
        "\r\n",
        "        images = images.view(-1, 28*28).to(device)\r\n",
        "        labels = labels.to(device)\r\n",
        "\r\n",
        "        # Clear gradients w.r.t. parameters\r\n",
        "        optimizer.zero_grad()\r\n",
        "\r\n",
        "        # Forward pass to get output/logits\r\n",
        "        outputs = model(images) \r\n",
        "\r\n",
        "        # Calculate Loss: softmax --> cross entropy loss\r\n",
        "        loss = criterion(outputs, labels)\r\n",
        "\r\n",
        "        # Getting gradients w.r.t. parameters\r\n",
        "        loss.backward()\r\n",
        "\r\n",
        "        # Updating parameters\r\n",
        "        optimizer.step()\r\n",
        "\r\n",
        "        iter += 1\r\n",
        "\r\n",
        "        if iter % 500 == 0:\r\n",
        "            # Calculate Accuracy         \r\n",
        "            correct = 0\r\n",
        "            total = 0\r\n",
        "            # Iterate through test dataset\r\n",
        "            for images, labels in test_loader:\r\n",
        "               \r\n",
        "                images = images.view(-1, 28*28).to(device)\r\n",
        "\r\n",
        "                # Forward pass only to get logits/output\r\n",
        "                outputs = model(images)\r\n",
        "\r\n",
        "                # Get predictions from the maximum value\r\n",
        "                _, predicted = torch.max(outputs, 1)\r\n",
        "\r\n",
        "                # Total number of labels\r\n",
        "                total += labels.size(0)\r\n",
        "\r\n",
        "\r\n",
        "                # Total correct predictions\r\n",
        "                if torch.cuda.is_available():\r\n",
        "                    correct += (predicted.cpu() == labels.cpu()).sum() \r\n",
        "                else:\r\n",
        "                    correct += (predicted == labels).sum()\r\n",
        "\r\n",
        "            accuracy = 100 * correct.item() / total\r\n",
        "\r\n",
        "            # Print Loss\r\n",
        "            print('Iteration: {}. Loss: {}. Accuracy: {}'.format(iter, loss.item(), accuracy))"
      ],
      "execution_count": null,
      "outputs": [
        {
          "output_type": "stream",
          "text": [
            "Iteration: 500. Loss: 2.2920312881469727. Accuracy: 16.40909090909091\n",
            "Iteration: 1000. Loss: 2.170316696166992. Accuracy: 18.568181818181817\n",
            "Iteration: 1500. Loss: 2.132253646850586. Accuracy: 26.34090909090909\n",
            "Iteration: 2000. Loss: 2.1019535064697266. Accuracy: 29.09090909090909\n",
            "Iteration: 2500. Loss: 2.1396636962890625. Accuracy: 27.59090909090909\n",
            "Iteration: 3000. Loss: 1.9754273891448975. Accuracy: 30.272727272727273\n",
            "Iteration: 3500. Loss: 2.0482850074768066. Accuracy: 39.29545454545455\n",
            "Iteration: 4000. Loss: 1.8811314105987549. Accuracy: 31.318181818181817\n",
            "Iteration: 4500. Loss: 1.953782558441162. Accuracy: 38.31818181818182\n",
            "Iteration: 5000. Loss: 1.8355412483215332. Accuracy: 34.29545454545455\n"
          ],
          "name": "stdout"
        }
      ]
    },
    {
      "cell_type": "markdown",
      "metadata": {
        "id": "OUTyCY4gDRVV"
      },
      "source": [
        "#**Settings #2**\r\n",
        "## One Layer Neural Network with Tanh Activation\r\n",
        "\r\n",
        "*   **Batch Size = 100**\r\n",
        "*   **Number of iterations = 6000**\r\n",
        "*   **Learning Rate = 0.1**\r\n",
        "*   **Num of Hidden Nodes = 100**"
      ]
    },
    {
      "cell_type": "code",
      "metadata": {
        "colab": {
          "base_uri": "https://localhost:8080/"
        },
        "id": "HOT8ZBNHCGk1",
        "outputId": "fb62d3d1-0187-4460-f6e1-808afea81f83"
      },
      "source": [
        "import torch\r\n",
        "import torch.nn as nn\r\n",
        "import torchvision.transforms as transforms\r\n",
        "import torchvision.datasets as dsets\r\n",
        "\r\n",
        "# Hyperparameters\r\n",
        "batch_size = 100\r\n",
        "num_iters = 6000\r\n",
        "input_dim = 28*28 # num_features = 784\r\n",
        "num_hidden = 100\r\n",
        "output_dim = 10\r\n",
        "\r\n",
        "learning_rate = 0.1\r\n",
        "\r\n",
        "# Device\r\n",
        "device = torch.device(\"cuda:0\" if torch.cuda.is_available() else \"cpu\")\r\n",
        "\r\n",
        "\r\n",
        "num_epochs = num_iters / (len(train_data) / batch_size)\r\n",
        "num_epochs = int(num_epochs)\r\n",
        "\r\n",
        "\r\n",
        "class NeuralNetworkModel(nn.Module):\r\n",
        "    def __init__(self, input_size, num_classes, num_hidden):\r\n",
        "        super().__init__()\r\n",
        "        ### 1st hidden layer\r\n",
        "        self.linear_1 = nn.Linear(input_size, num_hidden)\r\n",
        "\r\n",
        "        ### Non-linearity\r\n",
        "        self.tanh = nn.Tanh()\r\n",
        "\r\n",
        "        ### Output layer\r\n",
        "        self.linear_out = nn.Linear(num_hidden, num_classes)\r\n",
        "\r\n",
        "    def forward(self, x):\r\n",
        "        # Linear layer\r\n",
        "        out  = self.linear_1(x)\r\n",
        "        # Non-linearity\r\n",
        "        out = self.tanh(out)\r\n",
        "        # Linear layer (output)\r\n",
        "        probas  = self.linear_out(out)\r\n",
        "        return probas\r\n",
        "\r\n",
        "model = NeuralNetworkModel(input_size = input_dim,\r\n",
        "                           num_classes = output_dim,\r\n",
        "                           num_hidden = num_hidden)\r\n",
        "# To enable GPU\r\n",
        "model.to(device)\r\n",
        "\r\n",
        "criterion = nn.CrossEntropyLoss()\r\n",
        "optimizer = torch.optim.SGD(model.parameters(), lr=learning_rate)\r\n",
        "\r\n",
        "iter = 0\r\n",
        "for epoch in range(num_epochs):\r\n",
        "    for i, (images, labels) in enumerate(train_loader):\r\n",
        "\r\n",
        "        images = images.view(-1, 28*28).to(device)\r\n",
        "        labels = labels.to(device)\r\n",
        "\r\n",
        "        # Clear gradients w.r.t. parameters\r\n",
        "        optimizer.zero_grad()\r\n",
        "\r\n",
        "        # Forward pass to get output/logits\r\n",
        "        outputs = model(images) \r\n",
        "\r\n",
        "        # Calculate Loss: softmax --> cross entropy loss\r\n",
        "        loss = criterion(outputs, labels)\r\n",
        "\r\n",
        "        # Getting gradients w.r.t. parameters\r\n",
        "        loss.backward()\r\n",
        "\r\n",
        "        # Updating parameters\r\n",
        "        optimizer.step()\r\n",
        "\r\n",
        "        iter += 1\r\n",
        "\r\n",
        "        if iter % 500 == 0:\r\n",
        "            # Calculate Accuracy         \r\n",
        "            correct = 0\r\n",
        "            total = 0\r\n",
        "            # Iterate through test dataset\r\n",
        "            for images, labels in test_loader:\r\n",
        "               \r\n",
        "                images = images.view(-1, 28*28).to(device)\r\n",
        "\r\n",
        "                # Forward pass only to get logits/output\r\n",
        "                outputs = model(images)\r\n",
        "\r\n",
        "                # Get predictions from the maximum value\r\n",
        "                _, predicted = torch.max(outputs, 1)\r\n",
        "\r\n",
        "                # Total number of labels\r\n",
        "                total += labels.size(0)\r\n",
        "\r\n",
        "\r\n",
        "                # Total correct predictions\r\n",
        "                if torch.cuda.is_available():\r\n",
        "                    correct += (predicted.cpu() == labels.cpu()).sum() \r\n",
        "                else:\r\n",
        "                    correct += (predicted == labels).sum()\r\n",
        "\r\n",
        "            accuracy = 100 * correct.item() / total\r\n",
        "\r\n",
        "            # Print Loss\r\n",
        "            print('Iteration: {}. Loss: {}. Accuracy: {}'.format(iter, loss.item(), accuracy))"
      ],
      "execution_count": null,
      "outputs": [
        {
          "output_type": "stream",
          "text": [
            "Iteration: 500. Loss: 2.2902626991271973. Accuracy: 14.272727272727273\n",
            "Iteration: 1000. Loss: 2.3950181007385254. Accuracy: 27.681818181818183\n",
            "Iteration: 1500. Loss: 2.1109366416931152. Accuracy: 29.681818181818183\n",
            "Iteration: 2000. Loss: 1.9819968938827515. Accuracy: 34.59090909090909\n",
            "Iteration: 2500. Loss: 1.9994041919708252. Accuracy: 17.568181818181817\n",
            "Iteration: 3000. Loss: 1.7036455869674683. Accuracy: 33.79545454545455\n",
            "Iteration: 3500. Loss: 1.9135069847106934. Accuracy: 18.59090909090909\n",
            "Iteration: 4000. Loss: 1.7918367385864258. Accuracy: 39.13636363636363\n",
            "Iteration: 4500. Loss: 1.8387701511383057. Accuracy: 28.136363636363637\n",
            "Iteration: 5000. Loss: 1.807010531425476. Accuracy: 38.61363636363637\n"
          ],
          "name": "stdout"
        }
      ]
    },
    {
      "cell_type": "code",
      "metadata": {
        "id": "XuDEuNvxE4tk"
      },
      "source": [
        ""
      ],
      "execution_count": null,
      "outputs": []
    },
    {
      "cell_type": "markdown",
      "metadata": {
        "id": "DegnL-hm_aqk"
      },
      "source": [
        "#**Settings #3**\r\n",
        "## Two Layer Neural Network (Deep) with ReLU Activation\r\n",
        "*   **Batch Size = 100**\r\n",
        "*   **Number of iterations = 6000**\r\n",
        "*   **Learning Rate = 0.1**\r\n",
        "*   **Num of Hidden Nodes = 200**\r\n"
      ]
    },
    {
      "cell_type": "markdown",
      "metadata": {
        "id": "HC6FSepJFS1W"
      },
      "source": [
        "## Two Layer Neural Network (Deep) with ReLU Activation"
      ]
    },
    {
      "cell_type": "code",
      "metadata": {
        "colab": {
          "base_uri": "https://localhost:8080/"
        },
        "id": "kWB36kNEE4rj",
        "outputId": "d5f71c46-fedc-4626-c367-1fbbe98f987c"
      },
      "source": [
        "import torch\r\n",
        "import torch.nn as nn\r\n",
        "import torchvision.transforms as transforms\r\n",
        "import torchvision.datasets as dsets\r\n",
        "\r\n",
        "# Hyperparameters\r\n",
        "batch_size = 100\r\n",
        "num_iters = 6000\r\n",
        "input_dim = 28*28 # num_features = 784\r\n",
        "num_hidden = 200\r\n",
        "output_dim = 10\r\n",
        "\r\n",
        "learning_rate = 0.1\r\n",
        "\r\n",
        "# Device\r\n",
        "device = torch.device(\"cuda:0\" if torch.cuda.is_available() else \"cpu\")\r\n",
        "\r\n",
        "\r\n",
        "num_epochs = num_iters / (len(train_data) / batch_size)\r\n",
        "num_epochs = int(num_epochs)\r\n",
        "\r\n",
        "\r\n",
        "class DeepNeuralNetworkModel(nn.Module):\r\n",
        "    def __init__(self, input_size, num_classes, num_hidden):\r\n",
        "        super().__init__()\r\n",
        "        ### 1st hidden layer: 784 --> 100\r\n",
        "        self.linear_1 = nn.Linear(input_size, num_hidden)\r\n",
        "        ### Non-linearity in 1st hidden layer\r\n",
        "        self.relu_1 = nn.ReLU()\r\n",
        "\r\n",
        "        ### 2nd hidden layer: 100 --> 100\r\n",
        "        self.linear_2 = nn.Linear(num_hidden, num_hidden)\r\n",
        "        ### Non-linearity in 2nd hidden layer\r\n",
        "        self.relu_2 = nn.ReLU()\r\n",
        "\r\n",
        "        ### Output layer: 100 --> 10\r\n",
        "        self.linear_out = nn.Linear(num_hidden, num_classes)\r\n",
        "\r\n",
        "    def forward(self, x):\r\n",
        "        ### 1st hidden layer\r\n",
        "        out  = self.linear_1(x)\r\n",
        "        ### Non-linearity in 1st hidden layer\r\n",
        "        out = self.relu_1(out)\r\n",
        "        \r\n",
        "        ### 2nd hidden layer\r\n",
        "        out  = self.linear_2(out)\r\n",
        "        ### Non-linearity in 2nd hidden layer\r\n",
        "        out = self.relu_2(out)\r\n",
        "        \r\n",
        "        # Linear layer (output)\r\n",
        "        probas  = self.linear_out(out)\r\n",
        "        return probas\r\n",
        "\r\n",
        "# INSTANTIATE MODEL CLASS\r\n",
        "\r\n",
        "model = DeepNeuralNetworkModel(input_size = input_dim,\r\n",
        "                               num_classes = output_dim,\r\n",
        "                               num_hidden = num_hidden)\r\n",
        "# To enable GPU\r\n",
        "model.to(device)\r\n",
        "\r\n",
        "# INSTANTIATE LOSS & OPTIMIZER CLASS\r\n",
        "\r\n",
        "criterion = nn.CrossEntropyLoss()\r\n",
        "optimizer = torch.optim.SGD(model.parameters(), lr=learning_rate)\r\n",
        "\r\n",
        "iter = 0\r\n",
        "for epoch in range(num_epochs):\r\n",
        "    for i, (images, labels) in enumerate(train_loader):\r\n",
        "\r\n",
        "        images = images.view(-1, 28*28).to(device)\r\n",
        "        labels = labels.to(device)\r\n",
        "\r\n",
        "        # Clear gradients w.r.t. parameters\r\n",
        "        optimizer.zero_grad()\r\n",
        "\r\n",
        "        # Forward pass to get output/logits\r\n",
        "        outputs = model(images) \r\n",
        "\r\n",
        "        # Calculate Loss: softmax --> cross entropy loss\r\n",
        "        loss = criterion(outputs, labels)\r\n",
        "\r\n",
        "        # Getting gradients w.r.t. parameters\r\n",
        "        loss.backward()\r\n",
        "\r\n",
        "        # Updating parameters\r\n",
        "        optimizer.step()\r\n",
        "\r\n",
        "        iter += 1\r\n",
        "\r\n",
        "        if iter % 500 == 0:\r\n",
        "            # Calculate Accuracy         \r\n",
        "            correct = 0\r\n",
        "            total = 0\r\n",
        "            # Iterate through test dataset\r\n",
        "            for images, labels in test_loader:\r\n",
        "               \r\n",
        "                images = images.view(-1, 28*28).to(device)\r\n",
        "\r\n",
        "                # Forward pass only to get logits/output\r\n",
        "                outputs = model(images)\r\n",
        "\r\n",
        "                # Get predictions from the maximum value\r\n",
        "                _, predicted = torch.max(outputs, 1)\r\n",
        "\r\n",
        "                # Total number of labels\r\n",
        "                total += labels.size(0)\r\n",
        "\r\n",
        "\r\n",
        "                # Total correct predictions\r\n",
        "                if torch.cuda.is_available():\r\n",
        "                    correct += (predicted.cpu() == labels. cpu()).sum() \r\n",
        "                else:\r\n",
        "                    correct += (predicted == labels).sum()\r\n",
        "\r\n",
        "            accuracy = 100 * correct.item() / total\r\n",
        "\r\n",
        "            # Print Loss\r\n",
        "            print('Iteration: {}. Loss: {}. Accuracy: {}'.format(iter, loss.item(), accuracy))"
      ],
      "execution_count": null,
      "outputs": [
        {
          "output_type": "stream",
          "text": [
            "Iteration: 500. Loss: 2.267613649368286. Accuracy: 21.09090909090909\n",
            "Iteration: 1000. Loss: 2.067176580429077. Accuracy: 17.84090909090909\n",
            "Iteration: 1500. Loss: 2.2078659534454346. Accuracy: 22.636363636363637\n",
            "Iteration: 2000. Loss: 2.1550557613372803. Accuracy: 19.295454545454547\n",
            "Iteration: 2500. Loss: 2.0629470348358154. Accuracy: 25.977272727272727\n",
            "Iteration: 3000. Loss: 2.10848331451416. Accuracy: 26.977272727272727\n",
            "Iteration: 3500. Loss: 1.9685627222061157. Accuracy: 32.06818181818182\n",
            "Iteration: 4000. Loss: 2.033245801925659. Accuracy: 28.0\n",
            "Iteration: 4500. Loss: 1.9097845554351807. Accuracy: 34.22727272727273\n",
            "Iteration: 5000. Loss: 1.7264344692230225. Accuracy: 30.045454545454547\n"
          ],
          "name": "stdout"
        }
      ]
    },
    {
      "cell_type": "code",
      "metadata": {
        "id": "zhhjRCy-E4np"
      },
      "source": [
        ""
      ],
      "execution_count": null,
      "outputs": []
    },
    {
      "cell_type": "markdown",
      "metadata": {
        "id": "vGLxZl2qGSSI"
      },
      "source": [
        "#**Settings #4**\r\n",
        "## Three Layer Neural Network (Deep) with ReLU Activation\r\n",
        "*   **Batch Size = 100**\r\n",
        "*   **Number of iterations = 6000**\r\n",
        "*   **Learning Rate = 0.01**\r\n",
        "*   **Num of Hidden Nodes = 250**\r\n"
      ]
    },
    {
      "cell_type": "code",
      "metadata": {
        "colab": {
          "base_uri": "https://localhost:8080/"
        },
        "id": "lu1Xz_6IE4kz",
        "outputId": "672959c3-7873-45b3-84d6-621d34dcca09"
      },
      "source": [
        "import torch\r\n",
        "import torch.nn as nn\r\n",
        "import torchvision.transforms as transforms\r\n",
        "import torchvision.datasets as dsets\r\n",
        "\r\n",
        "# Hyperparameters\r\n",
        "batch_size = 100\r\n",
        "num_iters = 6000\r\n",
        "input_dim = 28*28 #num_features = 784\r\n",
        "num_hidden = 250\r\n",
        "output_dim = 10\r\n",
        "\r\n",
        "learning_rate = 0.01\r\n",
        "\r\n",
        "# Device\r\n",
        "device = torch.device(\"cuda:0\" if torch.cuda.is_available() else \"cpu\")\r\n",
        "\r\n",
        "\r\n",
        "num_epochs = num_iters / (len(train_data) / batch_size)\r\n",
        "num_epochs = int(num_epochs)\r\n",
        "\r\n",
        "\r\n",
        "\r\n",
        "class DeepNeuralNetworkModel(nn.Module):\r\n",
        "    def __init__(self, input_size, num_classes, num_hidden):\r\n",
        "        super().__init__()\r\n",
        "        ### 1st hidden layer: 784 --> 100\r\n",
        "        self.linear_1 = nn.Linear(input_size, num_hidden)\r\n",
        "        ### Non-linearity in 1st hidden layer\r\n",
        "        self.relu_1 = nn.ReLU()\r\n",
        "\r\n",
        "        ### 2nd hidden layer: 100 --> 100\r\n",
        "        self.linear_2 = nn.Linear(num_hidden, num_hidden)\r\n",
        "        ### Non-linearity in 2nd hidden layer\r\n",
        "        self.relu_2 = nn.ReLU()\r\n",
        "\r\n",
        "        ### 3rd hidden layer: 100 --> 100\r\n",
        "        self.linear_3 = nn.Linear(num_hidden, num_hidden)\r\n",
        "        ### Non-linearity in 3rd hidden layer\r\n",
        "        self.relu_3 = nn.ReLU()\r\n",
        "\r\n",
        "        ### Output layer: 100 --> 10\r\n",
        "        self.linear_out = nn.Linear(num_hidden, num_classes)\r\n",
        "\r\n",
        "    def forward(self, x):\r\n",
        "        ### 1st hidden layer\r\n",
        "        out  = self.linear_1(x)\r\n",
        "        ### Non-linearity in 1st hidden layer\r\n",
        "        out = self.relu_1(out)\r\n",
        "        \r\n",
        "        ### 2nd hidden layer\r\n",
        "        out  = self.linear_2(out)\r\n",
        "        ### Non-linearity in 2nd hidden layer\r\n",
        "        out = self.relu_2(out)\r\n",
        "\r\n",
        "        ### 3rd hidden layer\r\n",
        "        out  = self.linear_3(out)\r\n",
        "        ### Non-linearity in 3rd hidden layer\r\n",
        "        out = self.relu_3(out)\r\n",
        "        \r\n",
        "        # Linear layer (output)\r\n",
        "        probas  = self.linear_out(out)\r\n",
        "        return probas\r\n",
        "\r\n",
        "# INSTANTIATE MODEL CLASS\r\n",
        "\r\n",
        "model = DeepNeuralNetworkModel(input_size = input_dim,\r\n",
        "                               num_classes = output_dim,\r\n",
        "                               num_hidden = num_hidden)\r\n",
        "# To enable GPU\r\n",
        "model.to(device)\r\n",
        "\r\n",
        "# INSTANTIATE LOSS & OPTIMIZER CLASS\r\n",
        "criterion = nn.CrossEntropyLoss()\r\n",
        "optimizer = torch.optim.SGD(model.parameters(), lr=learning_rate)\r\n",
        "\r\n",
        "iter = 0\r\n",
        "for epoch in range(num_epochs):\r\n",
        "    for i, (images, labels) in enumerate(train_loader):\r\n",
        "\r\n",
        "        images = images.view(-1, 28*28).to(device)\r\n",
        "        labels = labels.to(device)\r\n",
        "\r\n",
        "        # Clear gradients w.r.t. parameters\r\n",
        "        optimizer.zero_grad()\r\n",
        "\r\n",
        "        # Forward pass to get output/logits\r\n",
        "        outputs = model(images) \r\n",
        "\r\n",
        "        # Calculate Loss: softmax --> cross entropy loss\r\n",
        "        loss = criterion(outputs, labels)\r\n",
        "\r\n",
        "        # Getting gradients w.r.t. parameters\r\n",
        "        loss.backward()\r\n",
        "\r\n",
        "        # Updating parameters\r\n",
        "        optimizer.step()\r\n",
        "\r\n",
        "        iter += 1\r\n",
        "\r\n",
        "        if iter % 500 == 0:\r\n",
        "            # Calculate Accuracy         \r\n",
        "            correct = 0\r\n",
        "            total = 0\r\n",
        "            # Iterate through test dataset\r\n",
        "            for images, labels in test_loader:\r\n",
        "               \r\n",
        "                images = images.view(-1, 28*28).to(device)\r\n",
        "\r\n",
        "                # Forward pass only to get logits/output\r\n",
        "                outputs = model(images)\r\n",
        "\r\n",
        "                # Get predictions from the maximum value\r\n",
        "                _, predicted = torch.max(outputs, 1)\r\n",
        "\r\n",
        "                # Total number of labels\r\n",
        "                total += labels.size(0)\r\n",
        "\r\n",
        "\r\n",
        "                # Total correct predictions\r\n",
        "                if torch.cuda.is_available():\r\n",
        "                    correct += (predicted.cpu() == labels.cpu()).sum() \r\n",
        "                else:\r\n",
        "                    correct += (predicted == labels).sum()\r\n",
        "\r\n",
        "            accuracy = 100 * correct.item() / total\r\n",
        "\r\n",
        "            # Print Loss\r\n",
        "            print('Iteration: {}. Loss: {}. Accuracy: {}'.format(iter, loss.item(), accuracy))"
      ],
      "execution_count": null,
      "outputs": [
        {
          "output_type": "stream",
          "text": [
            "Iteration: 500. Loss: 2.300567388534546. Accuracy: 10.636363636363637\n",
            "Iteration: 1000. Loss: 2.301452875137329. Accuracy: 12.977272727272727\n",
            "Iteration: 1500. Loss: 2.2952303886413574. Accuracy: 12.363636363636363\n",
            "Iteration: 2000. Loss: 2.28908109664917. Accuracy: 20.15909090909091\n",
            "Iteration: 2500. Loss: 2.290834426879883. Accuracy: 18.272727272727273\n",
            "Iteration: 3000. Loss: 2.2820889949798584. Accuracy: 14.568181818181818\n",
            "Iteration: 3500. Loss: 2.269426107406616. Accuracy: 21.59090909090909\n",
            "Iteration: 4000. Loss: 2.1864235401153564. Accuracy: 20.863636363636363\n",
            "Iteration: 4500. Loss: 2.1024560928344727. Accuracy: 24.681818181818183\n",
            "Iteration: 5000. Loss: 2.0674407482147217. Accuracy: 25.15909090909091\n"
          ],
          "name": "stdout"
        }
      ]
    },
    {
      "cell_type": "code",
      "metadata": {
        "id": "8tdlfbNtE4hM"
      },
      "source": [
        ""
      ],
      "execution_count": null,
      "outputs": []
    },
    {
      "cell_type": "markdown",
      "metadata": {
        "id": "nB6FjMH0912W"
      },
      "source": [
        "**Result Table:-**\r\n",
        "\r\n",
        "| Settings #1      | Settings #2     | Settings #3     | Settings #4     |\r\n",
        "| :------------- | :----------: | -----------: | -----------: |\r\n",
        "|  Batch Size = 100 | Batch Size = 100  | Batch Size = 100    |Batch Size = 100    |\r\n",
        "|  Number of iterations = 6000 | Number of iterations = 6000   | Number of iterations = 6000    | Number of iterations = 6000    |\r\n",
        "|  Learning Rate = 0.1 | Learning Rate = 0.1   | Learning Rate = 0.1 |Learning Rate = 0.01 |\r\n",
        "|Num of Hidden Nodes = 100|Num of Hidden Nodes = 100|Num of Hidden Nodes = 200|Num of Hidden Nodes = 250|\r\n",
        "| Accuracy : 34.30  | Accuracy : 38.61 | Accuracy : 30.04 |Accuracy : 25.16 | |\r\n"
      ]
    }
  ]
}