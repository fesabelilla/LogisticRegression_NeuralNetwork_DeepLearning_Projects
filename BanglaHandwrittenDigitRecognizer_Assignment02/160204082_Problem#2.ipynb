{
  "nbformat": 4,
  "nbformat_minor": 0,
  "metadata": {
    "colab": {
      "name": "Assignment2_2.ipynb",
      "provenance": [],
      "collapsed_sections": []
    },
    "kernelspec": {
      "display_name": "Python 3",
      "name": "python3"
    }
  },
  "cells": [
    {
      "cell_type": "markdown",
      "metadata": {
        "id": "LVsZ2IVsTonc"
      },
      "source": [
        "##**Binary classification model that can predict male/female from Bengali handwritten digits**\r\n",
        "\r\n",
        "- **Dataset**\r\n",
        "    - [Ekush](https://shahariarrabby.github.io/ekush/#download)\r\n",
        "- **Train data set 90%**\r\n",
        "-**Test data set 10%**"
      ]
    },
    {
      "cell_type": "code",
      "metadata": {
        "id": "MaohTfDsEiGy"
      },
      "source": [
        "import os\r\n",
        "from os import path\r\n",
        "import shutil\r\n",
        "import numpy as np\r\n",
        "import pandas as pd\r\n",
        "import torch\r\n",
        "import torch.nn as nn\r\n",
        "import torch.nn.functional as F\r\n",
        "import torch.optim as optim\r\n",
        "from torch.utils.data import Dataset\r\n",
        "from torch.utils.data.sampler import SubsetRandomSampler\r\n",
        "from torchvision import datasets, transforms, models\r\n",
        "import matplotlib\r\n",
        "import matplotlib.pyplot as plt\r\n",
        "from PIL import Image"
      ],
      "execution_count": 2,
      "outputs": []
    },
    {
      "cell_type": "code",
      "metadata": {
        "id": "FPtm7jHgcluR"
      },
      "source": [
        "import torch\r\n",
        "import torch.nn as nn\r\n",
        "import torch.nn.functional as F\r\n",
        "import torchvision\r\n",
        "import torchvision.transforms as transforms\r\n",
        "import torchvision.datasets as dsets"
      ],
      "execution_count": 3,
      "outputs": []
    },
    {
      "cell_type": "code",
      "metadata": {
        "id": "goGgjOOEwg8M"
      },
      "source": [
        "from sklearn import  datasets\r\n",
        "from sklearn.preprocessing import StandardScaler\r\n",
        "from sklearn.model_selection import train_test_split"
      ],
      "execution_count": 4,
      "outputs": []
    },
    {
      "cell_type": "code",
      "metadata": {
        "colab": {
          "base_uri": "https://localhost:8080/"
        },
        "id": "Pzm0O3F1FwoI",
        "outputId": "632c3381-beb6-4301-82a3-409c63f12b25"
      },
      "source": [
        "from google.colab import drive\r\n",
        "\r\n",
        "drive.mount('/content/gdrive')\r\n",
        "\r\n",
        "root_path = '/content/gdrive/My Drive/1.4.1Dataset/'"
      ],
      "execution_count": 7,
      "outputs": [
        {
          "output_type": "stream",
          "text": [
            "Mounted at /content/gdrive\n"
          ],
          "name": "stdout"
        }
      ]
    },
    {
      "cell_type": "code",
      "metadata": {
        "id": "N4b5_QjYFWGj"
      },
      "source": [
        "maleDgt1 = pd.read_csv('/content/gdrive/MyDrive/1.4.1Dataset/maleDigits.csv').iloc[:,:-1]\r\n",
        "femaleDgt1 = pd.read_csv('/content/gdrive/MyDrive/1.4.1Dataset/femaleDigits.csv').iloc[:,:-1]\r\n"
      ],
      "execution_count": 8,
      "outputs": []
    },
    {
      "cell_type": "code",
      "metadata": {
        "id": "FGy9PIhaFcTH"
      },
      "source": [
        "maleDgt1['lable'] = 0\r\n",
        "femaleDgt1['lable'] = 1\r\n",
        "total = pd.concat([maleDgt1,femaleDgt1])\r\n"
      ],
      "execution_count": 9,
      "outputs": []
    },
    {
      "cell_type": "code",
      "metadata": {
        "id": "rddnHAc7FkXM"
      },
      "source": [
        "normalizeVale = np.float32(total.loc[:,total.columns != 'lable'].values/255) \r\n",
        "#normalizeVale"
      ],
      "execution_count": 10,
      "outputs": []
    },
    {
      "cell_type": "code",
      "metadata": {
        "id": "VUf_1arBFmXb"
      },
      "source": [
        "labels = total.lable.values"
      ],
      "execution_count": 11,
      "outputs": []
    },
    {
      "cell_type": "code",
      "metadata": {
        "colab": {
          "base_uri": "https://localhost:8080/",
          "height": 282
        },
        "id": "rI7nGJD2FtnW",
        "outputId": "bd1655f1-7d59-4fc1-8dc2-7177e9b1c478"
      },
      "source": [
        "show_img = (normalizeVale[0]).reshape(28,28)\r\n",
        "plt.imshow(show_img,cmap='gray')\r\n",
        "\r\n",
        "print(labels[0])"
      ],
      "execution_count": 12,
      "outputs": [
        {
          "output_type": "stream",
          "text": [
            "0\n"
          ],
          "name": "stdout"
        },
        {
          "output_type": "display_data",
          "data": {
            "image/png": "[encoded data removed]",
            "text/plain": [
              "<Figure size 432x288 with 1 Axes>"
            ]
          },
          "metadata": {
            "tags": [],
            "needs_background": "light"
          }
        }
      ]
    },
    {
      "cell_type": "code",
      "metadata": {
        "colab": {
          "base_uri": "https://localhost:8080/"
        },
        "id": "fBXWYEabFb1S",
        "outputId": "66877de7-cfd1-41e7-8f54-19c47d906d66"
      },
      "source": [
        "maleDgt = pd.read_csv('/content/gdrive/MyDrive/1.4.1Dataset/maleDigits.csv')\r\n",
        "maleDgt = np.array(maleDgt)\r\n",
        "maleDgt"
      ],
      "execution_count": 13,
      "outputs": [
        {
          "output_type": "execute_result",
          "data": {
            "text/plain": [
              "array([[  0,   2,   0, ...,   1,   1, 112],\n",
              "       [  0,   0,   0, ...,   0,   0, 112],\n",
              "       [  1,   0,   0, ...,   1,   2, 112],\n",
              "       ...,\n",
              "       [  0,   0,   0, ...,   1,   0, 121],\n",
              "       [  0,   1,   1, ...,   0,   0, 121],\n",
              "       [  2,   0,   1, ..., 186,  14, 121]])"
            ]
          },
          "metadata": {
            "tags": []
          },
          "execution_count": 13
        }
      ]
    },
    {
      "cell_type": "code",
      "metadata": {
        "colab": {
          "base_uri": "https://localhost:8080/"
        },
        "id": "kymjNjrHVYrR",
        "outputId": "667d743b-e2b8-485a-c690-3b1ce83e2265"
      },
      "source": [
        "femaleDgt = pd.read_csv('/content/gdrive/MyDrive/1.4.1Dataset/femaleDigits.csv')\r\n",
        "#female.head()\r\n",
        "femaleDgt = np.array(femaleDgt)\r\n",
        "femaleDgt"
      ],
      "execution_count": 14,
      "outputs": [
        {
          "output_type": "execute_result",
          "data": {
            "text/plain": [
              "array([[  0,   0,   0, ...,   3,   1, 112],\n",
              "       [  0,   0,   0, ...,   1,   1, 112],\n",
              "       [  0,   0,   1, ...,   0,   0, 112],\n",
              "       ...,\n",
              "       [  0,   0,   0, ...,   0,   0, 121],\n",
              "       [  1,   1,   1, ...,   0,   0, 121],\n",
              "       [  1,   2,   0, ...,   1,   0, 121]])"
            ]
          },
          "metadata": {
            "tags": []
          },
          "execution_count": 14
        }
      ]
    },
    {
      "cell_type": "code",
      "metadata": {
        "colab": {
          "base_uri": "https://localhost:8080/"
        },
        "id": "KvtJBpj4tI7o",
        "outputId": "7cc8b455-c01e-4a11-d52b-67c48e4261ca"
      },
      "source": [
        "### male label 0\r\n",
        "\r\n",
        "lvl = maleDgt.shape\r\n",
        "maleDgt[:,(lvl[1]-1)] = 0\r\n",
        "maleDgt"
      ],
      "execution_count": 15,
      "outputs": [
        {
          "output_type": "execute_result",
          "data": {
            "text/plain": [
              "array([[  0,   2,   0, ...,   1,   1,   0],\n",
              "       [  0,   0,   0, ...,   0,   0,   0],\n",
              "       [  1,   0,   0, ...,   1,   2,   0],\n",
              "       ...,\n",
              "       [  0,   0,   0, ...,   1,   0,   0],\n",
              "       [  0,   1,   1, ...,   0,   0,   0],\n",
              "       [  2,   0,   1, ..., 186,  14,   0]])"
            ]
          },
          "metadata": {
            "tags": []
          },
          "execution_count": 15
        }
      ]
    },
    {
      "cell_type": "code",
      "metadata": {
        "colab": {
          "base_uri": "https://localhost:8080/"
        },
        "id": "-4nN07vztocV",
        "outputId": "bdff9a81-c739-4a1e-821c-53e8259bb5c6"
      },
      "source": [
        "### female label 1\r\n",
        "\r\n",
        "lvl = femaleDgt.shape\r\n",
        "femaleDgt[:,(lvl[1]-1)] = 1\r\n",
        "femaleDgt"
      ],
      "execution_count": 16,
      "outputs": [
        {
          "output_type": "execute_result",
          "data": {
            "text/plain": [
              "array([[0, 0, 0, ..., 3, 1, 1],\n",
              "       [0, 0, 0, ..., 1, 1, 1],\n",
              "       [0, 0, 1, ..., 0, 0, 1],\n",
              "       ...,\n",
              "       [0, 0, 0, ..., 0, 0, 1],\n",
              "       [1, 1, 1, ..., 0, 0, 1],\n",
              "       [1, 2, 0, ..., 1, 0, 1]])"
            ]
          },
          "metadata": {
            "tags": []
          },
          "execution_count": 16
        }
      ]
    },
    {
      "cell_type": "code",
      "metadata": {
        "colab": {
          "base_uri": "https://localhost:8080/"
        },
        "id": "1RF_c376t3uf",
        "outputId": "f2fc7549-d558-43f3-965f-d72a686b1c5e"
      },
      "source": [
        "#concate both male and female dataset\r\n",
        "dataset = np.vstack((maleDgt, femaleDgt))\r\n",
        "dataset"
      ],
      "execution_count": 17,
      "outputs": [
        {
          "output_type": "execute_result",
          "data": {
            "text/plain": [
              "array([[0, 2, 0, ..., 1, 1, 0],\n",
              "       [0, 0, 0, ..., 0, 0, 0],\n",
              "       [1, 0, 0, ..., 1, 2, 0],\n",
              "       ...,\n",
              "       [0, 0, 0, ..., 0, 0, 1],\n",
              "       [1, 1, 1, ..., 0, 0, 1],\n",
              "       [1, 2, 0, ..., 1, 0, 1]])"
            ]
          },
          "metadata": {
            "tags": []
          },
          "execution_count": 17
        }
      ]
    },
    {
      "cell_type": "code",
      "metadata": {
        "id": "IxdqhHxht4Rn"
      },
      "source": [
        "x = dataset[:,:-1]\r\n",
        "y = dataset[:,(lvl[1]-1)]\r\n",
        "#### 28*28\r\n",
        "n_samples,n_feature = x.shape"
      ],
      "execution_count": 18,
      "outputs": []
    },
    {
      "cell_type": "code",
      "metadata": {
        "id": "OvDZ5ukit4xh"
      },
      "source": [
        "#### Using scikit-learn \r\n",
        "### train data 90%\r\n",
        "### test data 10%\r\n",
        "\r\n",
        "x_train,x_test,y_train,y_test = train_test_split(x,y,test_size = 0.1, random_state = 42)"
      ],
      "execution_count": 19,
      "outputs": []
    },
    {
      "cell_type": "code",
      "metadata": {
        "colab": {
          "base_uri": "https://localhost:8080/"
        },
        "id": "y9XrL9hqXbvb",
        "outputId": "6e403a31-9d8c-4023-849e-246a6089df32"
      },
      "source": [
        "print(len(x_train),\" \",len(x_test),\" \",len(y_train),\" \",len(y_test))"
      ],
      "execution_count": 20,
      "outputs": [
        {
          "output_type": "stream",
          "text": [
            "27747   3083   27747   3083\n"
          ],
          "name": "stdout"
        }
      ]
    },
    {
      "cell_type": "code",
      "metadata": {
        "id": "nXEAh-ewvyZM"
      },
      "source": [
        "sc = StandardScaler()\r\n",
        "x_train = sc.fit_transform(x_train)\r\n",
        "x_test = sc.transform(x_test)"
      ],
      "execution_count": 21,
      "outputs": []
    },
    {
      "cell_type": "code",
      "metadata": {
        "id": "Utu7oj4dxTu8"
      },
      "source": [
        "x_train = torch.from_numpy(x_train.astype(np.float32))\r\n",
        "x_test = torch.from_numpy(x_test.astype(np.float32))"
      ],
      "execution_count": 22,
      "outputs": []
    },
    {
      "cell_type": "code",
      "metadata": {
        "id": "Ga6sy-osxzn5"
      },
      "source": [
        "y_train = torch.from_numpy(y_train.astype(np.float32))\r\n",
        "y_test = torch.from_numpy(y_test.astype(np.float32))"
      ],
      "execution_count": 23,
      "outputs": []
    },
    {
      "cell_type": "code",
      "metadata": {
        "id": "pr8gDAx8xTrH"
      },
      "source": [
        "y_train = y_train.view(y_train.shape[0],1)\r\n",
        "y_test = y_test.view(y_test.shape[0],1)"
      ],
      "execution_count": 24,
      "outputs": []
    },
    {
      "cell_type": "markdown",
      "metadata": {
        "id": "BnENAc_MUnDk"
      },
      "source": [
        "#**Settings #1**\r\n",
        "\r\n",
        "*   **Batch Size = 100**\r\n",
        "*   **Number of iterations = 6000**\r\n",
        "*   **Learning Rate = 0.01**\r\n",
        "*   **Num of Hidden Nodes = 100**\r\n",
        "\r\n"
      ]
    },
    {
      "cell_type": "code",
      "metadata": {
        "id": "4IZT65RyxTlF"
      },
      "source": [
        "# Hyperparameters\r\n",
        "\r\n",
        "batch_size = 100\r\n",
        "num_iters = 6000\r\n",
        "input_dim = 28*28 # num_features = 784\r\n",
        "num_hidden = 100 # num of hidden nodes\r\n",
        "output_dim = 1\r\n",
        "learning_rate = 0.01  # More power so we can learn faster! previously it was 0.001\r\n",
        "\r\n",
        "# Device\r\n",
        "device = torch.device(\"cuda:0\" if torch.cuda.is_available() else \"cpu\")"
      ],
      "execution_count": 67,
      "outputs": []
    },
    {
      "cell_type": "code",
      "metadata": {
        "colab": {
          "base_uri": "https://localhost:8080/"
        },
        "id": "rRmFDwMjDDVp",
        "outputId": "de1c9786-4408-4f1d-b77a-ebea819cb8d5"
      },
      "source": [
        "num_epochs = num_iters / (n_samples / batch_size)\r\n",
        "num_epochs = int(num_epochs)\r\n",
        "num_epochs"
      ],
      "execution_count": 68,
      "outputs": [
        {
          "output_type": "execute_result",
          "data": {
            "text/plain": [
              "19"
            ]
          },
          "metadata": {
            "tags": []
          },
          "execution_count": 68
        }
      ]
    },
    {
      "cell_type": "markdown",
      "metadata": {
        "id": "rkAm1OAqeIZ7"
      },
      "source": [
        "### Step #1 : Design  model using class"
      ]
    },
    {
      "cell_type": "code",
      "metadata": {
        "id": "KWqfg5km2lHT"
      },
      "source": [
        "class NeuralNetworkModel(nn.Module):\r\n",
        "    def __init__(self, input_size, num_classes, num_hidden):\r\n",
        "        super().__init__()\r\n",
        "        ### 1st hidden layer\r\n",
        "        self.linear_1 = nn.Linear(input_size, num_hidden)\r\n",
        "\r\n",
        "        ### Non-linearity\r\n",
        "        self.sigmoid = nn.Sigmoid()\r\n",
        "\r\n",
        "        ### Output layer\r\n",
        "        self.linear_out = nn.Linear(num_hidden, num_classes)\r\n",
        "\r\n",
        "    def forward(self, x):\r\n",
        "        # Linear layer\r\n",
        "        out  = self.linear_1(x)\r\n",
        "        # Non-linearity\r\n",
        "        out = self.sigmoid(out)\r\n",
        "        # Linear layer (output)\r\n",
        "        probas  =torch.sigmoid(self.linear_out(out))\r\n",
        "        return probas"
      ],
      "execution_count": 69,
      "outputs": []
    },
    {
      "cell_type": "code",
      "metadata": {
        "id": "gvFzE-Nu2Wyc"
      },
      "source": [
        "'''\r\n",
        "INSTANTIATE MODEL CLASS\r\n",
        "'''\r\n",
        "model = NeuralNetworkModel(input_size = input_dim,\r\n",
        "                           num_classes = output_dim,\r\n",
        "                           num_hidden = num_hidden)"
      ],
      "execution_count": 70,
      "outputs": []
    },
    {
      "cell_type": "markdown",
      "metadata": {
        "id": "cKy5zzuKepJy"
      },
      "source": [
        "###Step #2 : Construct loss and optimizer"
      ]
    },
    {
      "cell_type": "code",
      "metadata": {
        "id": "W9zhl_L12WrK"
      },
      "source": [
        "criterion = nn.BCELoss()\r\n",
        "optimizer = torch.optim.SGD(model.parameters(), lr=learning_rate)"
      ],
      "execution_count": 71,
      "outputs": []
    },
    {
      "cell_type": "markdown",
      "metadata": {
        "id": "c_PcPI-ReaRq"
      },
      "source": [
        "###Step #3 : Training"
      ]
    },
    {
      "cell_type": "code",
      "metadata": {
        "colab": {
          "base_uri": "https://localhost:8080/"
        },
        "id": "PFx0YLhW2rfI",
        "outputId": "d51b0845-b31e-4b3f-de3f-0c8ed58819d9"
      },
      "source": [
        "iteration_loss = []\r\n",
        "for epoch in range(num_epochs):\r\n",
        "  \r\n",
        "  y_predicted=model(x_train)\r\n",
        "  loss=criterion(y_predicted,y_train)\r\n",
        "  loss.backward()\r\n",
        "\r\n",
        "  optimizer.step()\r\n",
        "\r\n",
        "  optimizer.zero_grad()\r\n",
        "\r\n",
        "  if (epoch+1)%2 == 0:\r\n",
        "    correct=0\r\n",
        "    total=0\r\n",
        "    \r\n",
        "    y_predicted=model(x_test)\r\n",
        "    y_predicted_cls=y_predicted.round()\r\n",
        "    total+=y_test.size(0)\r\n",
        "    correct += (y_predicted_cls == y_test).sum()\r\n",
        "    accuracy = 100 * correct.item() / total\r\n",
        "\r\n",
        "    print('Epoch: {}. Loss: {}. Accuracy: {}'.format(epoch+1, loss.item(), accuracy))\r\n",
        "    iteration_loss.append(loss.item())"
      ],
      "execution_count": 72,
      "outputs": [
        {
          "output_type": "stream",
          "text": [
            "Epoch: 2. Loss: 0.695216715335846. Accuracy: 50.4703211157963\n",
            "Epoch: 4. Loss: 0.6948570609092712. Accuracy: 50.53519299383717\n",
            "Epoch: 6. Loss: 0.6945460438728333. Accuracy: 51.05416801816413\n",
            "Epoch: 8. Loss: 0.6942723393440247. Accuracy: 51.508271164450214\n",
            "Epoch: 10. Loss: 0.6940276622772217. Accuracy: 51.475835225429776\n",
            "Epoch: 12. Loss: 0.693805456161499. Accuracy: 51.73532273759325\n",
            "Epoch: 14. Loss: 0.693600594997406. Accuracy: 51.57314304249108\n",
            "Epoch: 16. Loss: 0.6934094429016113. Accuracy: 51.865066493674995\n",
            "Epoch: 18. Loss: 0.693229079246521. Accuracy: 51.897502432695426\n"
          ],
          "name": "stdout"
        }
      ]
    },
    {
      "cell_type": "code",
      "metadata": {
        "id": "rV5J5F5o2Wjj"
      },
      "source": [
        ""
      ],
      "execution_count": null,
      "outputs": []
    },
    {
      "cell_type": "markdown",
      "metadata": {
        "id": "82CfrpE_UuOe"
      },
      "source": [
        "#**Settings #2**\r\n",
        "\r\n",
        "## One Layer Neural Network with Tanh Activation\r\n",
        "*   **Batch Size = 100**\r\n",
        "*   **Number of iterations = 6000**\r\n",
        "*   **Learning Rate = 0.01**\r\n",
        "*   **Num of Hidden Nodes = 100**"
      ]
    },
    {
      "cell_type": "code",
      "metadata": {
        "id": "s2IVS0Dc9KU4"
      },
      "source": [
        "# Hyperparameters\r\n",
        "\r\n",
        "batch_size = 100\r\n",
        "num_iters = 6000\r\n",
        "input_dim = 28*28 # num_features = 784\r\n",
        "num_hidden = 100 # num of hidden nodes\r\n",
        "output_dim = 1\r\n",
        "learning_rate = 0.01  # More power so we can learn faster! previously it was 0.001\r\n",
        "\r\n",
        "# Device\r\n",
        "device = torch.device(\"cuda:0\" if torch.cuda.is_available() else \"cpu\")"
      ],
      "execution_count": 77,
      "outputs": []
    },
    {
      "cell_type": "code",
      "metadata": {
        "colab": {
          "base_uri": "https://localhost:8080/"
        },
        "id": "ha4qMtHNlmC5",
        "outputId": "abab7eda-eb89-4972-dba0-d640fe6ea758"
      },
      "source": [
        "num_epochs = num_iters / (n_samples / batch_size)\r\n",
        "num_epochs = int(num_epochs)\r\n",
        "num_epochs"
      ],
      "execution_count": 78,
      "outputs": [
        {
          "output_type": "execute_result",
          "data": {
            "text/plain": [
              "19"
            ]
          },
          "metadata": {
            "tags": []
          },
          "execution_count": 78
        }
      ]
    },
    {
      "cell_type": "code",
      "metadata": {
        "id": "pQY1bfl2lpeE"
      },
      "source": [
        "class NeuralNetworkModel(nn.Module):\r\n",
        "    def __init__(self, input_size, num_classes, num_hidden):\r\n",
        "        super().__init__()\r\n",
        "        ### 1st hidden layer\r\n",
        "        self.linear_1 = nn.Linear(input_size, num_hidden)\r\n",
        "\r\n",
        "        ### Non-linearity\r\n",
        "        self.tanh = nn.Tanh()\r\n",
        "\r\n",
        "        ### Output layer\r\n",
        "        self.linear_out = nn.Linear(num_hidden, num_classes)\r\n",
        "\r\n",
        "    def forward(self, x):\r\n",
        "        # Linear layer\r\n",
        "        out  = self.linear_1(x)\r\n",
        "        # Non-linearity\r\n",
        "        out = self.tanh(out)\r\n",
        "        # Linear layer (output)\r\n",
        "        probas  = torch.sigmoid(self.linear_out(out))\r\n",
        "        return probas"
      ],
      "execution_count": 26,
      "outputs": []
    },
    {
      "cell_type": "code",
      "metadata": {
        "id": "IlPP3I-wlsbY"
      },
      "source": [
        "'''\r\n",
        "INSTANTIATE MODEL CLASS\r\n",
        "'''\r\n",
        "model = NeuralNetworkModel(input_size = input_dim,\r\n",
        "                           num_classes = output_dim,\r\n",
        "                           num_hidden = num_hidden)"
      ],
      "execution_count": 93,
      "outputs": []
    },
    {
      "cell_type": "code",
      "metadata": {
        "id": "NO7MEagqlxfu"
      },
      "source": [
        "criterion = nn.BCELoss()\r\n",
        "optimizer = torch.optim.SGD(model.parameters(), lr=learning_rate)"
      ],
      "execution_count": 94,
      "outputs": []
    },
    {
      "cell_type": "code",
      "metadata": {
        "colab": {
          "base_uri": "https://localhost:8080/"
        },
        "id": "uOtsD2CQ9KLu",
        "outputId": "8257e26e-dddf-4ae9-d4c3-047b4c9edc90"
      },
      "source": [
        " iteration_loss = []\r\n",
        "for epoch in range(num_epochs):\r\n",
        "  \r\n",
        "  y_predicted = model(x_train)\r\n",
        "  loss = criterion(y_predicted,y_train)\r\n",
        "  loss.backward()\r\n",
        "\r\n",
        "  optimizer.step()\r\n",
        "\r\n",
        "  optimizer.zero_grad()\r\n",
        "\r\n",
        "  if (epoch+1)%2 == 0:\r\n",
        "    correct=0\r\n",
        "    total=0\r\n",
        "    \r\n",
        "    y_predicted=model(x_test)\r\n",
        "    y_predicted_cls=y_predicted.round()\r\n",
        "    total+=y_test.size(0)\r\n",
        "    correct += (y_predicted_cls == y_test).sum()\r\n",
        "    accuracy = 100 * correct.item() / total\r\n",
        "\r\n",
        "    print('Epoch: {}. Loss: {}. Accuracy: {}'.format(epoch+1, loss.item(), accuracy))\r\n",
        "    iteration_loss.append(loss.item())"
      ],
      "execution_count": 95,
      "outputs": [
        {
          "output_type": "stream",
          "text": [
            "Epoch: 2. Loss: 0.6918151378631592. Accuracy: 53.25981187155368\n",
            "Epoch: 4. Loss: 0.6910211443901062. Accuracy: 53.778786895880636\n",
            "Epoch: 6. Loss: 0.6902663707733154. Accuracy: 54.135582225105416\n",
            "Epoch: 8. Loss: 0.6895477771759033. Accuracy: 54.29776192020759\n",
            "Epoch: 10. Loss: 0.6888629794120789. Accuracy: 54.200454103146285\n",
            "Epoch: 12. Loss: 0.6882092952728271. Accuracy: 54.23289004216672\n",
            "Epoch: 14. Loss: 0.6875849366188049. Accuracy: 54.4923775543302\n",
            "Epoch: 16. Loss: 0.6869878172874451. Accuracy: 54.881608822575416\n",
            "Epoch: 18. Loss: 0.6864161491394043. Accuracy: 55.17353227375933\n"
          ],
          "name": "stdout"
        }
      ]
    },
    {
      "cell_type": "markdown",
      "metadata": {
        "id": "7_4lREzkjjGO"
      },
      "source": [
        "#**Settings #3**\r\n",
        "## Two Layer Neural Network (Deep) with ReLU Activation\r\n",
        "*   **Batch Size = 100**\r\n",
        "*   **Number of iterations = 10000**\r\n",
        "*   **Learning Rate = 0.01**\r\n",
        "*   **Num of Hidden Nodes = 100**\r\n"
      ]
    },
    {
      "cell_type": "code",
      "metadata": {
        "colab": {
          "base_uri": "https://localhost:8080/"
        },
        "id": "zArcNf7NjV-W",
        "outputId": "3e623416-2d24-4303-c7cd-14f1336ff11a"
      },
      "source": [
        "# Hyperparameters\r\n",
        "\r\n",
        "batch_size = 100\r\n",
        "num_iters = 10000\r\n",
        "input_dim = 28*28 # num_features = 784\r\n",
        "num_hidden = 100 # num of hidden nodes\r\n",
        "output_dim = 1\r\n",
        "learning_rate = 0.01  # More power so we can learn faster! previously it was 0.001\r\n",
        "\r\n",
        "# Device\r\n",
        "device = torch.device(\"cuda:0\" if torch.cuda.is_available() else \"cpu\")\r\n",
        "\r\n",
        "num_epochs = num_iters / (n_samples / batch_size)\r\n",
        "num_epochs = int(num_epochs)\r\n",
        "\r\n",
        "\r\n",
        "class DeepNeuralNetworkModel(nn.Module):\r\n",
        "    def __init__(self, input_size, num_classes, num_hidden):\r\n",
        "        super().__init__()\r\n",
        "        ### 1st hidden layer: 784 --> 100\r\n",
        "        self.linear_1 = nn.Linear(input_size, num_hidden)\r\n",
        "        ### Non-linearity in 1st hidden layer\r\n",
        "        self.relu_1 = nn.ReLU()\r\n",
        "\r\n",
        "        ### 2nd hidden layer: 100 --> 100\r\n",
        "        self.linear_2 = nn.Linear(num_hidden, num_hidden)\r\n",
        "        ### Non-linearity in 2nd hidden layer\r\n",
        "        self.relu_2 = nn.ReLU()\r\n",
        "\r\n",
        "        ### Output layer: 100 --> 10\r\n",
        "        self.linear_out = nn.Linear(num_hidden, num_classes)\r\n",
        "\r\n",
        "    def forward(self, x):\r\n",
        "        ### 1st hidden layer\r\n",
        "        out  = self.linear_1(x)\r\n",
        "        ### Non-linearity in 1st hidden layer\r\n",
        "        out = self.relu_1(out)\r\n",
        "        \r\n",
        "        ### 2nd hidden layer\r\n",
        "        out  = self.linear_2(out)\r\n",
        "        ### Non-linearity in 2nd hidden layer\r\n",
        "        out = self.relu_2(out)\r\n",
        "\r\n",
        "        # Linear layer (output)\r\n",
        "        probas  = torch.sigmoid(self.linear_out(out))\r\n",
        "        return probas\r\n",
        "\r\n",
        "'''\r\n",
        "INSTANTIATE MODEL CLASS\r\n",
        "'''\r\n",
        "model = NeuralNetworkModel(input_size = input_dim,\r\n",
        "                           num_classes = output_dim,\r\n",
        "                           num_hidden = num_hidden)\r\n",
        "# To enable GPU\r\n",
        "model.to(device)\r\n",
        "\r\n",
        "\r\n",
        "criterion = nn.BCELoss()\r\n",
        "optimizer = torch.optim.SGD(model.parameters(), lr=learning_rate)\r\n",
        "\r\n",
        "iteration_loss = []\r\n",
        "for epoch in range(num_epochs):\r\n",
        "  \r\n",
        "  y_predicted = model(x_train)\r\n",
        "  loss = criterion(y_predicted,y_train)\r\n",
        "  loss.backward()\r\n",
        "\r\n",
        "  optimizer.step()\r\n",
        "\r\n",
        "  optimizer.zero_grad()\r\n",
        "\r\n",
        "  if (epoch+1)%2 == 0:\r\n",
        "    correct=0\r\n",
        "    total=0\r\n",
        "    \r\n",
        "    y_predicted=model(x_test)\r\n",
        "    y_predicted_cls=y_predicted.round()\r\n",
        "    total+=y_test.size(0)\r\n",
        "    correct += (y_predicted_cls == y_test).sum()\r\n",
        "    accuracy = 100 * correct.item() / total\r\n",
        "\r\n",
        "    print('Epoch: {}. Loss: {}. Accuracy: {}'.format(epoch+1, loss.item(), accuracy))\r\n",
        "    iteration_loss.append(loss.item())\r\n"
      ],
      "execution_count": 34,
      "outputs": [
        {
          "output_type": "stream",
          "text": [
            "Epoch: 2. Loss: 0.6981658339500427. Accuracy: 51.475835225429776\n",
            "Epoch: 4. Loss: 0.6968957185745239. Accuracy: 51.80019461563412\n",
            "Epoch: 6. Loss: 0.6957031488418579. Accuracy: 52.0596821277976\n",
            "Epoch: 8. Loss: 0.694581925868988. Accuracy: 52.221861822899776\n",
            "Epoch: 10. Loss: 0.6935266852378845. Accuracy: 52.35160557898151\n",
            "Epoch: 12. Loss: 0.6925323009490967. Accuracy: 52.48134933506325\n",
            "Epoch: 14. Loss: 0.691594123840332. Accuracy: 52.9030165423289\n",
            "Epoch: 16. Loss: 0.6907081604003906. Accuracy: 53.097632176451505\n",
            "Epoch: 18. Loss: 0.6898704767227173. Accuracy: 53.097632176451505\n",
            "Epoch: 20. Loss: 0.6890777349472046. Accuracy: 53.065196237431074\n",
            "Epoch: 22. Loss: 0.6883265376091003. Accuracy: 53.45442750567629\n",
            "Epoch: 24. Loss: 0.6876142621040344. Accuracy: 53.778786895880636\n",
            "Epoch: 26. Loss: 0.6869379878044128. Accuracy: 54.200454103146285\n",
            "Epoch: 28. Loss: 0.6862953305244446. Accuracy: 54.265325981187154\n",
            "Epoch: 30. Loss: 0.6856841444969177. Accuracy: 54.36263379824846\n",
            "Epoch: 32. Loss: 0.6851022839546204. Accuracy: 54.71942912747324\n"
          ],
          "name": "stdout"
        }
      ]
    },
    {
      "cell_type": "markdown",
      "metadata": {
        "id": "PN6jsXmR08s2"
      },
      "source": [
        "#**Settings #4**\r\n",
        "## Four Layer Neural Network (Deep) with ReLU Activation\r\n",
        "*   **Batch Size = 100**\r\n",
        "*   **Number of iterations = 10000**\r\n",
        "*   **Learning Rate = 0.01**\r\n",
        "*   **Num of Hidden Nodes = 100**\r\n"
      ]
    },
    {
      "cell_type": "code",
      "metadata": {
        "colab": {
          "base_uri": "https://localhost:8080/"
        },
        "id": "B5gwXdlgt_34",
        "outputId": "9c6080a8-0bd4-43cc-f956-44bd8a087d4d"
      },
      "source": [
        "# Hyperparameters\r\n",
        "\r\n",
        "batch_size = 100\r\n",
        "num_iters = 10000\r\n",
        "input_dim = 28*28 # num_features = 784\r\n",
        "num_hidden = 100 # num of hidden nodes\r\n",
        "output_dim = 1\r\n",
        "learning_rate = 0.01  # More power so we can learn faster! previously it was 0.001\r\n",
        "\r\n",
        "# Device\r\n",
        "device = torch.device(\"cuda:0\" if torch.cuda.is_available() else \"cpu\")\r\n",
        "\r\n",
        "num_epochs = num_iters / (n_samples / batch_size)\r\n",
        "num_epochs = int(num_epochs)\r\n",
        "\r\n",
        "\r\n",
        "class DeepNeuralNetworkModel(nn.Module):\r\n",
        "    def __init__(self, input_size, num_classes, num_hidden):\r\n",
        "        super().__init__()\r\n",
        "        ### 1st hidden layer: 784 --> 100\r\n",
        "        self.linear_1 = nn.Linear(input_size, num_hidden)\r\n",
        "        ### Non-linearity in 1st hidden layer\r\n",
        "        self.relu_1 = nn.ReLU()\r\n",
        "\r\n",
        "        ### 2nd hidden layer: 100 --> 100\r\n",
        "        self.linear_2 = nn.Linear(num_hidden, num_hidden)\r\n",
        "        ### Non-linearity in 2nd hidden layer\r\n",
        "        self.relu_2 = nn.ReLU()\r\n",
        "\r\n",
        "        ### 3rd hidden layer: 100 --> 100\r\n",
        "        self.linear_3 = nn.Linear(num_hidden, num_hidden)\r\n",
        "        ### Non-linearity in 3rd hidden layer\r\n",
        "        self.relu_3 = nn.ReLU()\r\n",
        "\r\n",
        "        ### 4th hidden layer: 100 --> 100\r\n",
        "        self.linear_4 = nn.Linear(num_hidden, num_hidden)\r\n",
        "        ### Non-linearity in 4th hidden layer\r\n",
        "        self.relu_4 = nn.ReLU()\r\n",
        "\r\n",
        "        ### Output layer: 100 --> 10\r\n",
        "        self.linear_out = nn.Linear(num_hidden, num_classes)\r\n",
        "\r\n",
        "    def forward(self, x):\r\n",
        "        ### 1st hidden layer\r\n",
        "        out  = self.linear_1(x)\r\n",
        "        ### Non-linearity in 1st hidden layer\r\n",
        "        out = self.relu_1(out)\r\n",
        "        \r\n",
        "        ### 2nd hidden layer\r\n",
        "        out  = self.linear_2(out)\r\n",
        "        ### Non-linearity in 2nd hidden layer\r\n",
        "        out = self.relu_2(out)\r\n",
        "\r\n",
        "        ### 3rd hidden layer\r\n",
        "        out  = self.linear_3(out)\r\n",
        "        ### Non-linearity in 3rd hidden layer\r\n",
        "        out = self.relu_3(out)\r\n",
        "\r\n",
        "        ### 4rd hidden layer\r\n",
        "        out  = self.linear_4(out)\r\n",
        "        ### Non-linearity in 4th hidden layer\r\n",
        "        out = self.relu_4(out)\r\n",
        "        \r\n",
        "\r\n",
        "        # Linear layer (output)\r\n",
        "        probas  = torch.sigmoid(self.linear_out(out))\r\n",
        "        return probas\r\n",
        "\r\n",
        "'''\r\n",
        "INSTANTIATE MODEL CLASS\r\n",
        "'''\r\n",
        "model = NeuralNetworkModel(input_size = input_dim,\r\n",
        "                           num_classes = output_dim,\r\n",
        "                           num_hidden = num_hidden)\r\n",
        "# To enable GPU\r\n",
        "model.to(device)\r\n",
        "\r\n",
        "\r\n",
        "criterion = nn.BCELoss()\r\n",
        "optimizer = torch.optim.SGD(model.parameters(), lr=learning_rate)\r\n",
        "\r\n",
        "iteration_loss = []\r\n",
        "for epoch in range(num_epochs):\r\n",
        "  \r\n",
        "  y_predicted = model(x_train)\r\n",
        "  loss = criterion(y_predicted,y_train)\r\n",
        "  loss.backward()\r\n",
        "\r\n",
        "  optimizer.step()\r\n",
        "\r\n",
        "  optimizer.zero_grad()\r\n",
        "\r\n",
        "  if (epoch+1)%2 == 0:\r\n",
        "    correct=0\r\n",
        "    total=0\r\n",
        "    \r\n",
        "    y_predicted=model(x_test)\r\n",
        "    y_predicted_cls=y_predicted.round()\r\n",
        "    total+=y_test.size(0)\r\n",
        "    correct += (y_predicted_cls == y_test).sum()\r\n",
        "    accuracy = 100 * correct.item() / total\r\n",
        "\r\n",
        "    print('Epoch: {}. Loss: {}. Accuracy: {}'.format(epoch+1, loss.item(), accuracy))\r\n",
        "    iteration_loss.append(loss.item())\r\n"
      ],
      "execution_count": 33,
      "outputs": [
        {
          "output_type": "stream",
          "text": [
            "Epoch: 2. Loss: 0.6976717114448547. Accuracy: 51.475835225429776\n",
            "Epoch: 4. Loss: 0.6962637305259705. Accuracy: 52.286733700940644\n",
            "Epoch: 6. Loss: 0.6949678063392639. Accuracy: 52.61109309114499\n",
            "Epoch: 8. Loss: 0.6937716603279114. Accuracy: 52.8057087252676\n",
            "Epoch: 10. Loss: 0.692664623260498. Accuracy: 53.29224781057412\n",
            "Epoch: 12. Loss: 0.6916372776031494. Accuracy: 53.71391501783977\n",
            "Epoch: 14. Loss: 0.690681517124176. Accuracy: 54.00583846902368\n",
            "Epoch: 16. Loss: 0.6897899508476257. Accuracy: 54.459941615309766\n",
            "Epoch: 18. Loss: 0.6889563202857971. Accuracy: 55.07622445669802\n",
            "Epoch: 20. Loss: 0.6881751418113708. Accuracy: 54.978916639636715\n",
            "Epoch: 22. Loss: 0.6874412894248962. Accuracy: 55.07622445669802\n",
            "Epoch: 24. Loss: 0.6867504715919495. Accuracy: 55.2384041518002\n",
            "Epoch: 26. Loss: 0.6860988140106201. Accuracy: 55.53032760298411\n",
            "Epoch: 28. Loss: 0.685482919216156. Accuracy: 55.85468699318845\n",
            "Epoch: 30. Loss: 0.6848997473716736. Accuracy: 55.82225105416802\n",
            "Epoch: 32. Loss: 0.6843464970588684. Accuracy: 55.95199481024976\n"
          ],
          "name": "stdout"
        }
      ]
    },
    {
      "cell_type": "markdown",
      "metadata": {
        "id": "dEARiQ3aVCZu"
      },
      "source": [
        "**Result Table:-**\r\n",
        "\r\n",
        "| Settings #1      | Settings #2     | Settings #3     | Settings #4     |\r\n",
        "| :------------- | :----------: | -----------: | -----------: |\r\n",
        "|  Batch Size = 100 | Batch Size = 100  | Batch Size = 100    |Batch Size = 100    |\r\n",
        "|  Number of iterations = 6000 | Number of iterations = 6000   | Number of iterations = 10000    | Number of iterations = 10000    |\r\n",
        "|  Learning Rate = 0.01 | Learning Rate = 0.01   | Learning Rate = 0.01 |Learning Rate = 0.01 |\r\n",
        "|Num of Hidden Nodes = 100|Num of Hidden Nodes = 100|Num of Hidden Nodes = 100|Num of Hidden Nodes = 100|\r\n",
        "| Accuracy : 51.89  | Accuracy : 55.17 | Accuracy : 54.71 |Accuracy : 55.95 | |\r\n"
      ]
    },
    {
      "cell_type": "code",
      "metadata": {
        "id": "DfAX0u149AQD"
      },
      "source": [
        ""
      ],
      "execution_count": null,
      "outputs": []
    }
  ]
}