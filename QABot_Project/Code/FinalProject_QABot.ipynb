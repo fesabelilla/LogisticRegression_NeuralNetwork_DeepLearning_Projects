{
  "nbformat": 4,
  "nbformat_minor": 0,
  "metadata": {
    "accelerator": "GPU",
    "colab": {
      "name": "LabProject.ipynb",
      "provenance": [],
      "collapsed_sections": []
    },
    "kernelspec": {
      "display_name": "Python 3",
      "name": "python3"
    }
  },
  "cells": [
    {
      "cell_type": "markdown",
      "metadata": {
        "id": "SsWAkMaTsZGD"
      },
      "source": [
        "# **Question and Answer Chat Bots**"
      ]
    },
    {
      "cell_type": "markdown",
      "metadata": {
        "id": "_uFDFXVhsrhF"
      },
      "source": [
        "## Loading the Data\n",
        "\n",
        "We will be working with the Babi Data Set from Facebook Research.\n",
        "\n",
        "Full Details: https://research.fb.com/downloads/babi/\n",
        "\n",
        "- Jason Weston, Antoine Bordes, Sumit Chopra, Tomas Mikolov, Alexander M. Rush,\n",
        "  \"Towards AI-Complete Question Answering: A Set of Prerequisite Toy Tasks\",\n",
        "  http://arxiv.org/abs/1502.05698"
      ]
    },
    {
      "cell_type": "code",
      "metadata": {
        "colab": {
          "base_uri": "https://localhost:8080/"
        },
        "id": "_hpsyJlkuw6r",
        "outputId": "4a049476-0d9b-41aa-e384-c0cec26f1221"
      },
      "source": [
        "from google.colab import drive\n",
        "\n",
        "drive.mount('/content/gdrive')\n",
        "\n",
        "root_path = '/content/gdrive/My Drive/SoftComProject/'\n"
      ],
      "execution_count": 90,
      "outputs": [
        {
          "output_type": "stream",
          "text": [
            "Drive already mounted at /content/gdrive; to attempt to forcibly remount, call drive.mount(\"/content/gdrive\", force_remount=True).\n"
          ],
          "name": "stdout"
        }
      ]
    },
    {
      "cell_type": "code",
      "metadata": {
        "colab": {
          "base_uri": "https://localhost:8080/",
          "height": 35
        },
        "id": "BM4icrs2uyW1",
        "outputId": "03ac1e43-41ee-4d1c-a0b7-63d7c602b53c"
      },
      "source": [
        "import keras\n",
        "keras.__version__"
      ],
      "execution_count": 91,
      "outputs": [
        {
          "output_type": "execute_result",
          "data": {
            "application/vnd.google.colaboratory.intrinsic+json": {
              "type": "string"
            },
            "text/plain": [
              "'2.4.3'"
            ]
          },
          "metadata": {
            "tags": []
          },
          "execution_count": 91
        }
      ]
    },
    {
      "cell_type": "markdown",
      "metadata": {
        "id": "APL7FQhx4qT6"
      },
      "source": [
        "#Load Data"
      ]
    },
    {
      "cell_type": "code",
      "metadata": {
        "id": "sDUgnS4X4SKH"
      },
      "source": [
        "import pickle\n",
        "import numpy as np"
      ],
      "execution_count": 92,
      "outputs": []
    },
    {
      "cell_type": "code",
      "metadata": {
        "id": "mO4YRSPe5CJU"
      },
      "source": [
        "with open('/content/gdrive/MyDrive/SoftComProject/train_qa.txt','rb') as f:\n",
        "  train_data = pickle.load(f)"
      ],
      "execution_count": 93,
      "outputs": []
    },
    {
      "cell_type": "code",
      "metadata": {
        "id": "lilfTvp-5wMw"
      },
      "source": [
        "with open('/content/gdrive/MyDrive/SoftComProject/test_qa.txt','rb') as f:\n",
        "  test_data = pickle.load(f)"
      ],
      "execution_count": 94,
      "outputs": []
    },
    {
      "cell_type": "markdown",
      "metadata": {
        "id": "k-GyJOZws9Bq"
      },
      "source": [
        "## Exploring the Format of the Data"
      ]
    },
    {
      "cell_type": "code",
      "metadata": {
        "colab": {
          "base_uri": "https://localhost:8080/"
        },
        "id": "ipRigB8f6LmO",
        "outputId": "08d09056-80cf-4599-e8bc-10c8a9bc484f"
      },
      "source": [
        "type(train_data)"
      ],
      "execution_count": 95,
      "outputs": [
        {
          "output_type": "execute_result",
          "data": {
            "text/plain": [
              "list"
            ]
          },
          "metadata": {
            "tags": []
          },
          "execution_count": 95
        }
      ]
    },
    {
      "cell_type": "code",
      "metadata": {
        "colab": {
          "base_uri": "https://localhost:8080/"
        },
        "id": "5JNYqd5N6cE1",
        "outputId": "28580da9-5c9d-4496-b920-100c35b42e77"
      },
      "source": [
        "type(test_data)"
      ],
      "execution_count": 96,
      "outputs": [
        {
          "output_type": "execute_result",
          "data": {
            "text/plain": [
              "list"
            ]
          },
          "metadata": {
            "tags": []
          },
          "execution_count": 96
        }
      ]
    },
    {
      "cell_type": "code",
      "metadata": {
        "colab": {
          "base_uri": "https://localhost:8080/"
        },
        "id": "3h7GBWLk6ge4",
        "outputId": "67d457e5-1942-4a9c-dafb-22b5d1be0fae"
      },
      "source": [
        "### ration 10 : 1\n",
        "print(\"Train data : \",len(train_data))\n",
        "print(\"Train data : \",len(test_data))"
      ],
      "execution_count": 97,
      "outputs": [
        {
          "output_type": "stream",
          "text": [
            "Train data :  10000\n",
            "Train data :  1000\n"
          ],
          "name": "stdout"
        }
      ]
    },
    {
      "cell_type": "code",
      "metadata": {
        "colab": {
          "base_uri": "https://localhost:8080/"
        },
        "id": "OvT0ttR86y1t",
        "outputId": "3dfdfc3c-c724-48b7-fb15-53b13e215d92"
      },
      "source": [
        "train_data[0]"
      ],
      "execution_count": 98,
      "outputs": [
        {
          "output_type": "execute_result",
          "data": {
            "text/plain": [
              "(['Mary',\n",
              "  'moved',\n",
              "  'to',\n",
              "  'the',\n",
              "  'bathroom',\n",
              "  '.',\n",
              "  'Sandra',\n",
              "  'journeyed',\n",
              "  'to',\n",
              "  'the',\n",
              "  'bedroom',\n",
              "  '.'],\n",
              " ['Is', 'Sandra', 'in', 'the', 'hallway', '?'],\n",
              " 'no')"
            ]
          },
          "metadata": {
            "tags": []
          },
          "execution_count": 98
        }
      ]
    },
    {
      "cell_type": "code",
      "metadata": {
        "colab": {
          "base_uri": "https://localhost:8080/",
          "height": 35
        },
        "id": "UV09mRR-CqGH",
        "outputId": "34853c2a-4c35-453d-b316-b779942642ae"
      },
      "source": [
        "### For story\n",
        "' '.join(train_data[0][0])"
      ],
      "execution_count": 99,
      "outputs": [
        {
          "output_type": "execute_result",
          "data": {
            "application/vnd.google.colaboratory.intrinsic+json": {
              "type": "string"
            },
            "text/plain": [
              "'Mary moved to the bathroom . Sandra journeyed to the bedroom .'"
            ]
          },
          "metadata": {
            "tags": []
          },
          "execution_count": 99
        }
      ]
    },
    {
      "cell_type": "code",
      "metadata": {
        "colab": {
          "base_uri": "https://localhost:8080/",
          "height": 35
        },
        "id": "6wClQmhiDB6I",
        "outputId": "1447c672-b3e5-4600-fdad-8b719c3209a7"
      },
      "source": [
        "### for Q\n",
        "' '.join(train_data[0][1])"
      ],
      "execution_count": 100,
      "outputs": [
        {
          "output_type": "execute_result",
          "data": {
            "application/vnd.google.colaboratory.intrinsic+json": {
              "type": "string"
            },
            "text/plain": [
              "'Is Sandra in the hallway ?'"
            ]
          },
          "metadata": {
            "tags": []
          },
          "execution_count": 100
        }
      ]
    },
    {
      "cell_type": "code",
      "metadata": {
        "colab": {
          "base_uri": "https://localhost:8080/",
          "height": 35
        },
        "id": "HO8iNAuEDLDA",
        "outputId": "b2ead49a-e529-4e6a-b0c0-393af010a029"
      },
      "source": [
        "### for ans\n",
        "train_data[0][2]"
      ],
      "execution_count": 101,
      "outputs": [
        {
          "output_type": "execute_result",
          "data": {
            "application/vnd.google.colaboratory.intrinsic+json": {
              "type": "string"
            },
            "text/plain": [
              "'no'"
            ]
          },
          "metadata": {
            "tags": []
          },
          "execution_count": 101
        }
      ]
    },
    {
      "cell_type": "code",
      "metadata": {
        "colab": {
          "base_uri": "https://localhost:8080/"
        },
        "id": "UEosAixW_WNk",
        "outputId": "7ddd2d2b-560d-42c1-e283-821c96c09273"
      },
      "source": [
        "cnt1 = 0\n",
        "cnt2 = 0\n",
        "\n",
        "for i in range(int(len(train_data))):\n",
        "  #print()\n",
        "    if (train_data[i][2] == \"no\"):\n",
        "      cnt1 = cnt1 + 1\n",
        "    elif (train_data[i][2] == \"yes\"):\n",
        "      cnt2 = cnt2 + 1\n",
        "\n",
        "print(cnt1,\" \",cnt2)"
      ],
      "execution_count": 102,
      "outputs": [
        {
          "output_type": "stream",
          "text": [
            "4988   5012\n"
          ],
          "name": "stdout"
        }
      ]
    },
    {
      "cell_type": "markdown",
      "metadata": {
        "id": "leAUPTGVjKXi"
      },
      "source": [
        "-----\n",
        "\n",
        "## Setting up Vocabulary of All Words"
      ]
    },
    {
      "cell_type": "code",
      "metadata": {
        "colab": {
          "base_uri": "https://localhost:8080/"
        },
        "id": "q-dISH4xfMef",
        "outputId": "83f251a0-10ff-4100-ef27-6b2111dad209"
      },
      "source": [
        "set(train_data[0][0])"
      ],
      "execution_count": 103,
      "outputs": [
        {
          "output_type": "execute_result",
          "data": {
            "text/plain": [
              "{'.',\n",
              " 'Mary',\n",
              " 'Sandra',\n",
              " 'bathroom',\n",
              " 'bedroom',\n",
              " 'journeyed',\n",
              " 'moved',\n",
              " 'the',\n",
              " 'to'}"
            ]
          },
          "metadata": {
            "tags": []
          },
          "execution_count": 103
        }
      ]
    },
    {
      "cell_type": "code",
      "metadata": {
        "id": "ZpdBRFAaDU68"
      },
      "source": [
        "vocab = set()\n",
        "all_data = test_data + train_data"
      ],
      "execution_count": 104,
      "outputs": []
    },
    {
      "cell_type": "code",
      "metadata": {
        "colab": {
          "base_uri": "https://localhost:8080/"
        },
        "id": "BHAMFyIbdWRe",
        "outputId": "2a1110d7-848a-4747-8b98-556354bd9b85"
      },
      "source": [
        "len(all_data)"
      ],
      "execution_count": 105,
      "outputs": [
        {
          "output_type": "execute_result",
          "data": {
            "text/plain": [
              "11000"
            ]
          },
          "metadata": {
            "tags": []
          },
          "execution_count": 105
        }
      ]
    },
    {
      "cell_type": "code",
      "metadata": {
        "id": "SarSu2VBdp-z"
      },
      "source": [
        "#### all distinct elements in present in all the sets\n",
        "for story, question , answer in all_data:\n",
        "    vocab = vocab.union(set(story))\n",
        "    vocab = vocab.union(set(question))\n",
        "  "
      ],
      "execution_count": 106,
      "outputs": []
    },
    {
      "cell_type": "code",
      "metadata": {
        "id": "W4gzMsrSgG-i"
      },
      "source": [
        "###Then we're going to add in the two possible answers which are yes or no so say vocab at a no and vocab and yes.\n",
        "vocab.add('no')\n",
        "vocab.add('yes')\n"
      ],
      "execution_count": 107,
      "outputs": []
    },
    {
      "cell_type": "code",
      "metadata": {
        "colab": {
          "base_uri": "https://localhost:8080/"
        },
        "id": "bUhNP4ibiF-B",
        "outputId": "2e7072aa-d967-44e0-a7d8-f0a0a446aeb2"
      },
      "source": [
        "vocab"
      ],
      "execution_count": 108,
      "outputs": [
        {
          "output_type": "execute_result",
          "data": {
            "text/plain": [
              "{'.',\n",
              " '?',\n",
              " 'Daniel',\n",
              " 'Is',\n",
              " 'John',\n",
              " 'Mary',\n",
              " 'Sandra',\n",
              " 'apple',\n",
              " 'back',\n",
              " 'bathroom',\n",
              " 'bedroom',\n",
              " 'discarded',\n",
              " 'down',\n",
              " 'dropped',\n",
              " 'football',\n",
              " 'garden',\n",
              " 'got',\n",
              " 'grabbed',\n",
              " 'hallway',\n",
              " 'in',\n",
              " 'journeyed',\n",
              " 'kitchen',\n",
              " 'left',\n",
              " 'milk',\n",
              " 'moved',\n",
              " 'no',\n",
              " 'office',\n",
              " 'picked',\n",
              " 'put',\n",
              " 'the',\n",
              " 'there',\n",
              " 'to',\n",
              " 'took',\n",
              " 'travelled',\n",
              " 'up',\n",
              " 'went',\n",
              " 'yes'}"
            ]
          },
          "metadata": {
            "tags": []
          },
          "execution_count": 108
        }
      ]
    },
    {
      "cell_type": "code",
      "metadata": {
        "id": "AWjDACHZgd-4"
      },
      "source": [
        "#### use carris pad sequences and zero is a placeholder for that\n",
        "\n",
        "vocab_len = len(vocab) + 1\n"
      ],
      "execution_count": 109,
      "outputs": []
    },
    {
      "cell_type": "code",
      "metadata": {
        "colab": {
          "base_uri": "https://localhost:8080/"
        },
        "id": "EOGBL21yhS4V",
        "outputId": "c9f4fac3-072f-474c-c203-20a3c6711a9e"
      },
      "source": [
        "#all_data[0]\n",
        "all_data[0][0]"
      ],
      "execution_count": 110,
      "outputs": [
        {
          "output_type": "execute_result",
          "data": {
            "text/plain": [
              "['Mary',\n",
              " 'got',\n",
              " 'the',\n",
              " 'milk',\n",
              " 'there',\n",
              " '.',\n",
              " 'John',\n",
              " 'moved',\n",
              " 'to',\n",
              " 'the',\n",
              " 'bedroom',\n",
              " '.']"
            ]
          },
          "metadata": {
            "tags": []
          },
          "execution_count": 110
        }
      ]
    },
    {
      "cell_type": "code",
      "metadata": {
        "id": "pjDNPpclimak"
      },
      "source": [
        "all_story_lens = [len(data[0]) for data in all_data]"
      ],
      "execution_count": 111,
      "outputs": []
    },
    {
      "cell_type": "code",
      "metadata": {
        "id": "aiqb18cPi9NQ"
      },
      "source": [
        "#all_story_lens"
      ],
      "execution_count": 112,
      "outputs": []
    },
    {
      "cell_type": "code",
      "metadata": {
        "id": "36dVZmXJi-i9"
      },
      "source": [
        "max_story_len = max(all_story_lens)"
      ],
      "execution_count": 113,
      "outputs": []
    },
    {
      "cell_type": "code",
      "metadata": {
        "colab": {
          "base_uri": "https://localhost:8080/"
        },
        "id": "YF5CkMM4j1QW",
        "outputId": "75d1fd21-f8e1-4144-be0c-ddd68ad03ff4"
      },
      "source": [
        "max_story_len"
      ],
      "execution_count": 114,
      "outputs": [
        {
          "output_type": "execute_result",
          "data": {
            "text/plain": [
              "156"
            ]
          },
          "metadata": {
            "tags": []
          },
          "execution_count": 114
        }
      ]
    },
    {
      "cell_type": "code",
      "metadata": {
        "id": "j1OhfiXyjBRL"
      },
      "source": [
        "max_question_len = max([len(data[1]) for data in all_data ])"
      ],
      "execution_count": 115,
      "outputs": []
    },
    {
      "cell_type": "code",
      "metadata": {
        "colab": {
          "base_uri": "https://localhost:8080/"
        },
        "id": "dsdtZqAtnzUL",
        "outputId": "d054f15d-ce27-4aaf-d99a-ec5c695de6c8"
      },
      "source": [
        "max_question_len"
      ],
      "execution_count": 116,
      "outputs": [
        {
          "output_type": "execute_result",
          "data": {
            "text/plain": [
              "6"
            ]
          },
          "metadata": {
            "tags": []
          },
          "execution_count": 116
        }
      ]
    },
    {
      "cell_type": "markdown",
      "metadata": {
        "id": "yMOPDda6j_wE"
      },
      "source": [
        "## **Vectorizing the Data**"
      ]
    },
    {
      "cell_type": "code",
      "metadata": {
        "colab": {
          "base_uri": "https://localhost:8080/"
        },
        "id": "c_D4lbjXkCL0",
        "outputId": "d13d5a2e-e809-4c8a-fd5e-0259fb4f7f24"
      },
      "source": [
        "vocab"
      ],
      "execution_count": 117,
      "outputs": [
        {
          "output_type": "execute_result",
          "data": {
            "text/plain": [
              "{'.',\n",
              " '?',\n",
              " 'Daniel',\n",
              " 'Is',\n",
              " 'John',\n",
              " 'Mary',\n",
              " 'Sandra',\n",
              " 'apple',\n",
              " 'back',\n",
              " 'bathroom',\n",
              " 'bedroom',\n",
              " 'discarded',\n",
              " 'down',\n",
              " 'dropped',\n",
              " 'football',\n",
              " 'garden',\n",
              " 'got',\n",
              " 'grabbed',\n",
              " 'hallway',\n",
              " 'in',\n",
              " 'journeyed',\n",
              " 'kitchen',\n",
              " 'left',\n",
              " 'milk',\n",
              " 'moved',\n",
              " 'no',\n",
              " 'office',\n",
              " 'picked',\n",
              " 'put',\n",
              " 'the',\n",
              " 'there',\n",
              " 'to',\n",
              " 'took',\n",
              " 'travelled',\n",
              " 'up',\n",
              " 'went',\n",
              " 'yes'}"
            ]
          },
          "metadata": {
            "tags": []
          },
          "execution_count": 117
        }
      ]
    },
    {
      "cell_type": "code",
      "metadata": {
        "id": "OBbeQvnGkKxe"
      },
      "source": [
        "# Reserve 0 for pad_sequences\n",
        "vocab_size = len(vocab) + 1"
      ],
      "execution_count": 118,
      "outputs": []
    },
    {
      "cell_type": "code",
      "metadata": {
        "id": "_p4BXI-cn0iS"
      },
      "source": [
        "from keras.preprocessing.sequence import pad_sequences\n",
        "from keras.preprocessing.text import Tokenizer"
      ],
      "execution_count": 119,
      "outputs": []
    },
    {
      "cell_type": "code",
      "metadata": {
        "id": "He8rEGDhx-ew"
      },
      "source": [
        "# integer encode sequences of words\n",
        "tokenizer = Tokenizer(filters=[])\n",
        "tokenizer.fit_on_texts(vocab)"
      ],
      "execution_count": 120,
      "outputs": []
    },
    {
      "cell_type": "code",
      "metadata": {
        "colab": {
          "base_uri": "https://localhost:8080/"
        },
        "id": "i8lx2p2tyNxc",
        "outputId": "3e5344e7-294c-432b-ca75-60bdb19cc44b"
      },
      "source": [
        "tokenizer.word_index"
      ],
      "execution_count": 121,
      "outputs": [
        {
          "output_type": "execute_result",
          "data": {
            "text/plain": [
              "{'.': 25,\n",
              " '?': 23,\n",
              " 'apple': 12,\n",
              " 'back': 20,\n",
              " 'bathroom': 1,\n",
              " 'bedroom': 18,\n",
              " 'daniel': 35,\n",
              " 'discarded': 26,\n",
              " 'down': 3,\n",
              " 'dropped': 28,\n",
              " 'football': 21,\n",
              " 'garden': 2,\n",
              " 'got': 29,\n",
              " 'grabbed': 10,\n",
              " 'hallway': 32,\n",
              " 'in': 13,\n",
              " 'is': 9,\n",
              " 'john': 6,\n",
              " 'journeyed': 14,\n",
              " 'kitchen': 34,\n",
              " 'left': 5,\n",
              " 'mary': 16,\n",
              " 'milk': 7,\n",
              " 'moved': 37,\n",
              " 'no': 17,\n",
              " 'office': 36,\n",
              " 'picked': 4,\n",
              " 'put': 33,\n",
              " 'sandra': 27,\n",
              " 'the': 8,\n",
              " 'there': 24,\n",
              " 'to': 30,\n",
              " 'took': 19,\n",
              " 'travelled': 15,\n",
              " 'up': 31,\n",
              " 'went': 22,\n",
              " 'yes': 11}"
            ]
          },
          "metadata": {
            "tags": []
          },
          "execution_count": 121
        }
      ]
    },
    {
      "cell_type": "code",
      "metadata": {
        "id": "POJ6oJFiyx5F"
      },
      "source": [
        "train_story_text = []\n",
        "train_question_text = []\n",
        "train_answers = []\n",
        "\n",
        "for story,question,answer in train_data:\n",
        "    train_story_text.append(story)\n",
        "    train_question_text.append(question)"
      ],
      "execution_count": 122,
      "outputs": []
    },
    {
      "cell_type": "code",
      "metadata": {
        "id": "e9afxG5QpL0e"
      },
      "source": [
        "#train_story_text"
      ],
      "execution_count": 123,
      "outputs": []
    },
    {
      "cell_type": "code",
      "metadata": {
        "id": "cTHEycSbppw_"
      },
      "source": [
        "train_story_seq = tokenizer.texts_to_sequences(train_story_text)"
      ],
      "execution_count": 124,
      "outputs": []
    },
    {
      "cell_type": "code",
      "metadata": {
        "colab": {
          "base_uri": "https://localhost:8080/"
        },
        "id": "tPMtFmlQqKum",
        "outputId": "ca5ecf6e-e420-40e7-fea9-604f5878db40"
      },
      "source": [
        "len(train_story_text)"
      ],
      "execution_count": 125,
      "outputs": [
        {
          "output_type": "execute_result",
          "data": {
            "text/plain": [
              "10000"
            ]
          },
          "metadata": {
            "tags": []
          },
          "execution_count": 125
        }
      ]
    },
    {
      "cell_type": "code",
      "metadata": {
        "colab": {
          "base_uri": "https://localhost:8080/"
        },
        "id": "IND3SJLdkhcR",
        "outputId": "6ed13504-bc82-4433-c8d5-c6be3523ab99"
      },
      "source": [
        "len(train_story_seq)"
      ],
      "execution_count": 126,
      "outputs": [
        {
          "output_type": "execute_result",
          "data": {
            "text/plain": [
              "10000"
            ]
          },
          "metadata": {
            "tags": []
          },
          "execution_count": 126
        }
      ]
    },
    {
      "cell_type": "code",
      "metadata": {
        "colab": {
          "base_uri": "https://localhost:8080/"
        },
        "id": "gQ00gFCsqNid",
        "outputId": "7ac207eb-26de-4009-800a-aacfa4af3523"
      },
      "source": [
        "train_story_seq[0]"
      ],
      "execution_count": 127,
      "outputs": [
        {
          "output_type": "execute_result",
          "data": {
            "text/plain": [
              "[16, 37, 30, 8, 1, 25, 27, 14, 30, 8, 18, 25]"
            ]
          },
          "metadata": {
            "tags": []
          },
          "execution_count": 127
        }
      ]
    },
    {
      "cell_type": "code",
      "metadata": {
        "colab": {
          "base_uri": "https://localhost:8080/"
        },
        "id": "AlXXDQiLqQQd",
        "outputId": "465832a8-32f3-472c-f986-6de3f53cb2d1"
      },
      "source": [
        "train_story_text[0]"
      ],
      "execution_count": 128,
      "outputs": [
        {
          "output_type": "execute_result",
          "data": {
            "text/plain": [
              "['Mary',\n",
              " 'moved',\n",
              " 'to',\n",
              " 'the',\n",
              " 'bathroom',\n",
              " '.',\n",
              " 'Sandra',\n",
              " 'journeyed',\n",
              " 'to',\n",
              " 'the',\n",
              " 'bedroom',\n",
              " '.']"
            ]
          },
          "metadata": {
            "tags": []
          },
          "execution_count": 128
        }
      ]
    },
    {
      "cell_type": "markdown",
      "metadata": {
        "id": "vuCTLie5Yu-1"
      },
      "source": [
        "##**Vectorize Stories**\n",
        "### Functionalize Vectorization"
      ]
    },
    {
      "cell_type": "code",
      "metadata": {
        "id": "rme1gi8Hqdgs"
      },
      "source": [
        "def vectorize_stories(data, word_index=tokenizer.word_index, max_story_len=max_story_len,max_question_len=max_question_len):\n",
        "\n",
        "    # X = STORIES\n",
        "    X = []\n",
        "    # Xq = QUERY/QUESTION\n",
        "    Xq = []\n",
        "    # Y = CORRECT ANSWER\n",
        "    Y = []\n",
        "    \n",
        "    \n",
        "    for story, query, answer in data:\n",
        "        x = [word_index[word.lower()] for word in story]\n",
        "    \n",
        "        xq = [word_index[word.lower()] for word in query]\n",
        "        \n",
        "        y = np.zeros(len(word_index) + 1)\n",
        "\n",
        "        y[word_index[answer]] = 1\n",
        "        \n",
        "       \n",
        "        X.append(x)\n",
        "        Xq.append(xq)\n",
        "        Y.append(y)\n",
        "        \n",
        "  \n",
        "    return (pad_sequences(X, maxlen=max_story_len),pad_sequences(Xq, maxlen=max_question_len), np.array(Y))"
      ],
      "execution_count": 129,
      "outputs": []
    },
    {
      "cell_type": "code",
      "metadata": {
        "id": "Hc70RanRWcF7"
      },
      "source": [
        "inputs_train, queries_train, answers_train = vectorize_stories(train_data)"
      ],
      "execution_count": 130,
      "outputs": []
    },
    {
      "cell_type": "code",
      "metadata": {
        "id": "ET2WA_1VXXJS"
      },
      "source": [
        "inputs_test, queries_test, answers_test = vectorize_stories(test_data)"
      ],
      "execution_count": 131,
      "outputs": []
    },
    {
      "cell_type": "code",
      "metadata": {
        "colab": {
          "base_uri": "https://localhost:8080/"
        },
        "id": "9Im8ovyaXXGq",
        "outputId": "3e6daf58-8115-4b8a-8020-aa2483a2543a"
      },
      "source": [
        "inputs_test"
      ],
      "execution_count": 132,
      "outputs": [
        {
          "output_type": "execute_result",
          "data": {
            "text/plain": [
              "array([[ 0,  0,  0, ...,  8, 18, 25],\n",
              "       [ 0,  0,  0, ...,  8,  2, 25],\n",
              "       [ 0,  0,  0, ...,  8,  2, 25],\n",
              "       ...,\n",
              "       [ 0,  0,  0, ...,  8, 12, 25],\n",
              "       [ 0,  0,  0, ...,  8,  2, 25],\n",
              "       [ 0,  0,  0, ..., 12, 24, 25]], dtype=int32)"
            ]
          },
          "metadata": {
            "tags": []
          },
          "execution_count": 132
        }
      ]
    },
    {
      "cell_type": "code",
      "metadata": {
        "colab": {
          "base_uri": "https://localhost:8080/"
        },
        "id": "Ny5WtB1WXXC2",
        "outputId": "1e6ea800-1bc6-4d0f-ac68-d8f934e901b1"
      },
      "source": [
        "queries_test"
      ],
      "execution_count": 133,
      "outputs": [
        {
          "output_type": "execute_result",
          "data": {
            "text/plain": [
              "array([[ 9,  6, 13,  8, 34, 23],\n",
              "       [ 9,  6, 13,  8, 34, 23],\n",
              "       [ 9,  6, 13,  8,  2, 23],\n",
              "       ...,\n",
              "       [ 9, 16, 13,  8, 18, 23],\n",
              "       [ 9, 27, 13,  8,  2, 23],\n",
              "       [ 9, 16, 13,  8,  2, 23]], dtype=int32)"
            ]
          },
          "metadata": {
            "tags": []
          },
          "execution_count": 133
        }
      ]
    },
    {
      "cell_type": "code",
      "metadata": {
        "colab": {
          "base_uri": "https://localhost:8080/"
        },
        "id": "pFbawfFBlGwB",
        "outputId": "a5d3ac1b-8e31-4c25-e927-b09295522c78"
      },
      "source": [
        "answers_test"
      ],
      "execution_count": 134,
      "outputs": [
        {
          "output_type": "execute_result",
          "data": {
            "text/plain": [
              "array([[0., 0., 0., ..., 0., 0., 0.],\n",
              "       [0., 0., 0., ..., 0., 0., 0.],\n",
              "       [0., 0., 0., ..., 0., 0., 0.],\n",
              "       ...,\n",
              "       [0., 0., 0., ..., 0., 0., 0.],\n",
              "       [0., 0., 0., ..., 0., 0., 0.],\n",
              "       [0., 0., 0., ..., 0., 0., 0.]])"
            ]
          },
          "metadata": {
            "tags": []
          },
          "execution_count": 134
        }
      ]
    },
    {
      "cell_type": "code",
      "metadata": {
        "colab": {
          "base_uri": "https://localhost:8080/"
        },
        "id": "ahUg9ou6YYe-",
        "outputId": "3e8b401c-8014-413a-8685-0838c365f50c"
      },
      "source": [
        "sum(answers_test)"
      ],
      "execution_count": 135,
      "outputs": [
        {
          "output_type": "execute_result",
          "data": {
            "text/plain": [
              "array([  0.,   0.,   0.,   0.,   0.,   0.,   0.,   0.,   0.,   0.,   0.,\n",
              "       497.,   0.,   0.,   0.,   0.,   0., 503.,   0.,   0.,   0.,   0.,\n",
              "         0.,   0.,   0.,   0.,   0.,   0.,   0.,   0.,   0.,   0.,   0.,\n",
              "         0.,   0.,   0.,   0.,   0.])"
            ]
          },
          "metadata": {
            "tags": []
          },
          "execution_count": 135
        }
      ]
    },
    {
      "cell_type": "code",
      "metadata": {
        "colab": {
          "base_uri": "https://localhost:8080/"
        },
        "id": "KnIXvecvXW_X",
        "outputId": "fe4df3dc-6277-4295-b68e-c9fd4f382ebf"
      },
      "source": [
        "tokenizer.word_index['yes']"
      ],
      "execution_count": 136,
      "outputs": [
        {
          "output_type": "execute_result",
          "data": {
            "text/plain": [
              "11"
            ]
          },
          "metadata": {
            "tags": []
          },
          "execution_count": 136
        }
      ]
    },
    {
      "cell_type": "code",
      "metadata": {
        "colab": {
          "base_uri": "https://localhost:8080/"
        },
        "id": "L-nTYLhOXW5Y",
        "outputId": "ac9c0333-bcd3-437e-8644-7c06d131d426"
      },
      "source": [
        "tokenizer.word_index['no']"
      ],
      "execution_count": 137,
      "outputs": [
        {
          "output_type": "execute_result",
          "data": {
            "text/plain": [
              "17"
            ]
          },
          "metadata": {
            "tags": []
          },
          "execution_count": 137
        }
      ]
    },
    {
      "cell_type": "markdown",
      "metadata": {
        "id": "bySgp_eulbyW"
      },
      "source": [
        "## **Creating the Model**"
      ]
    },
    {
      "cell_type": "code",
      "metadata": {
        "id": "rUZ6sLEmlfSh"
      },
      "source": [
        "from keras.models import Sequential, Model\n",
        "from keras.layers.embeddings import Embedding\n",
        "from keras.layers import Input, Activation, Dense, Permute, Dropout\n",
        "from keras.layers import add, dot, concatenate\n",
        "from keras.layers import LSTM"
      ],
      "execution_count": 138,
      "outputs": []
    },
    {
      "cell_type": "markdown",
      "metadata": {
        "id": "ljU9wBp5_jGi"
      },
      "source": [
        "### Placeholders for Inputs"
      ]
    },
    {
      "cell_type": "code",
      "metadata": {
        "id": "fxdM90l53lQs"
      },
      "source": [
        "#placeholder shape = (max_story_len,batch_size)\n",
        "input_sequence = Input((max_story_len,))\n",
        "question = Input((max_question_len,))"
      ],
      "execution_count": 139,
      "outputs": []
    },
    {
      "cell_type": "markdown",
      "metadata": {
        "id": "TlomMXN5_9AU"
      },
      "source": [
        "### Building the Networks\n",
        "  \"End-To-End Memory Networks\",\n",
        "  http://arxiv.org/abs/1503.08895"
      ]
    },
    {
      "cell_type": "markdown",
      "metadata": {
        "id": "n5dStaP7_73D"
      },
      "source": [
        "## Encoders\n",
        "\n",
        "### Input Encoder m"
      ]
    },
    {
      "cell_type": "code",
      "metadata": {
        "id": "JdV_y7rI5clm"
      },
      "source": [
        "# Input gets embedded to a sequence of vectors\n",
        "input_encoder_m = Sequential()\n",
        "input_encoder_m.add(Embedding(input_dim=vocab_size,output_dim=64))\n",
        "input_encoder_m.add(Dropout(0.3))\n",
        "\n",
        "# This encoder will output:\n",
        "# (samples, story_maxlen, embedding_dim)"
      ],
      "execution_count": 140,
      "outputs": []
    },
    {
      "cell_type": "markdown",
      "metadata": {
        "id": "QK3fbp3PAKyY"
      },
      "source": [
        "### Input Encoder c"
      ]
    },
    {
      "cell_type": "code",
      "metadata": {
        "id": "tp2Q2hxL6Nr1"
      },
      "source": [
        "# embed the input into a sequence of vectors of size query_maxlen\n",
        "input_encoder_c = Sequential()\n",
        "input_encoder_c.add(Embedding(input_dim=vocab_size,output_dim=max_question_len))\n",
        "input_encoder_c.add(Dropout(0.3))\n",
        "# output: (samples, story_maxlen, query_maxlen)"
      ],
      "execution_count": 141,
      "outputs": []
    },
    {
      "cell_type": "markdown",
      "metadata": {
        "id": "HCpbsKUGAMSb"
      },
      "source": [
        "### Question Encoder"
      ]
    },
    {
      "cell_type": "code",
      "metadata": {
        "id": "APdpeP2a6Npm"
      },
      "source": [
        "# embed the question into a sequence of vectors\n",
        "question_encoder = Sequential()\n",
        "question_encoder.add(Embedding(input_dim=vocab_size,\n",
        "                               output_dim=64,\n",
        "                               input_length=max_question_len))\n",
        "question_encoder.add(Dropout(0.3))\n",
        "# output: (samples, query_maxlen, embedding_dim)"
      ],
      "execution_count": 142,
      "outputs": []
    },
    {
      "cell_type": "markdown",
      "metadata": {
        "id": "O69Zl30uAUNx"
      },
      "source": [
        "### Encode the Sequences"
      ]
    },
    {
      "cell_type": "code",
      "metadata": {
        "id": "S0JIt1Da6Nha"
      },
      "source": [
        "# encode input sequence and questions (which are indices)\n",
        "# to sequences of dense vectors\n",
        "input_encoded_m = input_encoder_m(input_sequence)\n",
        "input_encoded_c = input_encoder_c(input_sequence)\n",
        "question_encoded = question_encoder(question)"
      ],
      "execution_count": 143,
      "outputs": []
    },
    {
      "cell_type": "markdown",
      "metadata": {
        "id": "Cn8QOWaZAdIQ"
      },
      "source": [
        "##### Use dot product to compute the match between first input vector seq and the query"
      ]
    },
    {
      "cell_type": "code",
      "metadata": {
        "id": "q0zvlMiL6Ndz"
      },
      "source": [
        "# shape: `(samples, story_maxlen, query_maxlen)`\n",
        "match = dot([input_encoded_m, question_encoded], axes=(2, 2))\n",
        "match = Activation('softmax')(match)"
      ],
      "execution_count": 144,
      "outputs": []
    },
    {
      "cell_type": "markdown",
      "metadata": {
        "id": "pc6Rm3SEAh6G"
      },
      "source": [
        "#### Add this match matrix with the second input vector sequence"
      ]
    },
    {
      "cell_type": "code",
      "metadata": {
        "id": "R02zQyuy6NbC"
      },
      "source": [
        "# add the match matrix with the second input vector sequence\n",
        "response = add([match, input_encoded_c])  # (samples, story_maxlen, query_maxlen)\n",
        "response = Permute((2, 1))(response)  # (samples, query_maxlen, story_maxlen)"
      ],
      "execution_count": 145,
      "outputs": []
    },
    {
      "cell_type": "markdown",
      "metadata": {
        "id": "taHsXIsOAsft"
      },
      "source": [
        "#### Concatenate"
      ]
    },
    {
      "cell_type": "code",
      "metadata": {
        "id": "rpOLFcVw6NXg"
      },
      "source": [
        "# concatenate the match matrix with the question vector sequence\n",
        "answer = concatenate([response, question_encoded])"
      ],
      "execution_count": 146,
      "outputs": []
    },
    {
      "cell_type": "code",
      "metadata": {
        "colab": {
          "base_uri": "https://localhost:8080/"
        },
        "id": "1yIqGqD15fOG",
        "outputId": "ecd23b6e-1208-41cc-a778-1219d272d962"
      },
      "source": [
        "answer"
      ],
      "execution_count": 147,
      "outputs": [
        {
          "output_type": "execute_result",
          "data": {
            "text/plain": [
              "<KerasTensor: shape=(None, 6, 220) dtype=float32 (created by layer 'concatenate_1')>"
            ]
          },
          "metadata": {
            "tags": []
          },
          "execution_count": 147
        }
      ]
    },
    {
      "cell_type": "code",
      "metadata": {
        "id": "Ci4eGtU5EkLq"
      },
      "source": [
        "# Reduce with RNN (LSTM)\n",
        "#answer = LSTM(1)(answer)\n",
        "answer = LSTM(32)(answer)\n",
        "#answer = LSTM(50)(answer) \n"
      ],
      "execution_count": 148,
      "outputs": []
    },
    {
      "cell_type": "code",
      "metadata": {
        "id": "t4G5PRcfE2iH"
      },
      "source": [
        "# Regularization with Dropout\n",
        "answer = Dropout(0.5)(answer)\n",
        "answer = Dense(vocab_size)(answer)  # (samples, vocab_size)"
      ],
      "execution_count": 149,
      "outputs": []
    },
    {
      "cell_type": "code",
      "metadata": {
        "id": "GtMtqicVF2jQ"
      },
      "source": [
        "# we output a probability distribution over the vocabulary\n",
        "answer = Activation('softmax')(answer)"
      ],
      "execution_count": 150,
      "outputs": []
    },
    {
      "cell_type": "code",
      "metadata": {
        "id": "JphC7vb7GFAZ"
      },
      "source": [
        "# build the final model\n",
        "model = Model([input_sequence, question], answer)\n",
        "model.compile(optimizer='rmsprop', loss='categorical_crossentropy',\n",
        "              metrics=['accuracy'])"
      ],
      "execution_count": 151,
      "outputs": []
    },
    {
      "cell_type": "code",
      "metadata": {
        "colab": {
          "base_uri": "https://localhost:8080/"
        },
        "id": "IoeyQFKVG-i4",
        "outputId": "5a59e1d6-ffb6-4474-c8ed-fcfb71b3c259"
      },
      "source": [
        "model.summary()"
      ],
      "execution_count": 152,
      "outputs": [
        {
          "output_type": "stream",
          "text": [
            "Model: \"model_1\"\n",
            "__________________________________________________________________________________________________\n",
            "Layer (type)                    Output Shape         Param #     Connected to                     \n",
            "==================================================================================================\n",
            "input_3 (InputLayer)            [(None, 156)]        0                                            \n",
            "__________________________________________________________________________________________________\n",
            "input_4 (InputLayer)            [(None, 6)]          0                                            \n",
            "__________________________________________________________________________________________________\n",
            "sequential_3 (Sequential)       (None, None, 64)     2432        input_3[0][0]                    \n",
            "__________________________________________________________________________________________________\n",
            "sequential_5 (Sequential)       (None, 6, 64)        2432        input_4[0][0]                    \n",
            "__________________________________________________________________________________________________\n",
            "dot_1 (Dot)                     (None, 156, 6)       0           sequential_3[0][0]               \n",
            "                                                                 sequential_5[0][0]               \n",
            "__________________________________________________________________________________________________\n",
            "activation_2 (Activation)       (None, 156, 6)       0           dot_1[0][0]                      \n",
            "__________________________________________________________________________________________________\n",
            "sequential_4 (Sequential)       (None, None, 6)      228         input_3[0][0]                    \n",
            "__________________________________________________________________________________________________\n",
            "add_1 (Add)                     (None, 156, 6)       0           activation_2[0][0]               \n",
            "                                                                 sequential_4[0][0]               \n",
            "__________________________________________________________________________________________________\n",
            "permute_1 (Permute)             (None, 6, 156)       0           add_1[0][0]                      \n",
            "__________________________________________________________________________________________________\n",
            "concatenate_1 (Concatenate)     (None, 6, 220)       0           permute_1[0][0]                  \n",
            "                                                                 sequential_5[0][0]               \n",
            "__________________________________________________________________________________________________\n",
            "lstm_1 (LSTM)                   (None, 32)           32384       concatenate_1[0][0]              \n",
            "__________________________________________________________________________________________________\n",
            "dropout_7 (Dropout)             (None, 32)           0           lstm_1[0][0]                     \n",
            "__________________________________________________________________________________________________\n",
            "dense_1 (Dense)                 (None, 38)           1254        dropout_7[0][0]                  \n",
            "__________________________________________________________________________________________________\n",
            "activation_3 (Activation)       (None, 38)           0           dense_1[0][0]                    \n",
            "==================================================================================================\n",
            "Total params: 38,730\n",
            "Trainable params: 38,730\n",
            "Non-trainable params: 0\n",
            "__________________________________________________________________________________________________\n"
          ],
          "name": "stdout"
        }
      ]
    },
    {
      "cell_type": "code",
      "metadata": {
        "colab": {
          "base_uri": "https://localhost:8080/"
        },
        "id": "9PtYMXLCL-5O",
        "outputId": "20fd2613-84b2-4422-de9c-46812fc5c600"
      },
      "source": [
        "# train\n",
        "#history = model.fit([inputs_train, queries_train], answers_train,batch_size=100,epochs=50,validation_data=([inputs_test, queries_test], answers_test))\n",
        "#history = model.fit([inputs_train, queries_train], answers_train,batch_size=100,epochs=100,validation_data=([inputs_test, queries_test], answers_test))\n",
        "#history = model.fit([inputs_train, queries_train], answers_train,batch_size=70,epochs=100,validation_data=([inputs_test, queries_test], answers_test))\n",
        "history = model.fit([inputs_train, queries_train], answers_train,batch_size=32,epochs=100,validation_data=([inputs_test, queries_test], answers_test))"
      ],
      "execution_count": 153,
      "outputs": [
        {
          "output_type": "stream",
          "text": [
            "Epoch 1/100\n",
            "313/313 [==============================] - 4s 8ms/step - loss: 1.2665 - accuracy: 0.4777 - val_loss: 0.7014 - val_accuracy: 0.5030\n",
            "Epoch 2/100\n",
            "313/313 [==============================] - 2s 7ms/step - loss: 0.7079 - accuracy: 0.5020 - val_loss: 0.6935 - val_accuracy: 0.5030\n",
            "Epoch 3/100\n",
            "313/313 [==============================] - 2s 6ms/step - loss: 0.6972 - accuracy: 0.5019 - val_loss: 0.6932 - val_accuracy: 0.5030\n",
            "Epoch 4/100\n",
            "313/313 [==============================] - 2s 6ms/step - loss: 0.6958 - accuracy: 0.4901 - val_loss: 0.6932 - val_accuracy: 0.5030\n",
            "Epoch 5/100\n",
            "313/313 [==============================] - 2s 7ms/step - loss: 0.6945 - accuracy: 0.5023 - val_loss: 0.6931 - val_accuracy: 0.5030\n",
            "Epoch 6/100\n",
            "313/313 [==============================] - 2s 7ms/step - loss: 0.6945 - accuracy: 0.5009 - val_loss: 0.6935 - val_accuracy: 0.5030\n",
            "Epoch 7/100\n",
            "313/313 [==============================] - 2s 6ms/step - loss: 0.6945 - accuracy: 0.5020 - val_loss: 0.6936 - val_accuracy: 0.4970\n",
            "Epoch 8/100\n",
            "313/313 [==============================] - 2s 6ms/step - loss: 0.6949 - accuracy: 0.4980 - val_loss: 0.6936 - val_accuracy: 0.4670\n",
            "Epoch 9/100\n",
            "313/313 [==============================] - 2s 7ms/step - loss: 0.6943 - accuracy: 0.5069 - val_loss: 0.6942 - val_accuracy: 0.4980\n",
            "Epoch 10/100\n",
            "313/313 [==============================] - 2s 7ms/step - loss: 0.6939 - accuracy: 0.5061 - val_loss: 0.6949 - val_accuracy: 0.4750\n",
            "Epoch 11/100\n",
            "313/313 [==============================] - 2s 7ms/step - loss: 0.6941 - accuracy: 0.5082 - val_loss: 0.6974 - val_accuracy: 0.4880\n",
            "Epoch 12/100\n",
            "313/313 [==============================] - 2s 7ms/step - loss: 0.6876 - accuracy: 0.5376 - val_loss: 0.6786 - val_accuracy: 0.5400\n",
            "Epoch 13/100\n",
            "313/313 [==============================] - 2s 6ms/step - loss: 0.6652 - accuracy: 0.5897 - val_loss: 0.6402 - val_accuracy: 0.6350\n",
            "Epoch 14/100\n",
            "313/313 [==============================] - 2s 6ms/step - loss: 0.6462 - accuracy: 0.6225 - val_loss: 0.6311 - val_accuracy: 0.6390\n",
            "Epoch 15/100\n",
            "313/313 [==============================] - 2s 7ms/step - loss: 0.6302 - accuracy: 0.6491 - val_loss: 0.6211 - val_accuracy: 0.6510\n",
            "Epoch 16/100\n",
            "313/313 [==============================] - 2s 7ms/step - loss: 0.6214 - accuracy: 0.6608 - val_loss: 0.6211 - val_accuracy: 0.6650\n",
            "Epoch 17/100\n",
            "313/313 [==============================] - 2s 6ms/step - loss: 0.6032 - accuracy: 0.6819 - val_loss: 0.5956 - val_accuracy: 0.6710\n",
            "Epoch 18/100\n",
            "313/313 [==============================] - 2s 7ms/step - loss: 0.6087 - accuracy: 0.6711 - val_loss: 0.5904 - val_accuracy: 0.6790\n",
            "Epoch 19/100\n",
            "313/313 [==============================] - 2s 7ms/step - loss: 0.6090 - accuracy: 0.6723 - val_loss: 0.5802 - val_accuracy: 0.6820\n",
            "Epoch 20/100\n",
            "313/313 [==============================] - 2s 7ms/step - loss: 0.5766 - accuracy: 0.7052 - val_loss: 0.5824 - val_accuracy: 0.6850\n",
            "Epoch 21/100\n",
            "313/313 [==============================] - 2s 7ms/step - loss: 0.5710 - accuracy: 0.7105 - val_loss: 0.5522 - val_accuracy: 0.7180\n",
            "Epoch 22/100\n",
            "313/313 [==============================] - 2s 7ms/step - loss: 0.5658 - accuracy: 0.7128 - val_loss: 0.5487 - val_accuracy: 0.7110\n",
            "Epoch 23/100\n",
            "313/313 [==============================] - 2s 7ms/step - loss: 0.5339 - accuracy: 0.7319 - val_loss: 0.5227 - val_accuracy: 0.7340\n",
            "Epoch 24/100\n",
            "313/313 [==============================] - 2s 7ms/step - loss: 0.5243 - accuracy: 0.7403 - val_loss: 0.4854 - val_accuracy: 0.7630\n",
            "Epoch 25/100\n",
            "313/313 [==============================] - 2s 7ms/step - loss: 0.4966 - accuracy: 0.7727 - val_loss: 0.4720 - val_accuracy: 0.7720\n",
            "Epoch 26/100\n",
            "313/313 [==============================] - 2s 6ms/step - loss: 0.4880 - accuracy: 0.7718 - val_loss: 0.4389 - val_accuracy: 0.8030\n",
            "Epoch 27/100\n",
            "313/313 [==============================] - 2s 7ms/step - loss: 0.4704 - accuracy: 0.7840 - val_loss: 0.4279 - val_accuracy: 0.7890\n",
            "Epoch 28/100\n",
            "313/313 [==============================] - 2s 7ms/step - loss: 0.4655 - accuracy: 0.7958 - val_loss: 0.4140 - val_accuracy: 0.8000\n",
            "Epoch 29/100\n",
            "313/313 [==============================] - 2s 7ms/step - loss: 0.4499 - accuracy: 0.8005 - val_loss: 0.4233 - val_accuracy: 0.8200\n",
            "Epoch 30/100\n",
            "313/313 [==============================] - 2s 7ms/step - loss: 0.4270 - accuracy: 0.8076 - val_loss: 0.4087 - val_accuracy: 0.8180\n",
            "Epoch 31/100\n",
            "313/313 [==============================] - 2s 6ms/step - loss: 0.4257 - accuracy: 0.8165 - val_loss: 0.4088 - val_accuracy: 0.8190\n",
            "Epoch 32/100\n",
            "313/313 [==============================] - 2s 7ms/step - loss: 0.4256 - accuracy: 0.8102 - val_loss: 0.4332 - val_accuracy: 0.7780\n",
            "Epoch 33/100\n",
            "313/313 [==============================] - 2s 7ms/step - loss: 0.3991 - accuracy: 0.8245 - val_loss: 0.3959 - val_accuracy: 0.7980\n",
            "Epoch 34/100\n",
            "313/313 [==============================] - 2s 7ms/step - loss: 0.4118 - accuracy: 0.8208 - val_loss: 0.4147 - val_accuracy: 0.8280\n",
            "Epoch 35/100\n",
            "313/313 [==============================] - 2s 7ms/step - loss: 0.3961 - accuracy: 0.8272 - val_loss: 0.4055 - val_accuracy: 0.8260\n",
            "Epoch 36/100\n",
            "313/313 [==============================] - 2s 6ms/step - loss: 0.3745 - accuracy: 0.8404 - val_loss: 0.3798 - val_accuracy: 0.8240\n",
            "Epoch 37/100\n",
            "313/313 [==============================] - 2s 7ms/step - loss: 0.3739 - accuracy: 0.8385 - val_loss: 0.3819 - val_accuracy: 0.8300\n",
            "Epoch 38/100\n",
            "313/313 [==============================] - 2s 7ms/step - loss: 0.3642 - accuracy: 0.8469 - val_loss: 0.3962 - val_accuracy: 0.8320\n",
            "Epoch 39/100\n",
            "313/313 [==============================] - 2s 6ms/step - loss: 0.3656 - accuracy: 0.8428 - val_loss: 0.3871 - val_accuracy: 0.8300\n",
            "Epoch 40/100\n",
            "313/313 [==============================] - 2s 6ms/step - loss: 0.3507 - accuracy: 0.8521 - val_loss: 0.3806 - val_accuracy: 0.8380\n",
            "Epoch 41/100\n",
            "313/313 [==============================] - 2s 6ms/step - loss: 0.3628 - accuracy: 0.8453 - val_loss: 0.3811 - val_accuracy: 0.8320\n",
            "Epoch 42/100\n",
            "313/313 [==============================] - 2s 7ms/step - loss: 0.3505 - accuracy: 0.8498 - val_loss: 0.4146 - val_accuracy: 0.8360\n",
            "Epoch 43/100\n",
            "313/313 [==============================] - 2s 7ms/step - loss: 0.3439 - accuracy: 0.8578 - val_loss: 0.3941 - val_accuracy: 0.8180\n",
            "Epoch 44/100\n",
            "313/313 [==============================] - 2s 7ms/step - loss: 0.3389 - accuracy: 0.8584 - val_loss: 0.3903 - val_accuracy: 0.8330\n",
            "Epoch 45/100\n",
            "313/313 [==============================] - 2s 6ms/step - loss: 0.3413 - accuracy: 0.8576 - val_loss: 0.3744 - val_accuracy: 0.8390\n",
            "Epoch 46/100\n",
            "313/313 [==============================] - 2s 6ms/step - loss: 0.3329 - accuracy: 0.8581 - val_loss: 0.4081 - val_accuracy: 0.8260\n",
            "Epoch 47/100\n",
            "313/313 [==============================] - 2s 7ms/step - loss: 0.3397 - accuracy: 0.8545 - val_loss: 0.3687 - val_accuracy: 0.8440\n",
            "Epoch 48/100\n",
            "313/313 [==============================] - 2s 7ms/step - loss: 0.3106 - accuracy: 0.8645 - val_loss: 0.3769 - val_accuracy: 0.8370\n",
            "Epoch 49/100\n",
            "313/313 [==============================] - 2s 7ms/step - loss: 0.3255 - accuracy: 0.8633 - val_loss: 0.3665 - val_accuracy: 0.8400\n",
            "Epoch 50/100\n",
            "313/313 [==============================] - 2s 7ms/step - loss: 0.3176 - accuracy: 0.8661 - val_loss: 0.3578 - val_accuracy: 0.8420\n",
            "Epoch 51/100\n",
            "313/313 [==============================] - 2s 6ms/step - loss: 0.3168 - accuracy: 0.8696 - val_loss: 0.3834 - val_accuracy: 0.8380\n",
            "Epoch 52/100\n",
            "313/313 [==============================] - 2s 7ms/step - loss: 0.3112 - accuracy: 0.8665 - val_loss: 0.3588 - val_accuracy: 0.8380\n",
            "Epoch 53/100\n",
            "313/313 [==============================] - 2s 7ms/step - loss: 0.3217 - accuracy: 0.8688 - val_loss: 0.3797 - val_accuracy: 0.8360\n",
            "Epoch 54/100\n",
            "313/313 [==============================] - 2s 7ms/step - loss: 0.3126 - accuracy: 0.8670 - val_loss: 0.3776 - val_accuracy: 0.8190\n",
            "Epoch 55/100\n",
            "313/313 [==============================] - 2s 7ms/step - loss: 0.3051 - accuracy: 0.8698 - val_loss: 0.3665 - val_accuracy: 0.8370\n",
            "Epoch 56/100\n",
            "313/313 [==============================] - 2s 7ms/step - loss: 0.2998 - accuracy: 0.8710 - val_loss: 0.3681 - val_accuracy: 0.8370\n",
            "Epoch 57/100\n",
            "313/313 [==============================] - 2s 6ms/step - loss: 0.3101 - accuracy: 0.8716 - val_loss: 0.3809 - val_accuracy: 0.8330\n",
            "Epoch 58/100\n",
            "313/313 [==============================] - 2s 7ms/step - loss: 0.2933 - accuracy: 0.8780 - val_loss: 0.3614 - val_accuracy: 0.8390\n",
            "Epoch 59/100\n",
            "313/313 [==============================] - 2s 7ms/step - loss: 0.3101 - accuracy: 0.8687 - val_loss: 0.3635 - val_accuracy: 0.8440\n",
            "Epoch 60/100\n",
            "313/313 [==============================] - 2s 7ms/step - loss: 0.3055 - accuracy: 0.8729 - val_loss: 0.3604 - val_accuracy: 0.8480\n",
            "Epoch 61/100\n",
            "313/313 [==============================] - 2s 7ms/step - loss: 0.2964 - accuracy: 0.8732 - val_loss: 0.3637 - val_accuracy: 0.8380\n",
            "Epoch 62/100\n",
            "313/313 [==============================] - 2s 7ms/step - loss: 0.2903 - accuracy: 0.8771 - val_loss: 0.3780 - val_accuracy: 0.8410\n",
            "Epoch 63/100\n",
            "313/313 [==============================] - 2s 6ms/step - loss: 0.2941 - accuracy: 0.8737 - val_loss: 0.3660 - val_accuracy: 0.8470\n",
            "Epoch 64/100\n",
            "313/313 [==============================] - 2s 6ms/step - loss: 0.2865 - accuracy: 0.8779 - val_loss: 0.3611 - val_accuracy: 0.8390\n",
            "Epoch 65/100\n",
            "313/313 [==============================] - 2s 7ms/step - loss: 0.2900 - accuracy: 0.8778 - val_loss: 0.3766 - val_accuracy: 0.8330\n",
            "Epoch 66/100\n",
            "313/313 [==============================] - 2s 8ms/step - loss: 0.2789 - accuracy: 0.8830 - val_loss: 0.3789 - val_accuracy: 0.8370\n",
            "Epoch 67/100\n",
            "313/313 [==============================] - 2s 7ms/step - loss: 0.2870 - accuracy: 0.8789 - val_loss: 0.3924 - val_accuracy: 0.8340\n",
            "Epoch 68/100\n",
            "313/313 [==============================] - 2s 7ms/step - loss: 0.2833 - accuracy: 0.8861 - val_loss: 0.3680 - val_accuracy: 0.8360\n",
            "Epoch 69/100\n",
            "313/313 [==============================] - 2s 7ms/step - loss: 0.2663 - accuracy: 0.8847 - val_loss: 0.3896 - val_accuracy: 0.8370\n",
            "Epoch 70/100\n",
            "313/313 [==============================] - 2s 7ms/step - loss: 0.2767 - accuracy: 0.8820 - val_loss: 0.3836 - val_accuracy: 0.8320\n",
            "Epoch 71/100\n",
            "313/313 [==============================] - 2s 7ms/step - loss: 0.2756 - accuracy: 0.8830 - val_loss: 0.4112 - val_accuracy: 0.8400\n",
            "Epoch 72/100\n",
            "313/313 [==============================] - 2s 7ms/step - loss: 0.2689 - accuracy: 0.8888 - val_loss: 0.3887 - val_accuracy: 0.8380\n",
            "Epoch 73/100\n",
            "313/313 [==============================] - 2s 7ms/step - loss: 0.2693 - accuracy: 0.8821 - val_loss: 0.3704 - val_accuracy: 0.8400\n",
            "Epoch 74/100\n",
            "313/313 [==============================] - 2s 7ms/step - loss: 0.2722 - accuracy: 0.8847 - val_loss: 0.3861 - val_accuracy: 0.8370\n",
            "Epoch 75/100\n",
            "313/313 [==============================] - 2s 7ms/step - loss: 0.2635 - accuracy: 0.8875 - val_loss: 0.3845 - val_accuracy: 0.8360\n",
            "Epoch 76/100\n",
            "313/313 [==============================] - 2s 7ms/step - loss: 0.2649 - accuracy: 0.8880 - val_loss: 0.3866 - val_accuracy: 0.8400\n",
            "Epoch 77/100\n",
            "313/313 [==============================] - 2s 6ms/step - loss: 0.2560 - accuracy: 0.8917 - val_loss: 0.4112 - val_accuracy: 0.8400\n",
            "Epoch 78/100\n",
            "313/313 [==============================] - 2s 7ms/step - loss: 0.2548 - accuracy: 0.8921 - val_loss: 0.3737 - val_accuracy: 0.8350\n",
            "Epoch 79/100\n",
            "313/313 [==============================] - 2s 7ms/step - loss: 0.2422 - accuracy: 0.8972 - val_loss: 0.3953 - val_accuracy: 0.8450\n",
            "Epoch 80/100\n",
            "313/313 [==============================] - 2s 7ms/step - loss: 0.2513 - accuracy: 0.8952 - val_loss: 0.3966 - val_accuracy: 0.8420\n",
            "Epoch 81/100\n",
            "313/313 [==============================] - 2s 6ms/step - loss: 0.2414 - accuracy: 0.8950 - val_loss: 0.4142 - val_accuracy: 0.8390\n",
            "Epoch 82/100\n",
            "313/313 [==============================] - 2s 7ms/step - loss: 0.2485 - accuracy: 0.8957 - val_loss: 0.4002 - val_accuracy: 0.8400\n",
            "Epoch 83/100\n",
            "313/313 [==============================] - 2s 7ms/step - loss: 0.2412 - accuracy: 0.9024 - val_loss: 0.3911 - val_accuracy: 0.8380\n",
            "Epoch 84/100\n",
            "313/313 [==============================] - 2s 6ms/step - loss: 0.2473 - accuracy: 0.8957 - val_loss: 0.4026 - val_accuracy: 0.8410\n",
            "Epoch 85/100\n",
            "313/313 [==============================] - 2s 7ms/step - loss: 0.2438 - accuracy: 0.8966 - val_loss: 0.4090 - val_accuracy: 0.8360\n",
            "Epoch 86/100\n",
            "313/313 [==============================] - 2s 7ms/step - loss: 0.2382 - accuracy: 0.9011 - val_loss: 0.4069 - val_accuracy: 0.8440\n",
            "Epoch 87/100\n",
            "313/313 [==============================] - 2s 7ms/step - loss: 0.2378 - accuracy: 0.9028 - val_loss: 0.4062 - val_accuracy: 0.8440\n",
            "Epoch 88/100\n",
            "313/313 [==============================] - 2s 7ms/step - loss: 0.2253 - accuracy: 0.9030 - val_loss: 0.4186 - val_accuracy: 0.8440\n",
            "Epoch 89/100\n",
            "313/313 [==============================] - 2s 6ms/step - loss: 0.2228 - accuracy: 0.9067 - val_loss: 0.4008 - val_accuracy: 0.8470\n",
            "Epoch 90/100\n",
            "313/313 [==============================] - 2s 6ms/step - loss: 0.2263 - accuracy: 0.9076 - val_loss: 0.4383 - val_accuracy: 0.8430\n",
            "Epoch 91/100\n",
            "313/313 [==============================] - 2s 7ms/step - loss: 0.2216 - accuracy: 0.9043 - val_loss: 0.3916 - val_accuracy: 0.8410\n",
            "Epoch 92/100\n",
            "313/313 [==============================] - 2s 7ms/step - loss: 0.2230 - accuracy: 0.9078 - val_loss: 0.3978 - val_accuracy: 0.8440\n",
            "Epoch 93/100\n",
            "313/313 [==============================] - 2s 7ms/step - loss: 0.2268 - accuracy: 0.9055 - val_loss: 0.4186 - val_accuracy: 0.8400\n",
            "Epoch 94/100\n",
            "313/313 [==============================] - 2s 7ms/step - loss: 0.2303 - accuracy: 0.9084 - val_loss: 0.4145 - val_accuracy: 0.8440\n",
            "Epoch 95/100\n",
            "313/313 [==============================] - 2s 6ms/step - loss: 0.1962 - accuracy: 0.9173 - val_loss: 0.3991 - val_accuracy: 0.8490\n",
            "Epoch 96/100\n",
            "313/313 [==============================] - 2s 7ms/step - loss: 0.2194 - accuracy: 0.9051 - val_loss: 0.4239 - val_accuracy: 0.8430\n",
            "Epoch 97/100\n",
            "313/313 [==============================] - 2s 6ms/step - loss: 0.2146 - accuracy: 0.9122 - val_loss: 0.4447 - val_accuracy: 0.8490\n",
            "Epoch 98/100\n",
            "313/313 [==============================] - 2s 6ms/step - loss: 0.2059 - accuracy: 0.9140 - val_loss: 0.4062 - val_accuracy: 0.8460\n",
            "Epoch 99/100\n",
            "313/313 [==============================] - 2s 7ms/step - loss: 0.2066 - accuracy: 0.9176 - val_loss: 0.4556 - val_accuracy: 0.8440\n",
            "Epoch 100/100\n",
            "313/313 [==============================] - 2s 7ms/step - loss: 0.2055 - accuracy: 0.9157 - val_loss: 0.4404 - val_accuracy: 0.8430\n"
          ],
          "name": "stdout"
        }
      ]
    },
    {
      "cell_type": "markdown",
      "metadata": {
        "id": "606_QTT9P1Xw"
      },
      "source": [
        "## Evaluating the Model\n",
        "\n",
        "### Plotting Out Training History"
      ]
    },
    {
      "cell_type": "code",
      "metadata": {
        "colab": {
          "base_uri": "https://localhost:8080/",
          "height": 312
        },
        "id": "gF6a-Kw4L-25",
        "outputId": "94f489b0-0988-4710-a1b1-d836bf0b5cd3"
      },
      "source": [
        "import matplotlib.pyplot as plt\n",
        "%matplotlib inline\n",
        "print(history.history.keys())\n",
        "# summarize history for accuracy\n",
        "plt.plot(history.history['accuracy'])\n",
        "plt.plot(history.history['val_accuracy'])\n",
        "plt.title('model accuracy')\n",
        "plt.ylabel('accuracy')\n",
        "plt.xlabel('epoch')\n",
        "plt.legend(['train', 'test'], loc='upper left')\n",
        "plt.show()"
      ],
      "execution_count": 154,
      "outputs": [
        {
          "output_type": "stream",
          "text": [
            "dict_keys(['loss', 'accuracy', 'val_loss', 'val_accuracy'])\n"
          ],
          "name": "stdout"
        },
        {
          "output_type": "display_data",
          "data": {
            "image/png": "[encoded data removed]",
            "text/plain": [
              "<Figure size 432x288 with 1 Axes>"
            ]
          },
          "metadata": {
            "tags": [],
            "needs_background": "light"
          }
        }
      ]
    },
    {
      "cell_type": "code",
      "metadata": {
        "id": "gLX61rotL-x_"
      },
      "source": [
        ""
      ],
      "execution_count": 154,
      "outputs": []
    },
    {
      "cell_type": "code",
      "metadata": {
        "colab": {
          "base_uri": "https://localhost:8080/"
        },
        "id": "awz6k5r4L-tp",
        "outputId": "78c6020c-6474-4ca4-b573-67a534e4984b"
      },
      "source": [
        "## mount\n",
        "from google.colab import drive\n",
        "\n",
        "drive.mount('/content/gdrive')\n",
        "\n",
        "root_path = '/content/gdrive/My Drive/SoftComProject/'\n"
      ],
      "execution_count": 155,
      "outputs": [
        {
          "output_type": "stream",
          "text": [
            "Drive already mounted at /content/gdrive; to attempt to forcibly remount, call drive.mount(\"/content/gdrive\", force_remount=True).\n"
          ],
          "name": "stdout"
        }
      ]
    },
    {
      "cell_type": "code",
      "metadata": {
        "id": "7yGMm-hkL-p8"
      },
      "source": [
        "##Save Model\n",
        "\n",
        "save_model = True\n",
        "\n",
        "if save_model is True:\n",
        "    # Saves only parameters\n",
        "    # wights & biases\n",
        "    model.save( root_path + 'QABot.h5') "
      ],
      "execution_count": 156,
      "outputs": []
    },
    {
      "cell_type": "code",
      "metadata": {
        "colab": {
          "base_uri": "https://localhost:8080/"
        },
        "id": "4_h4aR2PHDUI",
        "outputId": "d6bbdba6-ca04-496a-bda7-8fde323b0057"
      },
      "source": [
        "#Load Model\n",
        "load_model = True\n",
        "if load_model is True:\n",
        "    model.load_weights(root_path + 'QABot.h5')\n",
        "    print('Trained Model Loaded')"
      ],
      "execution_count": 157,
      "outputs": [
        {
          "output_type": "stream",
          "text": [
            "Trained Model Loaded\n"
          ],
          "name": "stdout"
        }
      ]
    },
    {
      "cell_type": "code",
      "metadata": {
        "id": "I_mEHh35sooG"
      },
      "source": [
        "pred_results = model.predict(([inputs_test, queries_test]))"
      ],
      "execution_count": 158,
      "outputs": []
    },
    {
      "cell_type": "code",
      "metadata": {
        "colab": {
          "base_uri": "https://localhost:8080/"
        },
        "id": "TPCvnsyyxY_f",
        "outputId": "8936a996-bb81-4304-94b5-1c3e51dde150"
      },
      "source": [
        "test_data[0][0]"
      ],
      "execution_count": 159,
      "outputs": [
        {
          "output_type": "execute_result",
          "data": {
            "text/plain": [
              "['Mary',\n",
              " 'got',\n",
              " 'the',\n",
              " 'milk',\n",
              " 'there',\n",
              " '.',\n",
              " 'John',\n",
              " 'moved',\n",
              " 'to',\n",
              " 'the',\n",
              " 'bedroom',\n",
              " '.']"
            ]
          },
          "metadata": {
            "tags": []
          },
          "execution_count": 159
        }
      ]
    },
    {
      "cell_type": "code",
      "metadata": {
        "colab": {
          "base_uri": "https://localhost:8080/"
        },
        "id": "KFlymueCxaof",
        "outputId": "cc559f4f-f175-4bc8-e3ca-b7ebb3fb3b1b"
      },
      "source": [
        "pred_results"
      ],
      "execution_count": 160,
      "outputs": [
        {
          "output_type": "execute_result",
          "data": {
            "text/plain": [
              "array([[1.13774228e-15, 1.06459442e-15, 1.11959481e-15, ...,\n",
              "        1.17635046e-15, 1.29405469e-15, 1.17962181e-15],\n",
              "       [1.31822970e-16, 1.13819417e-16, 1.10429975e-16, ...,\n",
              "        1.15724765e-16, 1.38542456e-16, 1.10478011e-16],\n",
              "       [4.86164354e-16, 5.66122411e-16, 5.32691821e-16, ...,\n",
              "        4.90663846e-16, 4.86275633e-16, 5.75011228e-16],\n",
              "       ...,\n",
              "       [2.14069131e-17, 2.14557217e-17, 2.14426308e-17, ...,\n",
              "        2.37699829e-17, 2.85656303e-17, 2.49247022e-17],\n",
              "       [3.66744726e-16, 4.03369980e-16, 3.45618665e-16, ...,\n",
              "        3.37481087e-16, 2.70685816e-16, 4.25926600e-16],\n",
              "       [8.39558676e-17, 8.33648239e-17, 9.48615822e-17, ...,\n",
              "        1.10270395e-16, 9.55337756e-17, 1.00475889e-16]], dtype=float32)"
            ]
          },
          "metadata": {
            "tags": []
          },
          "execution_count": 160
        }
      ]
    },
    {
      "cell_type": "code",
      "metadata": {
        "colab": {
          "base_uri": "https://localhost:8080/"
        },
        "id": "p5cFPdSXxj9P",
        "outputId": "6cd10cfa-122b-40f9-b89c-0469a08a274c"
      },
      "source": [
        "pred_results.shape ## 1000 test data and 37 vocab + 1"
      ],
      "execution_count": 161,
      "outputs": [
        {
          "output_type": "execute_result",
          "data": {
            "text/plain": [
              "(1000, 38)"
            ]
          },
          "metadata": {
            "tags": []
          },
          "execution_count": 161
        }
      ]
    },
    {
      "cell_type": "code",
      "metadata": {
        "colab": {
          "base_uri": "https://localhost:8080/"
        },
        "id": "f5LJWv7bxmkX",
        "outputId": "4363be08-6a84-40ce-e988-3081d9b0f5ac"
      },
      "source": [
        "pred_results[0] #probability"
      ],
      "execution_count": 162,
      "outputs": [
        {
          "output_type": "execute_result",
          "data": {
            "text/plain": [
              "array([1.1377423e-15, 1.0645944e-15, 1.1195948e-15, 1.1829476e-15,\n",
              "       1.1870203e-15, 1.1391973e-15, 1.0410444e-15, 1.2453256e-15,\n",
              "       1.2677336e-15, 1.2666315e-15, 9.9474427e-16, 5.6588103e-04,\n",
              "       1.0298386e-15, 1.3049655e-15, 1.2079690e-15, 1.3442445e-15,\n",
              "       1.2663127e-15, 9.9943405e-01, 1.4067585e-15, 1.2606397e-15,\n",
              "       1.3132152e-15, 1.1032721e-15, 1.2875795e-15, 1.2975248e-15,\n",
              "       1.1776840e-15, 1.3121386e-15, 9.9866804e-16, 1.2119062e-15,\n",
              "       1.2386595e-15, 1.2402102e-15, 1.1457477e-15, 1.3013267e-15,\n",
              "       1.1116834e-15, 1.1507585e-15, 9.7870972e-16, 1.1763505e-15,\n",
              "       1.2940547e-15, 1.1796218e-15], dtype=float32)"
            ]
          },
          "metadata": {
            "tags": []
          },
          "execution_count": 162
        }
      ]
    },
    {
      "cell_type": "code",
      "metadata": {
        "colab": {
          "base_uri": "https://localhost:8080/"
        },
        "id": "9QEZsFISxx9X",
        "outputId": "b4f07586-d004-4656-b786-33e5adf29273"
      },
      "source": [
        "test_data[0]"
      ],
      "execution_count": 163,
      "outputs": [
        {
          "output_type": "execute_result",
          "data": {
            "text/plain": [
              "(['Mary',\n",
              "  'got',\n",
              "  'the',\n",
              "  'milk',\n",
              "  'there',\n",
              "  '.',\n",
              "  'John',\n",
              "  'moved',\n",
              "  'to',\n",
              "  'the',\n",
              "  'bedroom',\n",
              "  '.'],\n",
              " ['Is', 'John', 'in', 'the', 'kitchen', '?'],\n",
              " 'no')"
            ]
          },
          "metadata": {
            "tags": []
          },
          "execution_count": 163
        }
      ]
    },
    {
      "cell_type": "code",
      "metadata": {
        "id": "SNiyIXFOyQ2m"
      },
      "source": [
        "val_max = np.argmax(pred_results[0])"
      ],
      "execution_count": 164,
      "outputs": []
    },
    {
      "cell_type": "code",
      "metadata": {
        "id": "nSOYbzzPyX69"
      },
      "source": [
        "for key,val in tokenizer.word_index.items():\n",
        "  if val == val_max:\n",
        "    k = key"
      ],
      "execution_count": 165,
      "outputs": []
    },
    {
      "cell_type": "code",
      "metadata": {
        "colab": {
          "base_uri": "https://localhost:8080/",
          "height": 35
        },
        "id": "bi4mCty3yqbD",
        "outputId": "ef2268de-6b78-4ab5-bf19-168d25c4bdd5"
      },
      "source": [
        "k "
      ],
      "execution_count": 166,
      "outputs": [
        {
          "output_type": "execute_result",
          "data": {
            "application/vnd.google.colaboratory.intrinsic+json": {
              "type": "string"
            },
            "text/plain": [
              "'no'"
            ]
          },
          "metadata": {
            "tags": []
          },
          "execution_count": 166
        }
      ]
    },
    {
      "cell_type": "code",
      "metadata": {
        "colab": {
          "base_uri": "https://localhost:8080/"
        },
        "id": "enwAeHAtyrDY",
        "outputId": "38158346-84b4-4e57-d203-060e2c56afbe"
      },
      "source": [
        "pred_results[0][val_max]"
      ],
      "execution_count": 167,
      "outputs": [
        {
          "output_type": "execute_result",
          "data": {
            "text/plain": [
              "0.99943405"
            ]
          },
          "metadata": {
            "tags": []
          },
          "execution_count": 167
        }
      ]
    },
    {
      "cell_type": "code",
      "metadata": {
        "colab": {
          "base_uri": "https://localhost:8080/"
        },
        "id": "ZDdiED7Jy0tp",
        "outputId": "320dd890-7b4a-4f58-a2a4-70ca81249516"
      },
      "source": [
        "vocab"
      ],
      "execution_count": 168,
      "outputs": [
        {
          "output_type": "execute_result",
          "data": {
            "text/plain": [
              "{'.',\n",
              " '?',\n",
              " 'Daniel',\n",
              " 'Is',\n",
              " 'John',\n",
              " 'Mary',\n",
              " 'Sandra',\n",
              " 'apple',\n",
              " 'back',\n",
              " 'bathroom',\n",
              " 'bedroom',\n",
              " 'discarded',\n",
              " 'down',\n",
              " 'dropped',\n",
              " 'football',\n",
              " 'garden',\n",
              " 'got',\n",
              " 'grabbed',\n",
              " 'hallway',\n",
              " 'in',\n",
              " 'journeyed',\n",
              " 'kitchen',\n",
              " 'left',\n",
              " 'milk',\n",
              " 'moved',\n",
              " 'no',\n",
              " 'office',\n",
              " 'picked',\n",
              " 'put',\n",
              " 'the',\n",
              " 'there',\n",
              " 'to',\n",
              " 'took',\n",
              " 'travelled',\n",
              " 'up',\n",
              " 'went',\n",
              " 'yes'}"
            ]
          },
          "metadata": {
            "tags": []
          },
          "execution_count": 168
        }
      ]
    },
    {
      "cell_type": "code",
      "metadata": {
        "colab": {
          "base_uri": "https://localhost:8080/"
        },
        "id": "_hNp6Jpxy4KT",
        "outputId": "0e5feac5-e021-4277-e2d7-61de399975f8"
      },
      "source": [
        "# Note the whitespace of the periods\n",
        "my_story = \"John left the kitchen . Sandra dropped the football in the garden .\"\n",
        "my_story.split()"
      ],
      "execution_count": 169,
      "outputs": [
        {
          "output_type": "execute_result",
          "data": {
            "text/plain": [
              "['John',\n",
              " 'left',\n",
              " 'the',\n",
              " 'kitchen',\n",
              " '.',\n",
              " 'Sandra',\n",
              " 'dropped',\n",
              " 'the',\n",
              " 'football',\n",
              " 'in',\n",
              " 'the',\n",
              " 'garden',\n",
              " '.']"
            ]
          },
          "metadata": {
            "tags": []
          },
          "execution_count": 169
        }
      ]
    },
    {
      "cell_type": "code",
      "metadata": {
        "id": "KZ17oBrgzQ7D"
      },
      "source": [
        "my_question = \"Is the football in the garden ?\""
      ],
      "execution_count": 170,
      "outputs": []
    },
    {
      "cell_type": "code",
      "metadata": {
        "colab": {
          "base_uri": "https://localhost:8080/"
        },
        "id": "gRUi0JQ3zcS-",
        "outputId": "859620b7-4d7f-412f-da56-356cb1f93407"
      },
      "source": [
        "my_question.split()"
      ],
      "execution_count": 171,
      "outputs": [
        {
          "output_type": "execute_result",
          "data": {
            "text/plain": [
              "['Is', 'the', 'football', 'in', 'the', 'garden', '?']"
            ]
          },
          "metadata": {
            "tags": []
          },
          "execution_count": 171
        }
      ]
    },
    {
      "cell_type": "code",
      "metadata": {
        "id": "uFll560fzfGl"
      },
      "source": [
        "mydata = [(my_story.split(),my_question.split(),'yes')]"
      ],
      "execution_count": 172,
      "outputs": []
    },
    {
      "cell_type": "code",
      "metadata": {
        "colab": {
          "base_uri": "https://localhost:8080/"
        },
        "id": "KTDad5oazvny",
        "outputId": "b230fa9b-1494-4c9f-cdeb-45aedc86cbd3"
      },
      "source": [
        "mydata"
      ],
      "execution_count": 173,
      "outputs": [
        {
          "output_type": "execute_result",
          "data": {
            "text/plain": [
              "[(['John',\n",
              "   'left',\n",
              "   'the',\n",
              "   'kitchen',\n",
              "   '.',\n",
              "   'Sandra',\n",
              "   'dropped',\n",
              "   'the',\n",
              "   'football',\n",
              "   'in',\n",
              "   'the',\n",
              "   'garden',\n",
              "   '.'],\n",
              "  ['Is', 'the', 'football', 'in', 'the', 'garden', '?'],\n",
              "  'yes')]"
            ]
          },
          "metadata": {
            "tags": []
          },
          "execution_count": 173
        }
      ]
    },
    {
      "cell_type": "code",
      "metadata": {
        "id": "iK9TZPuQz8QW"
      },
      "source": [
        "my_story,my_ques,my_ans = vectorize_stories(mydata)"
      ],
      "execution_count": 174,
      "outputs": []
    },
    {
      "cell_type": "code",
      "metadata": {
        "colab": {
          "base_uri": "https://localhost:8080/"
        },
        "id": "VRwtjxxT0LQi",
        "outputId": "980775f4-2bda-49f4-81ec-fbbe75a31aee"
      },
      "source": [
        "my_story"
      ],
      "execution_count": 175,
      "outputs": [
        {
          "output_type": "execute_result",
          "data": {
            "text/plain": [
              "array([[ 0,  0,  0,  0,  0,  0,  0,  0,  0,  0,  0,  0,  0,  0,  0,  0,\n",
              "         0,  0,  0,  0,  0,  0,  0,  0,  0,  0,  0,  0,  0,  0,  0,  0,\n",
              "         0,  0,  0,  0,  0,  0,  0,  0,  0,  0,  0,  0,  0,  0,  0,  0,\n",
              "         0,  0,  0,  0,  0,  0,  0,  0,  0,  0,  0,  0,  0,  0,  0,  0,\n",
              "         0,  0,  0,  0,  0,  0,  0,  0,  0,  0,  0,  0,  0,  0,  0,  0,\n",
              "         0,  0,  0,  0,  0,  0,  0,  0,  0,  0,  0,  0,  0,  0,  0,  0,\n",
              "         0,  0,  0,  0,  0,  0,  0,  0,  0,  0,  0,  0,  0,  0,  0,  0,\n",
              "         0,  0,  0,  0,  0,  0,  0,  0,  0,  0,  0,  0,  0,  0,  0,  0,\n",
              "         0,  0,  0,  0,  0,  0,  0,  0,  0,  0,  0,  0,  0,  0,  0,  6,\n",
              "         5,  8, 34, 25, 27, 28,  8, 21, 13,  8,  2, 25]], dtype=int32)"
            ]
          },
          "metadata": {
            "tags": []
          },
          "execution_count": 175
        }
      ]
    },
    {
      "cell_type": "code",
      "metadata": {
        "id": "2hCRLw0F08ky"
      },
      "source": [
        "pred_results = model.predict(([ my_story, my_ques]))"
      ],
      "execution_count": 176,
      "outputs": []
    },
    {
      "cell_type": "code",
      "metadata": {
        "colab": {
          "base_uri": "https://localhost:8080/"
        },
        "id": "CtzKAYOB1DJ8",
        "outputId": "a74313ec-c366-4116-9584-da963ec784ca"
      },
      "source": [
        "#Generate prediction from model\n",
        "val_max = np.argmax(pred_results[0])\n",
        "\n",
        "for key, val in tokenizer.word_index.items():\n",
        "    if val == val_max:\n",
        "        k = key\n",
        "\n",
        "print(\"Predicted answer is: \", k)\n",
        "print(\"Probability of certainty was: \", pred_results[0][val_max])"
      ],
      "execution_count": 177,
      "outputs": [
        {
          "output_type": "stream",
          "text": [
            "Predicted answer is:  no\n",
            "Probability of certainty was:  0.7153269\n"
          ],
          "name": "stdout"
        }
      ]
    },
    {
      "cell_type": "code",
      "metadata": {
        "id": "oKckJ9aP1Fql"
      },
      "source": [
        ""
      ],
      "execution_count": 177,
      "outputs": []
    }
  ]
}